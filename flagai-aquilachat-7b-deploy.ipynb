{
 "cells": [
  {
   "cell_type": "code",
   "execution_count": 36,
   "id": "f7215b8b",
   "metadata": {
    "tags": []
   },
   "outputs": [],
   "source": [
    "import sagemaker\n",
    "\n",
    "sagemaker_session = sagemaker.Session()\n",
    "bucket = sagemaker_session.default_bucket()\n",
    "role = sagemaker.get_execution_role()\n",
    "\n",
    "import boto3\n",
    "\n",
    "account_id = boto3.client(\"sts\").get_caller_identity().get(\"Account\")\n",
    "region_name = boto3.session.Session().region_name"
   ]
  },
  {
   "cell_type": "code",
   "execution_count": 142,
   "id": "4cc166c4-e1e7-41a2-bc73-ac77e7b0a7c3",
   "metadata": {
    "tags": []
   },
   "outputs": [
    {
     "name": "stdout",
     "output_type": "stream",
     "text": [
      "cn-nor\n"
     ]
    }
   ],
   "source": [
    "suffix = \"com\"\n",
    "if region_name.startswith('cn'):\n",
    "    print(region_name)"
   ]
  },
  {
   "cell_type": "code",
   "execution_count": 78,
   "id": "8f381162",
   "metadata": {
    "tags": []
   },
   "outputs": [],
   "source": [
    "model_name = None\n",
    "image_uri = \"{0}.dkr.ecr.{1}.amazonaws.com/aquila-chat-7b-inference-api:latest\".format(\n",
    "    account_id, region_name\n",
    ")\n",
    "base_name = sagemaker.utils.base_name_from_image(image_uri)"
   ]
  },
  {
   "cell_type": "markdown",
   "id": "fa851597-9e64-4179-b9bf-829bf09bb7e2",
   "metadata": {},
   "source": [
    "## 2 下载模型文件\n",
    "### （方式1）去官网下载:\n",
    "https://model.baai.ac.cn/model-detail/100101\n",
    "\n",
    "模型下载后，放入aquilachat-7b 目录下，并将这个目录打包成model.tar.gz文件  \n",
    "\n",
    "`tar czvf model.tar.gz aquilachat-7b`  \n",
    "例如：  \n",
    "`aws s3 cp model.tar.gz s3://sagemaker-{region}-{accountid}/model/aquila-chat-7b/model.tar.gz`  \n",
    "\n",
    "### （方式2）从临时S3拉取，需要提前联系开权限\n",
    "### 联系AWS开通临时s3权限，直接使用已经打包好的s3://sagemaker-us-east-2-946277762357/model/aquila-chat-7b/model.tar.gz"
   ]
  },
  {
   "cell_type": "code",
   "execution_count": 141,
   "id": "c68d258f",
   "metadata": {
    "tags": []
   },
   "outputs": [
    {
     "name": "stdout",
     "output_type": "stream",
     "text": [
      "s3://sagemaker-us-east-2-946277762357/model/aquila-chat-7b/model.tar.gz\n"
     ]
    }
   ],
   "source": [
    "## 方式1\n",
    "# model_data = f\"s3://{bucket}/model/aquila-chat-7b/model.tar.gz\"\n",
    "\n",
    "##方式2\n",
    "model_data = \"s3://sagemaker-us-east-2-946277762357/model/aquila-chat-7b/model.tar.gz\"\n",
    "\n",
    "print(model_data)"
   ]
  },
  {
   "cell_type": "code",
   "execution_count": 125,
   "id": "e27b63f5",
   "metadata": {
    "tags": []
   },
   "outputs": [],
   "source": [
    "from sagemaker.model import Model\n",
    "from sagemaker.predictor import Predictor\n",
    "\n",
    "model = Model(\n",
    "    name=model_name,\n",
    "    model_data=model_data,\n",
    "    role=role,\n",
    "    image_uri=image_uri,\n",
    "    predictor_cls=Predictor,\n",
    ")"
   ]
  },
  {
   "cell_type": "code",
   "execution_count": 126,
   "id": "cca4dd0b",
   "metadata": {
    "tags": []
   },
   "outputs": [],
   "source": [
    "instance_type = \"ml.g5.4xlarge\"\n",
    "instance_count = 1"
   ]
  },
  {
   "cell_type": "code",
   "execution_count": 127,
   "id": "4f648c8d",
   "metadata": {
    "tags": []
   },
   "outputs": [
    {
     "name": "stdout",
     "output_type": "stream",
     "text": [
      "-----------------!"
     ]
    }
   ],
   "source": [
    "predictor = model.deploy(\n",
    "    instance_type=instance_type,\n",
    "    initial_instance_count=instance_count,\n",
    "    container_startup_health_check_timeout=1200,\n",
    ")"
   ]
  },
  {
   "cell_type": "code",
   "execution_count": 132,
   "id": "88258280",
   "metadata": {
    "tags": []
   },
   "outputs": [
    {
     "name": "stdout",
     "output_type": "stream",
     "text": [
      "aquila-chat-7b-inference-api-2023-06-19-09-33-46-180\n"
     ]
    }
   ],
   "source": [
    "print(predictor.endpoint_name)"
   ]
  },
  {
   "cell_type": "code",
   "execution_count": 133,
   "id": "dc845cba",
   "metadata": {
    "tags": []
   },
   "outputs": [],
   "source": [
    "from sagemaker.serializers import JSONSerializer\n",
    "from sagemaker.deserializers import JSONDeserializer\n",
    "\n",
    "predictor.serializer = JSONSerializer()\n",
    "predictor.deserializer = JSONDeserializer()\n",
    "\n",
    "inputs = {\n",
    "    \"inputs\": \"user:你好？\",\n",
    "    \"max_length\":200,\n",
    "}\n",
    "\n",
    "prediction = predictor.predict(inputs)"
   ]
  },
  {
   "cell_type": "code",
   "execution_count": 134,
   "id": "00c78cd8-395e-4263-ae05-052f85cc8ec2",
   "metadata": {
    "tags": []
   },
   "outputs": [
    {
     "data": {
      "text/plain": [
       "'你好！有什么我可以为您效劳的吗？\\n'"
      ]
     },
     "execution_count": 134,
     "metadata": {},
     "output_type": "execute_result"
    }
   ],
   "source": [
    "prediction['outputs']"
   ]
  },
  {
   "cell_type": "code",
   "execution_count": 124,
   "id": "81e12384",
   "metadata": {
    "tags": []
   },
   "outputs": [],
   "source": [
    "#删除模型节点\n",
    "predictor.delete_endpoint()"
   ]
  },
  {
   "cell_type": "code",
   "execution_count": null,
   "id": "4e6210d2-351b-4968-8734-7703a2bf4b34",
   "metadata": {},
   "outputs": [],
   "source": []
  }
 ],
 "metadata": {
  "kernelspec": {
   "display_name": "conda_python3",
   "language": "python",
   "name": "conda_python3"
  },
  "language_info": {
   "codemirror_mode": {
    "name": "ipython",
    "version": 3
   },
   "file_extension": ".py",
   "mimetype": "text/x-python",
   "name": "python",
   "nbconvert_exporter": "python",
   "pygments_lexer": "ipython3",
   "version": "3.10.8"
  }
 },
 "nbformat": 4,
 "nbformat_minor": 5
}
