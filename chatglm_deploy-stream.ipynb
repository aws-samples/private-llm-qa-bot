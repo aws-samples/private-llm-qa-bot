{
 "cells": [
  {
   "cell_type": "markdown",
   "id": "c261e5f4-17a8-40da-beb9-599f1717e0fe",
   "metadata": {},
   "source": [
    "### 1. 安装HuggingFace 并下载模型到本地"
   ]
  },
  {
   "cell_type": "code",
   "execution_count": 1,
   "id": "02785614-9268-41c8-85a5-d579490edbbf",
   "metadata": {
    "tags": []
   },
   "outputs": [
    {
     "name": "stdout",
     "output_type": "stream",
     "text": [
      "Looking in indexes: https://pypi.org/simple, https://pip.repos.neuron.amazonaws.com\n",
      "Requirement already satisfied: sagemaker in /home/ec2-user/anaconda3/envs/pytorch_p39/lib/python3.9/site-packages (2.159.0)\n",
      "Collecting sagemaker\n",
      "  Downloading sagemaker-2.168.0.tar.gz (844 kB)\n",
      "\u001b[2K     \u001b[90m━━━━━━━━━━━━━━━━━━━━━━━━━━━━━━━━━━━━━━\u001b[0m \u001b[32m844.7/844.7 kB\u001b[0m \u001b[31m19.9 MB/s\u001b[0m eta \u001b[36m0:00:00\u001b[0ma \u001b[36m0:00:01\u001b[0m\n",
      "\u001b[?25h  Preparing metadata (setup.py) ... \u001b[?25ldone\n",
      "\u001b[?25hRequirement already satisfied: attrs<24,>=23.1.0 in /home/ec2-user/anaconda3/envs/pytorch_p39/lib/python3.9/site-packages (from sagemaker) (23.1.0)\n",
      "Requirement already satisfied: boto3<2.0,>=1.26.131 in /home/ec2-user/anaconda3/envs/pytorch_p39/lib/python3.9/site-packages (from sagemaker) (1.26.140)\n",
      "Requirement already satisfied: cloudpickle==2.2.1 in /home/ec2-user/anaconda3/envs/pytorch_p39/lib/python3.9/site-packages (from sagemaker) (2.2.1)\n",
      "Requirement already satisfied: google-pasta in /home/ec2-user/anaconda3/envs/pytorch_p39/lib/python3.9/site-packages (from sagemaker) (0.2.0)\n",
      "Requirement already satisfied: numpy<2.0,>=1.9.0 in /home/ec2-user/anaconda3/envs/pytorch_p39/lib/python3.9/site-packages (from sagemaker) (1.23.5)\n",
      "Requirement already satisfied: protobuf<4.0,>=3.1 in /home/ec2-user/anaconda3/envs/pytorch_p39/lib/python3.9/site-packages (from sagemaker) (3.20.2)\n",
      "Requirement already satisfied: protobuf3-to-dict<1.0,>=0.1.5 in /home/ec2-user/anaconda3/envs/pytorch_p39/lib/python3.9/site-packages (from sagemaker) (0.1.5)\n",
      "Requirement already satisfied: smdebug_rulesconfig==1.0.1 in /home/ec2-user/anaconda3/envs/pytorch_p39/lib/python3.9/site-packages (from sagemaker) (1.0.1)\n",
      "Requirement already satisfied: importlib-metadata<5.0,>=1.4.0 in /home/ec2-user/anaconda3/envs/pytorch_p39/lib/python3.9/site-packages (from sagemaker) (4.13.0)\n",
      "Requirement already satisfied: packaging>=20.0 in /home/ec2-user/anaconda3/envs/pytorch_p39/lib/python3.9/site-packages (from sagemaker) (21.3)\n",
      "Requirement already satisfied: pandas in /home/ec2-user/anaconda3/envs/pytorch_p39/lib/python3.9/site-packages (from sagemaker) (1.4.4)\n",
      "Requirement already satisfied: pathos in /home/ec2-user/anaconda3/envs/pytorch_p39/lib/python3.9/site-packages (from sagemaker) (0.3.0)\n",
      "Requirement already satisfied: schema in /home/ec2-user/anaconda3/envs/pytorch_p39/lib/python3.9/site-packages (from sagemaker) (0.7.5)\n",
      "Requirement already satisfied: PyYAML==6.0 in /home/ec2-user/anaconda3/envs/pytorch_p39/lib/python3.9/site-packages (from sagemaker) (6.0)\n",
      "Requirement already satisfied: jsonschema in /home/ec2-user/anaconda3/envs/pytorch_p39/lib/python3.9/site-packages (from sagemaker) (3.2.0)\n",
      "Requirement already satisfied: platformdirs in /home/ec2-user/anaconda3/envs/pytorch_p39/lib/python3.9/site-packages (from sagemaker) (2.6.2)\n",
      "Requirement already satisfied: tblib==1.7.0 in /home/ec2-user/anaconda3/envs/pytorch_p39/lib/python3.9/site-packages (from sagemaker) (1.7.0)\n",
      "Requirement already satisfied: s3transfer<0.7.0,>=0.6.0 in /home/ec2-user/anaconda3/envs/pytorch_p39/lib/python3.9/site-packages (from boto3<2.0,>=1.26.131->sagemaker) (0.6.0)\n",
      "Requirement already satisfied: jmespath<2.0.0,>=0.7.1 in /home/ec2-user/anaconda3/envs/pytorch_p39/lib/python3.9/site-packages (from boto3<2.0,>=1.26.131->sagemaker) (1.0.1)\n",
      "Requirement already satisfied: botocore<1.30.0,>=1.29.140 in /home/ec2-user/anaconda3/envs/pytorch_p39/lib/python3.9/site-packages (from boto3<2.0,>=1.26.131->sagemaker) (1.29.140)\n",
      "Requirement already satisfied: zipp>=0.5 in /home/ec2-user/anaconda3/envs/pytorch_p39/lib/python3.9/site-packages (from importlib-metadata<5.0,>=1.4.0->sagemaker) (3.11.0)\n",
      "Requirement already satisfied: pyparsing!=3.0.5,>=2.0.2 in /home/ec2-user/anaconda3/envs/pytorch_p39/lib/python3.9/site-packages (from packaging>=20.0->sagemaker) (3.0.9)\n",
      "Requirement already satisfied: six in /home/ec2-user/anaconda3/envs/pytorch_p39/lib/python3.9/site-packages (from protobuf3-to-dict<1.0,>=0.1.5->sagemaker) (1.16.0)\n",
      "Requirement already satisfied: pyrsistent>=0.14.0 in /home/ec2-user/anaconda3/envs/pytorch_p39/lib/python3.9/site-packages (from jsonschema->sagemaker) (0.19.3)\n",
      "Requirement already satisfied: setuptools in /home/ec2-user/anaconda3/envs/pytorch_p39/lib/python3.9/site-packages (from jsonschema->sagemaker) (65.6.3)\n",
      "Requirement already satisfied: python-dateutil>=2.8.1 in /home/ec2-user/anaconda3/envs/pytorch_p39/lib/python3.9/site-packages (from pandas->sagemaker) (2.8.2)\n",
      "Requirement already satisfied: pytz>=2020.1 in /home/ec2-user/anaconda3/envs/pytorch_p39/lib/python3.9/site-packages (from pandas->sagemaker) (2022.7)\n",
      "Requirement already satisfied: dill>=0.3.6 in /home/ec2-user/anaconda3/envs/pytorch_p39/lib/python3.9/site-packages (from pathos->sagemaker) (0.3.6)\n",
      "Requirement already satisfied: pox>=0.3.2 in /home/ec2-user/anaconda3/envs/pytorch_p39/lib/python3.9/site-packages (from pathos->sagemaker) (0.3.2)\n",
      "Requirement already satisfied: multiprocess>=0.70.14 in /home/ec2-user/anaconda3/envs/pytorch_p39/lib/python3.9/site-packages (from pathos->sagemaker) (0.70.14)\n",
      "Requirement already satisfied: ppft>=1.7.6.6 in /home/ec2-user/anaconda3/envs/pytorch_p39/lib/python3.9/site-packages (from pathos->sagemaker) (1.7.6.6)\n",
      "Requirement already satisfied: contextlib2>=0.5.5 in /home/ec2-user/anaconda3/envs/pytorch_p39/lib/python3.9/site-packages (from schema->sagemaker) (21.6.0)\n",
      "Requirement already satisfied: urllib3<1.27,>=1.25.4 in /home/ec2-user/anaconda3/envs/pytorch_p39/lib/python3.9/site-packages (from botocore<1.30.0,>=1.29.140->boto3<2.0,>=1.26.131->sagemaker) (1.26.8)\n",
      "Building wheels for collected packages: sagemaker\n",
      "  Building wheel for sagemaker (setup.py) ... \u001b[?25ldone\n",
      "\u001b[?25h  Created wheel for sagemaker: filename=sagemaker-2.168.0-py2.py3-none-any.whl size=1151019 sha256=b548c0d9f0519ac230e8495a9872543e532fa6c1a6d4363a099e6566a04ab61d\n",
      "  Stored in directory: /home/ec2-user/.cache/pip/wheels/81/33/1d/c4fb556086a08d8e4ede95111dba93971c1caa14d095afdaa9\n",
      "Successfully built sagemaker\n",
      "Installing collected packages: sagemaker\n",
      "  Attempting uninstall: sagemaker\n",
      "    Found existing installation: sagemaker 2.159.0\n",
      "    Uninstalling sagemaker-2.159.0:\n",
      "      Successfully uninstalled sagemaker-2.159.0\n",
      "Successfully installed sagemaker-2.168.0\n"
     ]
    }
   ],
   "source": [
    "!pip install huggingface-hub -Uqq\n",
    "!pip install -U sagemaker"
   ]
  },
  {
   "cell_type": "code",
   "execution_count": 3,
   "id": "9e6bd7ee-16a3-4f5a-8857-8bbba83eb9e7",
   "metadata": {
    "tags": []
   },
   "outputs": [],
   "source": [
    "from huggingface_hub import snapshot_download\n",
    "from pathlib import Path\n",
    "\n",
    "local_model_path = Path(\"./LLM_chatglm_model\")\n",
    "local_model_path.mkdir(exist_ok=True)\n",
    "model_name = \"THUDM/chatglm-6b\"\n",
    "commit_hash = \"f83182484538e663a03d3f73647f10f89878f438\""
   ]
  },
  {
   "cell_type": "code",
   "execution_count": 4,
   "id": "94e8abc5-a58e-40e2-b1e6-fbf48307c716",
   "metadata": {
    "tags": []
   },
   "outputs": [
    {
     "data": {
      "application/json": {
       "ascii": false,
       "bar_format": null,
       "colour": null,
       "elapsed": 0.011066675186157227,
       "initial": 0,
       "n": 0,
       "ncols": null,
       "nrows": null,
       "postfix": null,
       "prefix": "Fetching 21 files",
       "rate": null,
       "total": 21,
       "unit": "it",
       "unit_divisor": 1000,
       "unit_scale": false
      },
      "application/vnd.jupyter.widget-view+json": {
       "model_id": "1569328789014042b4769a6f55a0ae07",
       "version_major": 2,
       "version_minor": 0
      },
      "text/plain": [
       "Fetching 21 files:   0%|          | 0/21 [00:00<?, ?it/s]"
      ]
     },
     "metadata": {},
     "output_type": "display_data"
    },
    {
     "data": {
      "text/plain": [
       "'LLM_chatglm_model/models--THUDM--chatglm-6b/snapshots/f83182484538e663a03d3f73647f10f89878f438'"
      ]
     },
     "execution_count": 4,
     "metadata": {},
     "output_type": "execute_result"
    }
   ],
   "source": [
    "snapshot_download(repo_id=model_name, revision=commit_hash, cache_dir=local_model_path)"
   ]
  },
  {
   "cell_type": "code",
   "execution_count": null,
   "id": "fa3e3d80-a121-402d-9ce3-86038ad9762f",
   "metadata": {},
   "outputs": [],
   "source": []
  },
  {
   "cell_type": "markdown",
   "id": "8d666c79-b039-4258-ac3b-46b19e63c3b8",
   "metadata": {},
   "source": [
    "### 2. 把模型拷贝到S3为后续部署做准备"
   ]
  },
  {
   "cell_type": "code",
   "execution_count": 4,
   "id": "bc40aa14-fbfa-48dc-9c47-46a88e561bac",
   "metadata": {
    "tags": []
   },
   "outputs": [
    {
     "name": "stdout",
     "output_type": "stream",
     "text": [
      "Note: you may need to restart the kernel to use updated packages.\n"
     ]
    }
   ],
   "source": [
    "%pip install sagemaker pip --upgrade  --quiet"
   ]
  },
  {
   "cell_type": "code",
   "execution_count": 5,
   "id": "62ddd8de-238b-4c62-8f32-6f433048250d",
   "metadata": {
    "tags": []
   },
   "outputs": [
    {
     "name": "stdout",
     "output_type": "stream",
     "text": [
      "Looking in indexes: https://pypi.org/simple, https://pip.repos.neuron.amazonaws.com\n",
      "Processing ./botocore-1.29.157-py3-none-any.whl\n",
      "Processing ./boto3-1.26.157-py3-none-any.whl\n",
      "Collecting jmespath<2.0.0,>=0.7.1 (from botocore==1.29.157)\n",
      "  Using cached jmespath-1.0.1-py3-none-any.whl (20 kB)\n",
      "Collecting python-dateutil<3.0.0,>=2.1 (from botocore==1.29.157)\n",
      "  Using cached python_dateutil-2.8.2-py2.py3-none-any.whl (247 kB)\n",
      "Collecting urllib3<1.27,>=1.25.4 (from botocore==1.29.157)\n",
      "  Downloading urllib3-1.26.16-py2.py3-none-any.whl (143 kB)\n",
      "\u001b[2K     \u001b[90m━━━━━━━━━━━━━━━━━━━━━━━━━━━━━━━━━━━━━━━\u001b[0m \u001b[32m143.1/143.1 kB\u001b[0m \u001b[31m7.9 MB/s\u001b[0m eta \u001b[36m0:00:00\u001b[0m\n",
      "\u001b[?25hCollecting s3transfer<0.7.0,>=0.6.0 (from boto3==1.26.157)\n",
      "  Downloading s3transfer-0.6.1-py3-none-any.whl (79 kB)\n",
      "\u001b[2K     \u001b[90m━━━━━━━━━━━━━━━━━━━━━━━━━━━━━━━━━━━━━━━━\u001b[0m \u001b[32m79.8/79.8 kB\u001b[0m \u001b[31m18.3 MB/s\u001b[0m eta \u001b[36m0:00:00\u001b[0m\n",
      "\u001b[?25hCollecting six>=1.5 (from python-dateutil<3.0.0,>=2.1->botocore==1.29.157)\n",
      "  Using cached six-1.16.0-py2.py3-none-any.whl (11 kB)\n",
      "Installing collected packages: urllib3, six, jmespath, python-dateutil, botocore, s3transfer, boto3\n",
      "  Attempting uninstall: urllib3\n",
      "    Found existing installation: urllib3 1.26.8\n",
      "    Uninstalling urllib3-1.26.8:\n",
      "      Successfully uninstalled urllib3-1.26.8\n",
      "  Attempting uninstall: six\n",
      "    Found existing installation: six 1.16.0\n",
      "    Uninstalling six-1.16.0:\n",
      "      Successfully uninstalled six-1.16.0\n",
      "  Attempting uninstall: jmespath\n",
      "    Found existing installation: jmespath 1.0.1\n",
      "    Uninstalling jmespath-1.0.1:\n",
      "      Successfully uninstalled jmespath-1.0.1\n",
      "  Attempting uninstall: python-dateutil\n",
      "    Found existing installation: python-dateutil 2.8.2\n",
      "    Uninstalling python-dateutil-2.8.2:\n",
      "      Successfully uninstalled python-dateutil-2.8.2\n",
      "  Attempting uninstall: botocore\n",
      "    Found existing installation: botocore 1.29.140\n",
      "    Uninstalling botocore-1.29.140:\n",
      "      Successfully uninstalled botocore-1.29.140\n",
      "  Attempting uninstall: s3transfer\n",
      "    Found existing installation: s3transfer 0.6.0\n",
      "    Uninstalling s3transfer-0.6.0:\n",
      "      Successfully uninstalled s3transfer-0.6.0\n",
      "  Attempting uninstall: boto3\n",
      "    Found existing installation: boto3 1.26.140\n",
      "    Uninstalling boto3-1.26.140:\n",
      "      Successfully uninstalled boto3-1.26.140\n",
      "\u001b[31mERROR: pip's dependency resolver does not currently take into account all the packages that are installed. This behaviour is the source of the following dependency conflicts.\n",
      "awscli 1.27.114 requires botocore==1.29.114, but you have botocore 1.29.157 which is incompatible.\n",
      "awscli 1.27.114 requires PyYAML<5.5,>=3.10, but you have pyyaml 6.0 which is incompatible.\n",
      "distributed 2022.11.0 requires tornado<6.2,>=6.0.3, but you have tornado 6.2 which is incompatible.\n",
      "docker-compose 1.29.2 requires PyYAML<6,>=3.10, but you have pyyaml 6.0 which is incompatible.\n",
      "jupyter-events 0.6.0 requires jsonschema[format-nongpl]>=4.3.0, but you have jsonschema 3.2.0 which is incompatible.\n",
      "jupyterlab 3.3.4 requires jupyter-server~=1.4, but you have jupyter-server 2.0.6 which is incompatible.\n",
      "jupyterlab-server 2.18.0 requires jsonschema>=4.17.3, but you have jsonschema 3.2.0 which is incompatible.\u001b[0m\u001b[31m\n",
      "\u001b[0mSuccessfully installed boto3-1.26.157 botocore-1.29.157 jmespath-1.0.1 python-dateutil-2.8.2 s3transfer-0.6.1 six-1.16.0 urllib3-1.26.16\n",
      "Note: you may need to restart the kernel to use updated packages.\n"
     ]
    }
   ],
   "source": [
    "# Note the following may error depending on which awscli is installed in your jupyter kernel, \n",
    "# but that is ok \n",
    "\n",
    "%pip install botocore-*-py3-none-any.whl boto3-*-py3-none-any.whl --force"
   ]
  },
  {
   "cell_type": "code",
   "execution_count": 5,
   "id": "e9431deb-6359-442d-847b-1563f8dd3854",
   "metadata": {
    "tags": []
   },
   "outputs": [],
   "source": [
    "import sagemaker\n",
    "from sagemaker import image_uris\n",
    "import boto3\n",
    "import os\n",
    "import time\n",
    "import json\n",
    "\n",
    "role = sagemaker.get_execution_role()  # execution role for the endpoint\n",
    "sess = sagemaker.session.Session()  # sagemaker session for interacting with different AWS APIs\n",
    "bucket = sess.default_bucket()  # bucket to house artifacts\n",
    "\n",
    "region = sess._region_name\n",
    "account_id = sess.account_id()\n",
    "\n",
    "s3_client = boto3.client(\"s3\")\n",
    "sm_client = boto3.client(\"sagemaker\")\n",
    "smr_client = boto3.client(\"sagemaker-runtime\")"
   ]
  },
  {
   "cell_type": "code",
   "execution_count": 6,
   "id": "40dd8f16-ae7c-48bf-8e52-1a15425fa74d",
   "metadata": {
    "tags": []
   },
   "outputs": [
    {
     "name": "stdout",
     "output_type": "stream",
     "text": [
      "s3_code_prefix: LLM-RAG/workshop/LLM_chatglm_deploy_code\n",
      "model_snapshot_path: LLM_chatglm_model/models--THUDM--chatglm-6b/snapshots/f83182484538e663a03d3f73647f10f89878f438\n"
     ]
    }
   ],
   "source": [
    "s3_model_prefix = \"LLM-RAG/workshop/LLM_chatglm_model\"  # folder where model checkpoint will go\n",
    "model_snapshot_path = list(local_model_path.glob(\"**/snapshots/*\"))[0]\n",
    "s3_code_prefix = \"LLM-RAG/workshop/LLM_chatglm_deploy_code\"\n",
    "print(f\"s3_code_prefix: {s3_code_prefix}\")\n",
    "print(f\"model_snapshot_path: {model_snapshot_path}\")"
   ]
  },
  {
   "cell_type": "code",
   "execution_count": 7,
   "id": "067292c9-c066-4649-a61f-b460a24da584",
   "metadata": {
    "tags": []
   },
   "outputs": [
    {
     "name": "stdout",
     "output_type": "stream",
     "text": [
      "upload: LLM_chatglm_model/models--THUDM--chatglm-6b/snapshots/f83182484538e663a03d3f73647f10f89878f438/config.json to s3://sagemaker-us-west-2-946277762357/LLM-RAG/workshop/LLM_chatglm_model/config.json\n",
      "upload: LLM_chatglm_model/models--THUDM--chatglm-6b/snapshots/f83182484538e663a03d3f73647f10f89878f438/.gitattributes to s3://sagemaker-us-west-2-946277762357/LLM-RAG/workshop/LLM_chatglm_model/.gitattributes\n",
      "upload: LLM_chatglm_model/models--THUDM--chatglm-6b/snapshots/f83182484538e663a03d3f73647f10f89878f438/LICENSE to s3://sagemaker-us-west-2-946277762357/LLM-RAG/workshop/LLM_chatglm_model/LICENSE\n",
      "upload: LLM_chatglm_model/models--THUDM--chatglm-6b/snapshots/f83182484538e663a03d3f73647f10f89878f438/README.md to s3://sagemaker-us-west-2-946277762357/LLM-RAG/workshop/LLM_chatglm_model/README.md\n",
      "upload: LLM_chatglm_model/models--THUDM--chatglm-6b/snapshots/f83182484538e663a03d3f73647f10f89878f438/configuration_chatglm.py to s3://sagemaker-us-west-2-946277762357/LLM-RAG/workshop/LLM_chatglm_model/configuration_chatglm.py\n",
      "upload: LLM_chatglm_model/models--THUDM--chatglm-6b/snapshots/f83182484538e663a03d3f73647f10f89878f438/MODEL_LICENSE to s3://sagemaker-us-west-2-946277762357/LLM-RAG/workshop/LLM_chatglm_model/MODEL_LICENSE\n",
      "upload: LLM_chatglm_model/models--THUDM--chatglm-6b/snapshots/f83182484538e663a03d3f73647f10f89878f438/modeling_chatglm.py to s3://sagemaker-us-west-2-946277762357/LLM-RAG/workshop/LLM_chatglm_model/modeling_chatglm.py\n",
      "upload: LLM_chatglm_model/models--THUDM--chatglm-6b/snapshots/f83182484538e663a03d3f73647f10f89878f438/ice_text.model to s3://sagemaker-us-west-2-946277762357/LLM-RAG/workshop/LLM_chatglm_model/ice_text.model\n",
      "upload: LLM_chatglm_model/models--THUDM--chatglm-6b/snapshots/f83182484538e663a03d3f73647f10f89878f438/pytorch_model-00002-of-00008.bin to s3://sagemaker-us-west-2-946277762357/LLM-RAG/workshop/LLM_chatglm_model/pytorch_model-00002-of-00008.bin\n",
      "upload: LLM_chatglm_model/models--THUDM--chatglm-6b/snapshots/f83182484538e663a03d3f73647f10f89878f438/pytorch_model-00004-of-00008.bin to s3://sagemaker-us-west-2-946277762357/LLM-RAG/workshop/LLM_chatglm_model/pytorch_model-00004-of-00008.bin\n",
      "upload: LLM_chatglm_model/models--THUDM--chatglm-6b/snapshots/f83182484538e663a03d3f73647f10f89878f438/pytorch_model-00001-of-00008.bin to s3://sagemaker-us-west-2-946277762357/LLM-RAG/workshop/LLM_chatglm_model/pytorch_model-00001-of-00008.bin\n",
      "upload: LLM_chatglm_model/models--THUDM--chatglm-6b/snapshots/f83182484538e663a03d3f73647f10f89878f438/pytorch_model.bin.index.json to s3://sagemaker-us-west-2-946277762357/LLM-RAG/workshop/LLM_chatglm_model/pytorch_model.bin.index.json\n",
      "upload: LLM_chatglm_model/models--THUDM--chatglm-6b/snapshots/f83182484538e663a03d3f73647f10f89878f438/pytorch_model-00005-of-00008.bin to s3://sagemaker-us-west-2-946277762357/LLM-RAG/workshop/LLM_chatglm_model/pytorch_model-00005-of-00008.bin\n",
      "upload: LLM_chatglm_model/models--THUDM--chatglm-6b/snapshots/f83182484538e663a03d3f73647f10f89878f438/quantization.py to s3://sagemaker-us-west-2-946277762357/LLM-RAG/workshop/LLM_chatglm_model/quantization.py\n",
      "upload: LLM_chatglm_model/models--THUDM--chatglm-6b/snapshots/f83182484538e663a03d3f73647f10f89878f438/test_modeling_chatglm.py to s3://sagemaker-us-west-2-946277762357/LLM-RAG/workshop/LLM_chatglm_model/test_modeling_chatglm.py\n",
      "upload: LLM_chatglm_model/models--THUDM--chatglm-6b/snapshots/f83182484538e663a03d3f73647f10f89878f438/tokenization_chatglm.py to s3://sagemaker-us-west-2-946277762357/LLM-RAG/workshop/LLM_chatglm_model/tokenization_chatglm.py\n",
      "upload: LLM_chatglm_model/models--THUDM--chatglm-6b/snapshots/f83182484538e663a03d3f73647f10f89878f438/tokenizer_config.json to s3://sagemaker-us-west-2-946277762357/LLM-RAG/workshop/LLM_chatglm_model/tokenizer_config.json\n",
      "upload: LLM_chatglm_model/models--THUDM--chatglm-6b/snapshots/f83182484538e663a03d3f73647f10f89878f438/pytorch_model-00003-of-00008.bin to s3://sagemaker-us-west-2-946277762357/LLM-RAG/workshop/LLM_chatglm_model/pytorch_model-00003-of-00008.bin\n",
      "upload: LLM_chatglm_model/models--THUDM--chatglm-6b/snapshots/f83182484538e663a03d3f73647f10f89878f438/pytorch_model-00007-of-00008.bin to s3://sagemaker-us-west-2-946277762357/LLM-RAG/workshop/LLM_chatglm_model/pytorch_model-00007-of-00008.bin\n",
      "upload: LLM_chatglm_model/models--THUDM--chatglm-6b/snapshots/f83182484538e663a03d3f73647f10f89878f438/pytorch_model-00008-of-00008.bin to s3://sagemaker-us-west-2-946277762357/LLM-RAG/workshop/LLM_chatglm_model/pytorch_model-00008-of-00008.bin\n",
      "upload: LLM_chatglm_model/models--THUDM--chatglm-6b/snapshots/f83182484538e663a03d3f73647f10f89878f438/pytorch_model-00006-of-00008.bin to s3://sagemaker-us-west-2-946277762357/LLM-RAG/workshop/LLM_chatglm_model/pytorch_model-00006-of-00008.bin\n"
     ]
    }
   ],
   "source": [
    "!aws s3 cp --recursive {model_snapshot_path} s3://{bucket}/{s3_model_prefix}"
   ]
  },
  {
   "cell_type": "markdown",
   "id": "696b70c3-90f1-4175-95bf-568bafbcd383",
   "metadata": {},
   "source": [
    "### 3. 模型部署准备（entrypoint脚本，容器镜像，服务配置）"
   ]
  },
  {
   "cell_type": "code",
   "execution_count": 7,
   "id": "6f7c4277-4480-42c6-aee6-1fbcca94eb82",
   "metadata": {
    "tags": []
   },
   "outputs": [],
   "source": [
    "# inference_image_uri = (\n",
    "#     f\"763104351884.dkr.ecr.{region}.amazonaws.com/djl-inference:0.21.0-deepspeed0.8.3-cu117\"\n",
    "# )\n",
    "\n",
    "# print(f\"Image going to be used is ---- > {inference_image_uri}\")"
   ]
  },
  {
   "cell_type": "code",
   "execution_count": 8,
   "id": "68d60730-528b-4707-9189-6bf6f5cad754",
   "metadata": {
    "tags": []
   },
   "outputs": [
    {
     "name": "stdout",
     "output_type": "stream",
     "text": [
      "Image going to be used is ---- > 763104351884.dkr.ecr.us-west-2.amazonaws.com/djl-inference:0.22.1-deepspeed0.8.3-cu118\n"
     ]
    }
   ],
   "source": [
    "inference_image_uri = image_uris.retrieve(\n",
    "    framework=\"djl-deepspeed\",\n",
    "    region=sess.boto_session.region_name,\n",
    "    version=\"0.22.1\"\n",
    ")\n",
    "print(f\"Image going to be used is ---- > {inference_image_uri}\")"
   ]
  },
  {
   "cell_type": "code",
   "execution_count": 9,
   "id": "8d771bdb-11d2-45d2-9bef-face29221838",
   "metadata": {
    "tags": []
   },
   "outputs": [],
   "source": [
    "!mkdir -p LLM_chatglm_deploy_code"
   ]
  },
  {
   "cell_type": "code",
   "execution_count": 102,
   "id": "e5348ecb-43df-4094-97d8-a6723004862a",
   "metadata": {
    "tags": []
   },
   "outputs": [
    {
     "name": "stdout",
     "output_type": "stream",
     "text": [
      "Overwriting LLM_chatglm_deploy_code/model.py\n"
     ]
    }
   ],
   "source": [
    "%%writefile LLM_chatglm_deploy_code/model.py\n",
    "from djl_python import Input, Output\n",
    "import torch\n",
    "import logging\n",
    "import math\n",
    "import os\n",
    "\n",
    "from transformers import pipeline, AutoModel, AutoTokenizer\n",
    "model = None\n",
    "tokenizer = None\n",
    "STOP_flag = \"[DONE]\"\n",
    "\n",
    "DEVICE = \"cuda\"\n",
    "DEVICE_ID = \"0\"\n",
    "CUDA_DEVICE = f\"{DEVICE}:{DEVICE_ID}\" if DEVICE_ID else DEVICE\n",
    "def torch_gc():\n",
    "    if torch.cuda.is_available():\n",
    "        with torch.cuda.device(CUDA_DEVICE):\n",
    "            torch.cuda.empty_cache()\n",
    "            torch.cuda.ipc_collect()\n",
    "            \n",
    "def load_model(properties):\n",
    "    global tokenizer,model\n",
    "    tensor_parallel = properties[\"tensor_parallel_degree\"]\n",
    "    model_location = properties['model_dir']\n",
    "    if \"model_id\" in properties:\n",
    "        model_location = properties['model_id']\n",
    "    logging.info(f\"Loading model in {model_location}\")\n",
    "    \n",
    "    tokenizer = AutoTokenizer.from_pretrained(model_location, trust_remote_code=True)\n",
    "   \n",
    "    model = AutoModel.from_pretrained(model_location, trust_remote_code=True).half().cuda()\n",
    "    \n",
    "    model.requires_grad_(False)\n",
    "    model.eval()\n",
    "    \n",
    "    return model, tokenizer\n",
    "\n",
    "\n",
    "\n",
    "def stream_items(prompt, history, max_length, top_p, temperature):\n",
    "    global model, tokenizer\n",
    "    size = 0\n",
    "    response = \"\"\n",
    "    for response, history in model.stream_chat(tokenizer, prompt, history=history, max_length=max_length, top_p=top_p,\n",
    "                                               temperature=temperature):\n",
    "        this_response = response[size:]\n",
    "        history = [list(h) for h in history]\n",
    "        size = len(response)\n",
    "        stream_buffer = { \"outputs\":this_response,\"finished\": False}\n",
    "        yield stream_buffer\n",
    "    ## stop\n",
    "    yield {\"query\": prompt, \"outputs\": STOP_flag, \"response\": response, \"history\": history, \"finished\": True}\n",
    "    \n",
    "\n",
    "\n",
    "def handle(inputs: Input):\n",
    "    global model, tokenizer\n",
    "    if not model:\n",
    "        model, tokenizer = load_model(inputs.get_properties())\n",
    "\n",
    "    if inputs.is_empty():\n",
    "        return None\n",
    "    data = inputs.get_as_json()\n",
    "    \n",
    "    input_sentences = data[\"inputs\"]\n",
    "    params = data[\"parameters\"]\n",
    "    history = data[\"history\"]\n",
    "    print(f'input prompt:{input_sentences}')    \n",
    "    outputs = Output()\n",
    "    outputs.add_property(\"content-type\", \"application/jsonlines\")\n",
    "    outputs.add_stream_content(stream_items(input_sentences,history=history,**params))\n",
    "    return outputs\n"
   ]
  },
  {
   "cell_type": "markdown",
   "id": "a06d1e60-3914-4059-a08f-05ac26761165",
   "metadata": {},
   "source": [
    "#### Note: option.s3url 需要按照自己的账号进行修改"
   ]
  },
  {
   "cell_type": "code",
   "execution_count": 103,
   "id": "8996fe44-8e70-468b-abc1-38187cb33f4f",
   "metadata": {
    "tags": []
   },
   "outputs": [
    {
     "name": "stdout",
     "output_type": "stream",
     "text": [
      "Overwriting LLM_chatglm_deploy_code/serving.properties\n"
     ]
    }
   ],
   "source": [
    "%%writefile LLM_chatglm_deploy_code/serving.properties\n",
    "engine=Python\n",
    "option.tensor_parallel_degree=1\n",
    "option.enable_streaming=True\n",
    "option.predict_timeout=240\n",
    "option.s3url = s3://sagemaker-us-west-2-946277762357/LLM-RAG/workshop/LLM_chatglm_model/"
   ]
  },
  {
   "cell_type": "markdown",
   "id": "feef22a2-27b9-4018-a46b-6a99b532512f",
   "metadata": {},
   "source": [
    "#### 注意: 必须把transformers升级到4.27.1以上，否则会出现 [Issue344](https://github.com/THUDM/ChatGLM-6B/issues/344)"
   ]
  },
  {
   "cell_type": "code",
   "execution_count": 104,
   "id": "7b7e76c6-6dbc-47fc-9f47-4765c526ab76",
   "metadata": {
    "tags": []
   },
   "outputs": [
    {
     "name": "stdout",
     "output_type": "stream",
     "text": [
      "Overwriting LLM_chatglm_deploy_code/requirements.txt\n"
     ]
    }
   ],
   "source": [
    "%%writefile LLM_chatglm_deploy_code/requirements.txt\n",
    "transformers==4.28.1"
   ]
  },
  {
   "cell_type": "code",
   "execution_count": 105,
   "id": "0ae6734a-aacd-410d-818d-0a962697c3c4",
   "metadata": {
    "tags": []
   },
   "outputs": [
    {
     "name": "stdout",
     "output_type": "stream",
     "text": [
      "LLM_chatglm_deploy_code/\n",
      "LLM_chatglm_deploy_code/requirements.txt\n",
      "LLM_chatglm_deploy_code/serving.properties\n",
      "LLM_chatglm_deploy_code/model.py\n"
     ]
    }
   ],
   "source": [
    "!rm model.tar.gz\n",
    "!cd LLM_chatglm_deploy_code && rm -rf \".ipynb_checkpoints\"\n",
    "!tar czvf model.tar.gz LLM_chatglm_deploy_code"
   ]
  },
  {
   "cell_type": "code",
   "execution_count": 106,
   "id": "0f77dc76-6d8c-4665-ba88-f03e887c136c",
   "metadata": {
    "tags": []
   },
   "outputs": [
    {
     "name": "stdout",
     "output_type": "stream",
     "text": [
      "S3 Code or Model tar ball uploaded to --- > s3://sagemaker-us-west-2-946277762357/LLM-RAG/workshop/LLM_chatglm_deploy_code/model.tar.gz\n"
     ]
    }
   ],
   "source": [
    "s3_code_artifact = sess.upload_data(\"model.tar.gz\", bucket, s3_code_prefix)\n",
    "print(f\"S3 Code or Model tar ball uploaded to --- > {s3_code_artifact}\")"
   ]
  },
  {
   "cell_type": "markdown",
   "id": "a5853daa-b8a3-4485-8c0a-64bf83e93a18",
   "metadata": {},
   "source": [
    "### 4. 创建模型 & 创建endpoint"
   ]
  },
  {
   "cell_type": "code",
   "execution_count": 107,
   "id": "ef974ca1-9638-45a8-9145-ea9d03b2b072",
   "metadata": {
    "tags": []
   },
   "outputs": [
    {
     "name": "stdout",
     "output_type": "stream",
     "text": [
      "chatglm-stream-2023-06-25-07-34-15-297\n",
      "Image going to be used is ---- > 763104351884.dkr.ecr.us-west-2.amazonaws.com/djl-inference:0.22.1-deepspeed0.8.3-cu118\n",
      "Created Model: arn:aws:sagemaker:us-west-2:946277762357:model/chatglm-stream-2023-06-25-07-34-15-297\n"
     ]
    }
   ],
   "source": [
    "from sagemaker.utils import name_from_base\n",
    "import boto3\n",
    "\n",
    "model_name = name_from_base(f\"chatglm-stream\") # Append a timestamp to the provided string\n",
    "print(model_name)\n",
    "print(f\"Image going to be used is ---- > {inference_image_uri}\")\n",
    "\n",
    "create_model_response = sm_client.create_model(\n",
    "    ModelName=model_name,\n",
    "    ExecutionRoleArn=role,\n",
    "    PrimaryContainer={\n",
    "        \"Image\": inference_image_uri,\n",
    "        \"ModelDataUrl\": s3_code_artifact\n",
    "    },\n",
    "    \n",
    ")\n",
    "model_arn = create_model_response[\"ModelArn\"]\n",
    "\n",
    "print(f\"Created Model: {model_arn}\")"
   ]
  },
  {
   "cell_type": "code",
   "execution_count": 108,
   "id": "233bb3a4-d737-41ad-8fcc-7082c6278e8c",
   "metadata": {
    "tags": []
   },
   "outputs": [
    {
     "data": {
      "text/plain": [
       "{'EndpointConfigArn': 'arn:aws:sagemaker:us-west-2:946277762357:endpoint-config/chatglm-stream-2023-06-25-07-34-15-297-config',\n",
       " 'ResponseMetadata': {'RequestId': 'b523f4dd-34c1-4f4f-8c0d-b6ca7cd96372',\n",
       "  'HTTPStatusCode': 200,\n",
       "  'HTTPHeaders': {'x-amzn-requestid': 'b523f4dd-34c1-4f4f-8c0d-b6ca7cd96372',\n",
       "   'content-type': 'application/x-amz-json-1.1',\n",
       "   'content-length': '126',\n",
       "   'date': 'Sun, 25 Jun 2023 07:34:15 GMT'},\n",
       "  'RetryAttempts': 0}}"
      ]
     },
     "execution_count": 108,
     "metadata": {},
     "output_type": "execute_result"
    }
   ],
   "source": [
    "endpoint_config_name = f\"{model_name}-config\"\n",
    "endpoint_name = f\"{model_name}-endpoint\"\n",
    "\n",
    "#Note: ml.g4dn.2xlarge 也可以选择\n",
    "endpoint_config_response = sm_client.create_endpoint_config(\n",
    "    EndpointConfigName=endpoint_config_name,\n",
    "    ProductionVariants=[\n",
    "        {\n",
    "            \"VariantName\": \"variant1\",\n",
    "            \"ModelName\": model_name,\n",
    "            \"InstanceType\": \"ml.g5.2xlarge\",\n",
    "            \"InitialInstanceCount\": 1,\n",
    "            # \"VolumeSizeInGB\" : 400,\n",
    "            # \"ModelDataDownloadTimeoutInSeconds\": 2400,\n",
    "            \"ContainerStartupHealthCheckTimeoutInSeconds\": 15*60,\n",
    "        },\n",
    "    ],\n",
    ")\n",
    "endpoint_config_response"
   ]
  },
  {
   "cell_type": "code",
   "execution_count": 109,
   "id": "734a39b0-473e-4421-94c8-74d2b4105038",
   "metadata": {
    "tags": []
   },
   "outputs": [
    {
     "name": "stdout",
     "output_type": "stream",
     "text": [
      "Created Endpoint: arn:aws:sagemaker:us-west-2:946277762357:endpoint/chatglm-stream-2023-06-25-07-34-15-297-endpoint\n"
     ]
    }
   ],
   "source": [
    "create_endpoint_response = sm_client.create_endpoint(\n",
    "    EndpointName=f\"{endpoint_name}\", EndpointConfigName=endpoint_config_name\n",
    ")\n",
    "print(f\"Created Endpoint: {create_endpoint_response['EndpointArn']}\")"
   ]
  },
  {
   "cell_type": "markdown",
   "id": "1262e826-a810-401d-a5a9-f62febb24e5f",
   "metadata": {},
   "source": [
    "#### 持续检测模型部署进度"
   ]
  },
  {
   "cell_type": "code",
   "execution_count": 110,
   "id": "08969928-6b9e-4d9c-a033-a31f5f77bdfb",
   "metadata": {
    "tags": []
   },
   "outputs": [
    {
     "name": "stdout",
     "output_type": "stream",
     "text": [
      "Status: Creating\n",
      "Status: Creating\n",
      "Status: Creating\n",
      "Status: Creating\n",
      "Status: Creating\n",
      "Status: Creating\n",
      "Status: Creating\n",
      "Status: InService\n",
      "Arn: arn:aws:sagemaker:us-west-2:946277762357:endpoint/chatglm-stream-2023-06-25-07-34-15-297-endpoint\n",
      "Status: InService\n"
     ]
    }
   ],
   "source": [
    "import time\n",
    "\n",
    "resp = sm_client.describe_endpoint(EndpointName=endpoint_name)\n",
    "status = resp[\"EndpointStatus\"]\n",
    "print(\"Status: \" + status)\n",
    "\n",
    "while status == \"Creating\":\n",
    "    time.sleep(60)\n",
    "    resp = sm_client.describe_endpoint(EndpointName=endpoint_name)\n",
    "    status = resp[\"EndpointStatus\"]\n",
    "    print(\"Status: \" + status)\n",
    "\n",
    "print(\"Arn: \" + resp[\"EndpointArn\"])\n",
    "print(\"Status: \" + status)"
   ]
  },
  {
   "cell_type": "markdown",
   "id": "d985b427-3959-46f7-9a50-5a2b45e2d513",
   "metadata": {},
   "source": [
    "### 5. 模型测试"
   ]
  },
  {
   "cell_type": "code",
   "execution_count": 111,
   "id": "e56bfdaa-3469-4784-aa8a-e32177cde3f2",
   "metadata": {
    "tags": []
   },
   "outputs": [
    {
     "name": "stdout",
     "output_type": "stream",
     "text": [
      "CPU times: user 6.65 ms, sys: 0 ns, total: 6.65 ms\n",
      "Wall time: 13 ms\n"
     ]
    }
   ],
   "source": [
    "%%time\n",
    "import json\n",
    "import boto3\n",
    "\n",
    "smr_client = boto3.client(\"sagemaker-runtime\")\n",
    "\n",
    "parameters = {\n",
    "  \"max_length\": 2048,\n",
    "  \"temperature\": 0.01,\n",
    "  \"top_p\":1\n",
    "}"
   ]
  },
  {
   "cell_type": "code",
   "execution_count": 112,
   "id": "3a2b6b7b-2e54-4f83-9258-cfbb30cfc829",
   "metadata": {
    "tags": []
   },
   "outputs": [],
   "source": [
    "import io\n",
    "\n",
    "\n",
    "class StreamScanner:\n",
    "    \"\"\"\n",
    "    A helper class for parsing the InvokeEndpointWithResponseStream event stream. \n",
    "    \n",
    "    The output of the model will be in the following format:\n",
    "    ```\n",
    "    b'{\"outputs\": [\" a\"]}\\n'\n",
    "    b'{\"outputs\": [\" challenging\"]}\\n'\n",
    "    b'{\"outputs\": [\" problem\"]}\\n'\n",
    "    ...\n",
    "    ```\n",
    "    \n",
    "    While usually each PayloadPart event from the event stream will contain a byte array \n",
    "    with a full json, this is not guaranteed and some of the json objects may be split across\n",
    "    PayloadPart events. For example:\n",
    "    ```\n",
    "    {'PayloadPart': {'Bytes': b'{\"outputs\": '}}\n",
    "    {'PayloadPart': {'Bytes': b'[\" problem\"]}\\n'}}\n",
    "    ```\n",
    "    \n",
    "    This class accounts for this by concatenating bytes written via the 'write' function\n",
    "    and then exposing a method which will return lines (ending with a '\\n' character) within\n",
    "    the buffer via the 'readlines' function. It maintains the position of the last read \n",
    "    position to ensure that previous bytes are not exposed again. \n",
    "    \"\"\"\n",
    "    \n",
    "    def __init__(self):\n",
    "        self.buff = io.BytesIO()\n",
    "        self.read_pos = 0\n",
    "        \n",
    "    def write(self, content):\n",
    "        self.buff.seek(0, io.SEEK_END)\n",
    "        self.buff.write(content)\n",
    "        \n",
    "    def readlines(self):\n",
    "        self.buff.seek(self.read_pos)\n",
    "        for line in self.buff.readlines():\n",
    "            if line[-1] != b'\\n':\n",
    "                self.read_pos += len(line)\n",
    "                yield line[:-1]\n",
    "                \n",
    "    def reset(self):\n",
    "        self.read_pos = 0"
   ]
  },
  {
   "cell_type": "code",
   "execution_count": null,
   "id": "e2c13afb-2c4a-41da-a58e-4d52ea13a6d9",
   "metadata": {
    "tags": []
   },
   "outputs": [
    {
     "name": "stdout",
     "output_type": "stream",
     "text": [
      "中国的首都是北京，位于中国北方平原地区的中心地带，是中国的政治、文化、经济、科技和交通中心。\n",
      "\n",
      "北京是中国的历史文化名城，有着悠久的历史和文化底蕴。作为中国的首都，北京有着众多的名胜古迹，如故宫、长城、颐和园、圆明园等，这些景点不仅吸引着众多游客前来观光，也是中国文化遗产的重要组成部分。\n",
      "\n",
      "北京还是中国的科技创新中心，是中国重要的经济中心之一。北京拥有众多高等院校和科研机构，是中国重要的科技人才培养基地。近年来，北京更是成为了全球科技创新的重要聚集地之一，吸引了许多的科技企业前来发展。\n",
      "\n",
      "北京还是中国的文化中心，是中国重要的文化旅游胜地。北京文化遗产和民俗文化，如相声、京剧、评剧、驴打滚等，这些文化产品不仅在国内广受欢迎，也在国际上享有很高的声誉。此外，北京还是中国重要的艺术旅游胜地，吸引了许多的艺术家前来创作和演出。\n",
      "\n",
      "北京作为中国的首都，不仅有着和文化底蕴，还是中国的重要经济中心"
     ]
    }
   ],
   "source": [
    "prompts1 = \"\"\"写一篇500字左右的文章，介绍中国的首都\"\"\"\n",
    "# prompts1 = \"\"\"write a 500 words story about scifiction\"\"\"\n",
    "response_model = smr_client.invoke_endpoint_with_response_stream(\n",
    "            EndpointName=endpoint_name,\n",
    "            Body=json.dumps(\n",
    "            {\n",
    "                \"inputs\": prompts1,\n",
    "                \"parameters\": parameters,\n",
    "                \"history\" : []\n",
    "            }\n",
    "            ),\n",
    "            ContentType=\"application/json\",\n",
    "        )\n",
    "\n",
    "event_stream = response_model['Body']\n",
    "scanner = StreamScanner()\n",
    "for event in event_stream:\n",
    "    scanner.write(event['PayloadPart']['Bytes'])\n",
    "    for line in scanner.readlines():\n",
    "        try:\n",
    "            resp = json.loads(line)\n",
    "            print(resp.get(\"outputs\")['outputs'], end='')\n",
    "        except Exception as e:\n",
    "            # print(line)\n",
    "            continue"
   ]
  },
  {
   "cell_type": "code",
   "execution_count": 87,
   "id": "bd86caf8-01e9-41eb-9199-478ba471a02b",
   "metadata": {
    "tags": []
   },
   "outputs": [
    {
     "data": {
      "text/plain": [
       "'{\"outputs\": {\"outputs\": \"AWS\", \"response\": \"AWS\", \"finished\": false}}\\n{\"outputs\": {\"outputs\": \" Clean\", \"response\": \"AWS Clean\", \"finished\": false}}\\n{\"outputs\": {\"outputs\": \" Room\", \"response\": \"AWS Clean Room\", \"finished\": false}}\\n{\"outputs\": {\"outputs\": \"s\", \"response\": \"AWS Clean Rooms\", \"finished\": false}}\\n{\"outputs\": {\"outputs\": \"\\\\u662f\\\\u4e00\\\\u79cd\", \"response\": \"AWS Clean Rooms\\\\u662f\\\\u4e00\\\\u79cd\", \"finished\": false}}\\n{\"outputs\": {\"outputs\": \"\\\\u6570\\\\u636e\", \"response\": \"AWS Clean Rooms\\\\u662f\\\\u4e00\\\\u79cd\\\\u6570\\\\u636e\", \"finished\": false}}\\n{\"outputs\": {\"outputs\": \"\\\\u9690\\\\u79c1\", \"response\": \"AWS Clean Rooms\\\\u662f\\\\u4e00\\\\u79cd\\\\u6570\\\\u636e\\\\u9690\\\\u79c1\", \"finished\": false}}\\n{\"outputs\": {\"outputs\": \"\\\\u4fdd\\\\u62a4\", \"response\": \"AWS Clean Rooms\\\\u662f\\\\u4e00\\\\u79cd\\\\u6570\\\\u636e\\\\u9690\\\\u79c1\\\\u4fdd\\\\u62a4\", \"finished\": false}}\\n{\"outputs\": {\"outputs\": \"\\\\u6280\\\\u672f\", \"response\": \"AWS Clean Rooms\\\\u662f\\\\u4e00\\\\u79cd\\\\u6570\\\\u636e\\\\u9690\\\\u79c1\\\\u4fdd\\\\u62a4\\\\u6280\\\\u672f\", \"finished\": false}}\\n{\"outputs\": {\"outputs\": \"\\\\uff0c\", \"response\": \"AWS Clean Rooms\\\\u662f\\\\u4e00\\\\u79cd\\\\u6570\\\\u636e\\\\u9690\\\\u79c1\\\\u4fdd\\\\u62a4\\\\u6280\\\\u672f\\\\uff0c\", \"finished\": false}}\\n{\"outputs\": {\"outputs\": \"\\\\u4f7f\\\\u7528\", \"response\": \"AWS Clean Rooms\\\\u662f\\\\u4e00\\\\u79cd\\\\u6570\\\\u636e\\\\u9690\\\\u79c1\\\\u4fdd\\\\u62a4\\\\u6280\\\\u672f\\\\uff0c\\\\u4f7f\\\\u7528\", \"finished\": false}}\\n{\"outputs\": {\"outputs\": \"\\\\u8be5\", \"response\": \"AWS Clean Rooms\\\\u662f\\\\u4e00\\\\u79cd\\\\u6570\\\\u636e\\\\u9690\\\\u79c1\\\\u4fdd\\\\u62a4\\\\u6280\\\\u672f\\\\uff0c\\\\u4f7f\\\\u7528\\\\u8be5\", \"finished\": false}}\\n{\"outputs\": {\"outputs\": \"\\\\u6280\\\\u672f\", \"response\": \"AWS Clean Rooms\\\\u662f\\\\u4e00\\\\u79cd\\\\u6570\\\\u636e\\\\u9690\\\\u79c1\\\\u4fdd\\\\u62a4\\\\u6280\\\\u672f\\\\uff0c\\\\u4f7f\\\\u7528\\\\u8be5\\\\u6280\\\\u672f\", \"finished\": false}}\\n{\"outputs\": {\"outputs\": \"\\\\uff0c\", \"response\": \"AWS Clean Rooms\\\\u662f\\\\u4e00\\\\u79cd\\\\u6570\\\\u636e\\\\u9690\\\\u79c1\\\\u4fdd\\\\u62a4\\\\u6280\\\\u672f\\\\uff0c\\\\u4f7f\\\\u7528\\\\u8be5\\\\u6280\\\\u672f\\\\uff0c\", \"finished\": false}}\\n{\"outputs\": {\"outputs\": \"\\\\u53ef\\\\u4ee5\\\\u5c06\", \"response\": \"AWS Clean Rooms\\\\u662f\\\\u4e00\\\\u79cd\\\\u6570\\\\u636e\\\\u9690\\\\u79c1\\\\u4fdd\\\\u62a4\\\\u6280\\\\u672f\\\\uff0c\\\\u4f7f\\\\u7528\\\\u8be5\\\\u6280\\\\u672f\\\\uff0c\\\\u53ef\\\\u4ee5\\\\u5c06\", \"finished\": false}}\\n{\"outputs\": {\"outputs\": \"\\\\u654f\\\\u611f\", \"response\": \"AWS Clean Rooms\\\\u662f\\\\u4e00\\\\u79cd\\\\u6570\\\\u636e\\\\u9690\\\\u79c1\\\\u4fdd\\\\u62a4\\\\u6280\\\\u672f\\\\uff0c\\\\u4f7f\\\\u7528\\\\u8be5\\\\u6280\\\\u672f\\\\uff0c\\\\u53ef\\\\u4ee5\\\\u5c06\\\\u654f\\\\u611f\", \"finished\": false}}\\n{\"outputs\": {\"outputs\": \"\\\\u6570\\\\u636e\", \"response\": \"AWS Clean Rooms\\\\u662f\\\\u4e00\\\\u79cd\\\\u6570\\\\u636e\\\\u9690\\\\u79c1\\\\u4fdd\\\\u62a4\\\\u6280\\\\u672f\\\\uff0c\\\\u4f7f\\\\u7528\\\\u8be5\\\\u6280\\\\u672f\\\\uff0c\\\\u53ef\\\\u4ee5\\\\u5c06\\\\u654f\\\\u611f\\\\u6570\\\\u636e\", \"finished\": false}}\\n{\"outputs\": {\"outputs\": \"\\\\u8f6c\\\\u6362\\\\u4e3a\", \"response\": \"AWS Clean Rooms\\\\u662f\\\\u4e00\\\\u79cd\\\\u6570\\\\u636e\\\\u9690\\\\u79c1\\\\u4fdd\\\\u62a4\\\\u6280\\\\u672f\\\\uff0c\\\\u4f7f\\\\u7528\\\\u8be5\\\\u6280\\\\u672f\\\\uff0c\\\\u53ef\\\\u4ee5\\\\u5c06\\\\u654f\\\\u611f\\\\u6570\\\\u636e\\\\u8f6c\\\\u6362\\\\u4e3a\", \"finished\": false}}\\n{\"outputs\": {\"outputs\": \"\\\\u4e0d\", \"response\": \"AWS Clean Rooms\\\\u662f\\\\u4e00\\\\u79cd\\\\u6570\\\\u636e\\\\u9690\\\\u79c1\\\\u4fdd\\\\u62a4\\\\u6280\\\\u672f\\\\uff0c\\\\u4f7f\\\\u7528\\\\u8be5\\\\u6280\\\\u672f\\\\uff0c\\\\u53ef\\\\u4ee5\\\\u5c06\\\\u654f\\\\u611f\\\\u6570\\\\u636e\\\\u8f6c\\\\u6362\\\\u4e3a\\\\u4e0d\", \"finished\": false}}\\n{\"outputs\": {\"outputs\": \"\\\\u53ef\\\\u89c1\", \"response\": \"AWS Clean Rooms\\\\u662f\\\\u4e00\\\\u79cd\\\\u6570\\\\u636e\\\\u9690\\\\u79c1\\\\u4fdd\\\\u62a4\\\\u6280\\\\u672f\\\\uff0c\\\\u4f7f\\\\u7528\\\\u8be5\\\\u6280\\\\u672f\\\\uff0c\\\\u53ef\\\\u4ee5\\\\u5c06\\\\u654f\\\\u611f\\\\u6570\\\\u636e\\\\u8f6c\\\\u6362\\\\u4e3a\\\\u4e0d\\\\u53ef\\\\u89c1\", \"finished\": false}}\\n{\"outputs\": {\"outputs\": \"\\\\u7684\\\\u6570\\\\u636e\", \"response\": \"AWS Clean Rooms\\\\u662f\\\\u4e00\\\\u79cd\\\\u6570\\\\u636e\\\\u9690\\\\u79c1\\\\u4fdd\\\\u62a4\\\\u6280\\\\u672f\\\\uff0c\\\\u4f7f\\\\u7528\\\\u8be5\\\\u6280\\\\u672f\\\\uff0c\\\\u53ef\\\\u4ee5\\\\u5c06\\\\u654f\\\\u611f\\\\u6570\\\\u636e\\\\u8f6c\\\\u6362\\\\u4e3a\\\\u4e0d\\\\u53ef\\\\u89c1\\\\u7684\\\\u6570\\\\u636e\", \"finished\": false}}\\n{\"outputs\": {\"outputs\": \"\\\\u683c\\\\u5f0f\", \"response\": \"AWS Clean Rooms\\\\u662f\\\\u4e00\\\\u79cd\\\\u6570\\\\u636e\\\\u9690\\\\u79c1\\\\u4fdd\\\\u62a4\\\\u6280\\\\u672f\\\\uff0c\\\\u4f7f\\\\u7528\\\\u8be5\\\\u6280\\\\u672f\\\\uff0c\\\\u53ef\\\\u4ee5\\\\u5c06\\\\u654f\\\\u611f\\\\u6570\\\\u636e\\\\u8f6c\\\\u6362\\\\u4e3a\\\\u4e0d\\\\u53ef\\\\u89c1\\\\u7684\\\\u6570\\\\u636e\\\\u683c\\\\u5f0f\", \"finished\": false}}\\n{\"outputs\": {\"outputs\": \"\\\\uff0c\", \"response\": \"AWS Clean Rooms\\\\u662f\\\\u4e00\\\\u79cd\\\\u6570\\\\u636e\\\\u9690\\\\u79c1\\\\u4fdd\\\\u62a4\\\\u6280\\\\u672f\\\\uff0c\\\\u4f7f\\\\u7528\\\\u8be5\\\\u6280\\\\u672f\\\\uff0c\\\\u53ef\\\\u4ee5\\\\u5c06\\\\u654f\\\\u611f\\\\u6570\\\\u636e\\\\u8f6c\\\\u6362\\\\u4e3a\\\\u4e0d\\\\u53ef\\\\u89c1\\\\u7684\\\\u6570\\\\u636e\\\\u683c\\\\u5f0f\\\\uff0c\", \"finished\": false}}\\n{\"outputs\": {\"outputs\": \"\\\\u4ece\\\\u800c\", \"response\": \"AWS Clean Rooms\\\\u662f\\\\u4e00\\\\u79cd\\\\u6570\\\\u636e\\\\u9690\\\\u79c1\\\\u4fdd\\\\u62a4\\\\u6280\\\\u672f\\\\uff0c\\\\u4f7f\\\\u7528\\\\u8be5\\\\u6280\\\\u672f\\\\uff0c\\\\u53ef\\\\u4ee5\\\\u5c06\\\\u654f\\\\u611f\\\\u6570\\\\u636e\\\\u8f6c\\\\u6362\\\\u4e3a\\\\u4e0d\\\\u53ef\\\\u89c1\\\\u7684\\\\u6570\\\\u636e\\\\u683c\\\\u5f0f\\\\uff0c\\\\u4ece\\\\u800c\", \"finished\": false}}\\n{\"outputs\": {\"outputs\": \"\\\\u4fdd\\\\u62a4\", \"response\": \"AWS Clean Rooms\\\\u662f\\\\u4e00\\\\u79cd\\\\u6570\\\\u636e\\\\u9690\\\\u79c1\\\\u4fdd\\\\u62a4\\\\u6280\\\\u672f\\\\uff0c\\\\u4f7f\\\\u7528\\\\u8be5\\\\u6280\\\\u672f\\\\uff0c\\\\u53ef\\\\u4ee5\\\\u5c06\\\\u654f\\\\u611f\\\\u6570\\\\u636e\\\\u8f6c\\\\u6362\\\\u4e3a\\\\u4e0d\\\\u53ef\\\\u89c1\\\\u7684\\\\u6570\\\\u636e\\\\u683c\\\\u5f0f\\\\uff0c\\\\u4ece\\\\u800c\\\\u4fdd\\\\u62a4\", \"finished\": false}}\\n{\"outputs\": {\"outputs\": \"\\\\u6570\\\\u636e\", \"response\": \"AWS Clean Rooms\\\\u662f\\\\u4e00\\\\u79cd\\\\u6570\\\\u636e\\\\u9690\\\\u79c1\\\\u4fdd\\\\u62a4\\\\u6280\\\\u672f\\\\uff0c\\\\u4f7f\\\\u7528\\\\u8be5\\\\u6280\\\\u672f\\\\uff0c\\\\u53ef\\\\u4ee5\\\\u5c06\\\\u654f\\\\u611f\\\\u6570\\\\u636e\\\\u8f6c\\\\u6362\\\\u4e3a\\\\u4e0d\\\\u53ef\\\\u89c1\\\\u7684\\\\u6570\\\\u636e\\\\u683c\\\\u5f0f\\\\uff0c\\\\u4ece\\\\u800c\\\\u4fdd\\\\u62a4\\\\u6570\\\\u636e\", \"finished\": false}}\\n{\"outputs\": {\"outputs\": \"\\\\u8d21\\\\u732e\", \"response\": \"AWS Clean Rooms\\\\u662f\\\\u4e00\\\\u79cd\\\\u6570\\\\u636e\\\\u9690\\\\u79c1\\\\u4fdd\\\\u62a4\\\\u6280\\\\u672f\\\\uff0c\\\\u4f7f\\\\u7528\\\\u8be5\\\\u6280\\\\u672f\\\\uff0c\\\\u53ef\\\\u4ee5\\\\u5c06\\\\u654f\\\\u611f\\\\u6570\\\\u636e\\\\u8f6c\\\\u6362\\\\u4e3a\\\\u4e0d\\\\u53ef\\\\u89c1\\\\u7684\\\\u6570\\\\u636e\\\\u683c\\\\u5f0f\\\\uff0c\\\\u4ece\\\\u800c\\\\u4fdd\\\\u62a4\\\\u6570\\\\u636e\\\\u8d21\\\\u732e\", \"finished\": false}}\\n{\"outputs\": {\"outputs\": \"\\\\u8005\\\\u548c\", \"response\": \"AWS Clean Rooms\\\\u662f\\\\u4e00\\\\u79cd\\\\u6570\\\\u636e\\\\u9690\\\\u79c1\\\\u4fdd\\\\u62a4\\\\u6280\\\\u672f\\\\uff0c\\\\u4f7f\\\\u7528\\\\u8be5\\\\u6280\\\\u672f\\\\uff0c\\\\u53ef\\\\u4ee5\\\\u5c06\\\\u654f\\\\u611f\\\\u6570\\\\u636e\\\\u8f6c\\\\u6362\\\\u4e3a\\\\u4e0d\\\\u53ef\\\\u89c1\\\\u7684\\\\u6570\\\\u636e\\\\u683c\\\\u5f0f\\\\uff0c\\\\u4ece\\\\u800c\\\\u4fdd\\\\u62a4\\\\u6570\\\\u636e\\\\u8d21\\\\u732e\\\\u8005\\\\u548c\", \"finished\": false}}\\n{\"outputs\": {\"outputs\": \"\\\\u63a5\\\\u6536\", \"response\": \"AWS Clean Rooms\\\\u662f\\\\u4e00\\\\u79cd\\\\u6570\\\\u636e\\\\u9690\\\\u79c1\\\\u4fdd\\\\u62a4\\\\u6280\\\\u672f\\\\uff0c\\\\u4f7f\\\\u7528\\\\u8be5\\\\u6280\\\\u672f\\\\uff0c\\\\u53ef\\\\u4ee5\\\\u5c06\\\\u654f\\\\u611f\\\\u6570\\\\u636e\\\\u8f6c\\\\u6362\\\\u4e3a\\\\u4e0d\\\\u53ef\\\\u89c1\\\\u7684\\\\u6570\\\\u636e\\\\u683c\\\\u5f0f\\\\uff0c\\\\u4ece\\\\u800c\\\\u4fdd\\\\u62a4\\\\u6570\\\\u636e\\\\u8d21\\\\u732e\\\\u8005\\\\u548c\\\\u63a5\\\\u6536\", \"finished\": false}}\\n{\"outputs\": {\"outputs\": \"\\\\u8005\\\\u7684\", \"response\": \"AWS Clean Rooms\\\\u662f\\\\u4e00\\\\u79cd\\\\u6570\\\\u636e\\\\u9690\\\\u79c1\\\\u4fdd\\\\u62a4\\\\u6280\\\\u672f\\\\uff0c\\\\u4f7f\\\\u7528\\\\u8be5\\\\u6280\\\\u672f\\\\uff0c\\\\u53ef\\\\u4ee5\\\\u5c06\\\\u654f\\\\u611f\\\\u6570\\\\u636e\\\\u8f6c\\\\u6362\\\\u4e3a\\\\u4e0d\\\\u53ef\\\\u89c1\\\\u7684\\\\u6570\\\\u636e\\\\u683c\\\\u5f0f\\\\uff0c\\\\u4ece\\\\u800c\\\\u4fdd\\\\u62a4\\\\u6570\\\\u636e\\\\u8d21\\\\u732e\\\\u8005\\\\u548c\\\\u63a5\\\\u6536\\\\u8005\\\\u7684\", \"finished\": false}}\\n{\"outputs\": {\"outputs\": \"\\\\u4e2a\\\\u4eba\\\\u9690\\\\u79c1\", \"response\": \"AWS Clean Rooms\\\\u662f\\\\u4e00\\\\u79cd\\\\u6570\\\\u636e\\\\u9690\\\\u79c1\\\\u4fdd\\\\u62a4\\\\u6280\\\\u672f\\\\uff0c\\\\u4f7f\\\\u7528\\\\u8be5\\\\u6280\\\\u672f\\\\uff0c\\\\u53ef\\\\u4ee5\\\\u5c06\\\\u654f\\\\u611f\\\\u6570\\\\u636e\\\\u8f6c\\\\u6362\\\\u4e3a\\\\u4e0d\\\\u53ef\\\\u89c1\\\\u7684\\\\u6570\\\\u636e\\\\u683c\\\\u5f0f\\\\uff0c\\\\u4ece\\\\u800c\\\\u4fdd\\\\u62a4\\\\u6570\\\\u636e\\\\u8d21\\\\u732e\\\\u8005\\\\u548c\\\\u63a5\\\\u6536\\\\u8005\\\\u7684\\\\u4e2a\\\\u4eba\\\\u9690\\\\u79c1\", \"finished\": false}}\\n{\"outputs\": {\"outputs\": \"\\\\u548c\", \"response\": \"AWS Clean Rooms\\\\u662f\\\\u4e00\\\\u79cd\\\\u6570\\\\u636e\\\\u9690\\\\u79c1\\\\u4fdd\\\\u62a4\\\\u6280\\\\u672f\\\\uff0c\\\\u4f7f\\\\u7528\\\\u8be5\\\\u6280\\\\u672f\\\\uff0c\\\\u53ef\\\\u4ee5\\\\u5c06\\\\u654f\\\\u611f\\\\u6570\\\\u636e\\\\u8f6c\\\\u6362\\\\u4e3a\\\\u4e0d\\\\u53ef\\\\u89c1\\\\u7684\\\\u6570\\\\u636e\\\\u683c\\\\u5f0f\\\\uff0c\\\\u4ece\\\\u800c\\\\u4fdd\\\\u62a4\\\\u6570\\\\u636e\\\\u8d21\\\\u732e\\\\u8005\\\\u548c\\\\u63a5\\\\u6536\\\\u8005\\\\u7684\\\\u4e2a\\\\u4eba\\\\u9690\\\\u79c1\\\\u548c\", \"finished\": false}}\\n{\"outputs\": {\"outputs\": \"\\\\u5546\\\\u4e1a\", \"response\": \"AWS Clean Rooms\\\\u662f\\\\u4e00\\\\u79cd\\\\u6570\\\\u636e\\\\u9690\\\\u79c1\\\\u4fdd\\\\u62a4\\\\u6280\\\\u672f\\\\uff0c\\\\u4f7f\\\\u7528\\\\u8be5\\\\u6280\\\\u672f\\\\uff0c\\\\u53ef\\\\u4ee5\\\\u5c06\\\\u654f\\\\u611f\\\\u6570\\\\u636e\\\\u8f6c\\\\u6362\\\\u4e3a\\\\u4e0d\\\\u53ef\\\\u89c1\\\\u7684\\\\u6570\\\\u636e\\\\u683c\\\\u5f0f\\\\uff0c\\\\u4ece\\\\u800c\\\\u4fdd\\\\u62a4\\\\u6570\\\\u636e\\\\u8d21\\\\u732e\\\\u8005\\\\u548c\\\\u63a5\\\\u6536\\\\u8005\\\\u7684\\\\u4e2a\\\\u4eba\\\\u9690\\\\u79c1\\\\u548c\\\\u5546\\\\u4e1a\", \"finished\": false}}\\n{\"outputs\": {\"outputs\": \"\\\\u673a\\\\u5bc6\", \"response\": \"AWS Clean Rooms\\\\u662f\\\\u4e00\\\\u79cd\\\\u6570\\\\u636e\\\\u9690\\\\u79c1\\\\u4fdd\\\\u62a4\\\\u6280\\\\u672f\\\\uff0c\\\\u4f7f\\\\u7528\\\\u8be5\\\\u6280\\\\u672f\\\\uff0c\\\\u53ef\\\\u4ee5\\\\u5c06\\\\u654f\\\\u611f\\\\u6570\\\\u636e\\\\u8f6c\\\\u6362\\\\u4e3a\\\\u4e0d\\\\u53ef\\\\u89c1\\\\u7684\\\\u6570\\\\u636e\\\\u683c\\\\u5f0f\\\\uff0c\\\\u4ece\\\\u800c\\\\u4fdd\\\\u62a4\\\\u6570\\\\u636e\\\\u8d21\\\\u732e\\\\u8005\\\\u548c\\\\u63a5\\\\u6536\\\\u8005\\\\u7684\\\\u4e2a\\\\u4eba\\\\u9690\\\\u79c1\\\\u548c\\\\u5546\\\\u4e1a\\\\u673a\\\\u5bc6\", \"finished\": false}}\\n{\"outputs\": {\"outputs\": \"\\\\u3002\", \"response\": \"AWS Clean Rooms\\\\u662f\\\\u4e00\\\\u79cd\\\\u6570\\\\u636e\\\\u9690\\\\u79c1\\\\u4fdd\\\\u62a4\\\\u6280\\\\u672f\\\\uff0c\\\\u4f7f\\\\u7528\\\\u8be5\\\\u6280\\\\u672f\\\\uff0c\\\\u53ef\\\\u4ee5\\\\u5c06\\\\u654f\\\\u611f\\\\u6570\\\\u636e\\\\u8f6c\\\\u6362\\\\u4e3a\\\\u4e0d\\\\u53ef\\\\u89c1\\\\u7684\\\\u6570\\\\u636e\\\\u683c\\\\u5f0f\\\\uff0c\\\\u4ece\\\\u800c\\\\u4fdd\\\\u62a4\\\\u6570\\\\u636e\\\\u8d21\\\\u732e\\\\u8005\\\\u548c\\\\u63a5\\\\u6536\\\\u8005\\\\u7684\\\\u4e2a\\\\u4eba\\\\u9690\\\\u79c1\\\\u548c\\\\u5546\\\\u4e1a\\\\u673a\\\\u5bc6\\\\u3002\", \"finished\": false}}\\n{\"outputs\": {\"outputs\": \"\\\\u56e0\\\\u6b64\", \"response\": \"AWS Clean Rooms\\\\u662f\\\\u4e00\\\\u79cd\\\\u6570\\\\u636e\\\\u9690\\\\u79c1\\\\u4fdd\\\\u62a4\\\\u6280\\\\u672f\\\\uff0c\\\\u4f7f\\\\u7528\\\\u8be5\\\\u6280\\\\u672f\\\\uff0c\\\\u53ef\\\\u4ee5\\\\u5c06\\\\u654f\\\\u611f\\\\u6570\\\\u636e\\\\u8f6c\\\\u6362\\\\u4e3a\\\\u4e0d\\\\u53ef\\\\u89c1\\\\u7684\\\\u6570\\\\u636e\\\\u683c\\\\u5f0f\\\\uff0c\\\\u4ece\\\\u800c\\\\u4fdd\\\\u62a4\\\\u6570\\\\u636e\\\\u8d21\\\\u732e\\\\u8005\\\\u548c\\\\u63a5\\\\u6536\\\\u8005\\\\u7684\\\\u4e2a\\\\u4eba\\\\u9690\\\\u79c1\\\\u548c\\\\u5546\\\\u4e1a\\\\u673a\\\\u5bc6\\\\u3002\\\\u56e0\\\\u6b64\", \"finished\": false}}\\n{\"outputs\": {\"outputs\": \"\\\\uff0c\", \"response\": \"AWS Clean Rooms\\\\u662f\\\\u4e00\\\\u79cd\\\\u6570\\\\u636e\\\\u9690\\\\u79c1\\\\u4fdd\\\\u62a4\\\\u6280\\\\u672f\\\\uff0c\\\\u4f7f\\\\u7528\\\\u8be5\\\\u6280\\\\u672f\\\\uff0c\\\\u53ef\\\\u4ee5\\\\u5c06\\\\u654f\\\\u611f\\\\u6570\\\\u636e\\\\u8f6c\\\\u6362\\\\u4e3a\\\\u4e0d\\\\u53ef\\\\u89c1\\\\u7684\\\\u6570\\\\u636e\\\\u683c\\\\u5f0f\\\\uff0c\\\\u4ece\\\\u800c\\\\u4fdd\\\\u62a4\\\\u6570\\\\u636e\\\\u8d21\\\\u732e\\\\u8005\\\\u548c\\\\u63a5\\\\u6536\\\\u8005\\\\u7684\\\\u4e2a\\\\u4eba\\\\u9690\\\\u79c1\\\\u548c\\\\u5546\\\\u4e1a\\\\u673a\\\\u5bc6\\\\u3002\\\\u56e0\\\\u6b64\\\\uff0c\", \"finished\": false}}\\n{\"outputs\": {\"outputs\": \"\\\\u53ea\\\\u6709\", \"response\": \"AWS Clean Rooms\\\\u662f\\\\u4e00\\\\u79cd\\\\u6570\\\\u636e\\\\u9690\\\\u79c1\\\\u4fdd\\\\u62a4\\\\u6280\\\\u672f\\\\uff0c\\\\u4f7f\\\\u7528\\\\u8be5\\\\u6280\\\\u672f\\\\uff0c\\\\u53ef\\\\u4ee5\\\\u5c06\\\\u654f\\\\u611f\\\\u6570\\\\u636e\\\\u8f6c\\\\u6362\\\\u4e3a\\\\u4e0d\\\\u53ef\\\\u89c1\\\\u7684\\\\u6570\\\\u636e\\\\u683c\\\\u5f0f\\\\uff0c\\\\u4ece\\\\u800c\\\\u4fdd\\\\u62a4\\\\u6570\\\\u636e\\\\u8d21\\\\u732e\\\\u8005\\\\u548c\\\\u63a5\\\\u6536\\\\u8005\\\\u7684\\\\u4e2a\\\\u4eba\\\\u9690\\\\u79c1\\\\u548c\\\\u5546\\\\u4e1a\\\\u673a\\\\u5bc6\\\\u3002\\\\u56e0\\\\u6b64\\\\uff0c\\\\u53ea\\\\u6709\", \"finished\": false}}\\n{\"outputs\": {\"outputs\": \"\\\\u63a5\\\\u6536\", \"response\": \"AWS Clean Rooms\\\\u662f\\\\u4e00\\\\u79cd\\\\u6570\\\\u636e\\\\u9690\\\\u79c1\\\\u4fdd\\\\u62a4\\\\u6280\\\\u672f\\\\uff0c\\\\u4f7f\\\\u7528\\\\u8be5\\\\u6280\\\\u672f\\\\uff0c\\\\u53ef\\\\u4ee5\\\\u5c06\\\\u654f\\\\u611f\\\\u6570\\\\u636e\\\\u8f6c\\\\u6362\\\\u4e3a\\\\u4e0d\\\\u53ef\\\\u89c1\\\\u7684\\\\u6570\\\\u636e\\\\u683c\\\\u5f0f\\\\uff0c\\\\u4ece\\\\u800c\\\\u4fdd\\\\u62a4\\\\u6570\\\\u636e\\\\u8d21\\\\u732e\\\\u8005\\\\u548c\\\\u63a5\\\\u6536\\\\u8005\\\\u7684\\\\u4e2a\\\\u4eba\\\\u9690\\\\u79c1\\\\u548c\\\\u5546\\\\u4e1a\\\\u673a\\\\u5bc6\\\\u3002\\\\u56e0\\\\u6b64\\\\uff0c\\\\u53ea\\\\u6709\\\\u63a5\\\\u6536\", \"finished\": false}}\\n{\"outputs\": {\"outputs\": \"\\\\u8005\", \"response\": \"AWS Clean Rooms\\\\u662f\\\\u4e00\\\\u79cd\\\\u6570\\\\u636e\\\\u9690\\\\u79c1\\\\u4fdd\\\\u62a4\\\\u6280\\\\u672f\\\\uff0c\\\\u4f7f\\\\u7528\\\\u8be5\\\\u6280\\\\u672f\\\\uff0c\\\\u53ef\\\\u4ee5\\\\u5c06\\\\u654f\\\\u611f\\\\u6570\\\\u636e\\\\u8f6c\\\\u6362\\\\u4e3a\\\\u4e0d\\\\u53ef\\\\u89c1\\\\u7684\\\\u6570\\\\u636e\\\\u683c\\\\u5f0f\\\\uff0c\\\\u4ece\\\\u800c\\\\u4fdd\\\\u62a4\\\\u6570\\\\u636e\\\\u8d21\\\\u732e\\\\u8005\\\\u548c\\\\u63a5\\\\u6536\\\\u8005\\\\u7684\\\\u4e2a\\\\u4eba\\\\u9690\\\\u79c1\\\\u548c\\\\u5546\\\\u4e1a\\\\u673a\\\\u5bc6\\\\u3002\\\\u56e0\\\\u6b64\\\\uff0c\\\\u53ea\\\\u6709\\\\u63a5\\\\u6536\\\\u8005\", \"finished\": false}}\\n{\"outputs\": {\"outputs\": \"\\\\u4f1a\", \"response\": \"AWS Clean Rooms\\\\u662f\\\\u4e00\\\\u79cd\\\\u6570\\\\u636e\\\\u9690\\\\u79c1\\\\u4fdd\\\\u62a4\\\\u6280\\\\u672f\\\\uff0c\\\\u4f7f\\\\u7528\\\\u8be5\\\\u6280\\\\u672f\\\\uff0c\\\\u53ef\\\\u4ee5\\\\u5c06\\\\u654f\\\\u611f\\\\u6570\\\\u636e\\\\u8f6c\\\\u6362\\\\u4e3a\\\\u4e0d\\\\u53ef\\\\u89c1\\\\u7684\\\\u6570\\\\u636e\\\\u683c\\\\u5f0f\\\\uff0c\\\\u4ece\\\\u800c\\\\u4fdd\\\\u62a4\\\\u6570\\\\u636e\\\\u8d21\\\\u732e\\\\u8005\\\\u548c\\\\u63a5\\\\u6536\\\\u8005\\\\u7684\\\\u4e2a\\\\u4eba\\\\u9690\\\\u79c1\\\\u548c\\\\u5546\\\\u4e1a\\\\u673a\\\\u5bc6\\\\u3002\\\\u56e0\\\\u6b64\\\\uff0c\\\\u53ea\\\\u6709\\\\u63a5\\\\u6536\\\\u8005\\\\u4f1a\", \"finished\": false}}\\n{\"outputs\": {\"outputs\": \"\\\\u6536\\\\u5230\", \"response\": \"AWS Clean Rooms\\\\u662f\\\\u4e00\\\\u79cd\\\\u6570\\\\u636e\\\\u9690\\\\u79c1\\\\u4fdd\\\\u62a4\\\\u6280\\\\u672f\\\\uff0c\\\\u4f7f\\\\u7528\\\\u8be5\\\\u6280\\\\u672f\\\\uff0c\\\\u53ef\\\\u4ee5\\\\u5c06\\\\u654f\\\\u611f\\\\u6570\\\\u636e\\\\u8f6c\\\\u6362\\\\u4e3a\\\\u4e0d\\\\u53ef\\\\u89c1\\\\u7684\\\\u6570\\\\u636e\\\\u683c\\\\u5f0f\\\\uff0c\\\\u4ece\\\\u800c\\\\u4fdd\\\\u62a4\\\\u6570\\\\u636e\\\\u8d21\\\\u732e\\\\u8005\\\\u548c\\\\u63a5\\\\u6536\\\\u8005\\\\u7684\\\\u4e2a\\\\u4eba\\\\u9690\\\\u79c1\\\\u548c\\\\u5546\\\\u4e1a\\\\u673a\\\\u5bc6\\\\u3002\\\\u56e0\\\\u6b64\\\\uff0c\\\\u53ea\\\\u6709\\\\u63a5\\\\u6536\\\\u8005\\\\u4f1a\\\\u6536\\\\u5230\", \"finished\": false}}\\n{\"outputs\": {\"outputs\": \"\\\\u67e5\\\\u8be2\", \"response\": \"AWS Clean Rooms\\\\u662f\\\\u4e00\\\\u79cd\\\\u6570\\\\u636e\\\\u9690\\\\u79c1\\\\u4fdd\\\\u62a4\\\\u6280\\\\u672f\\\\uff0c\\\\u4f7f\\\\u7528\\\\u8be5\\\\u6280\\\\u672f\\\\uff0c\\\\u53ef\\\\u4ee5\\\\u5c06\\\\u654f\\\\u611f\\\\u6570\\\\u636e\\\\u8f6c\\\\u6362\\\\u4e3a\\\\u4e0d\\\\u53ef\\\\u89c1\\\\u7684\\\\u6570\\\\u636e\\\\u683c\\\\u5f0f\\\\uff0c\\\\u4ece\\\\u800c\\\\u4fdd\\\\u62a4\\\\u6570\\\\u636e\\\\u8d21\\\\u732e\\\\u8005\\\\u548c\\\\u63a5\\\\u6536\\\\u8005\\\\u7684\\\\u4e2a\\\\u4eba\\\\u9690\\\\u79c1\\\\u548c\\\\u5546\\\\u4e1a\\\\u673a\\\\u5bc6\\\\u3002\\\\u56e0\\\\u6b64\\\\uff0c\\\\u53ea\\\\u6709\\\\u63a5\\\\u6536\\\\u8005\\\\u4f1a\\\\u6536\\\\u5230\\\\u67e5\\\\u8be2\", \"finished\": false}}\\n{\"outputs\": {\"outputs\": \"\\\\u7ed3\\\\u679c\", \"response\": \"AWS Clean Rooms\\\\u662f\\\\u4e00\\\\u79cd\\\\u6570\\\\u636e\\\\u9690\\\\u79c1\\\\u4fdd\\\\u62a4\\\\u6280\\\\u672f\\\\uff0c\\\\u4f7f\\\\u7528\\\\u8be5\\\\u6280\\\\u672f\\\\uff0c\\\\u53ef\\\\u4ee5\\\\u5c06\\\\u654f\\\\u611f\\\\u6570\\\\u636e\\\\u8f6c\\\\u6362\\\\u4e3a\\\\u4e0d\\\\u53ef\\\\u89c1\\\\u7684\\\\u6570\\\\u636e\\\\u683c\\\\u5f0f\\\\uff0c\\\\u4ece\\\\u800c\\\\u4fdd\\\\u62a4\\\\u6570\\\\u636e\\\\u8d21\\\\u732e\\\\u8005\\\\u548c\\\\u63a5\\\\u6536\\\\u8005\\\\u7684\\\\u4e2a\\\\u4eba\\\\u9690\\\\u79c1\\\\u548c\\\\u5546\\\\u4e1a\\\\u673a\\\\u5bc6\\\\u3002\\\\u56e0\\\\u6b64\\\\uff0c\\\\u53ea\\\\u6709\\\\u63a5\\\\u6536\\\\u8005\\\\u4f1a\\\\u6536\\\\u5230\\\\u67e5\\\\u8be2\\\\u7ed3\\\\u679c\", \"finished\": false}}\\n{\"outputs\": {\"outputs\": \"\\\\uff0c\", \"response\": \"AWS Clean Rooms\\\\u662f\\\\u4e00\\\\u79cd\\\\u6570\\\\u636e\\\\u9690\\\\u79c1\\\\u4fdd\\\\u62a4\\\\u6280\\\\u672f\\\\uff0c\\\\u4f7f\\\\u7528\\\\u8be5\\\\u6280\\\\u672f\\\\uff0c\\\\u53ef\\\\u4ee5\\\\u5c06\\\\u654f\\\\u611f\\\\u6570\\\\u636e\\\\u8f6c\\\\u6362\\\\u4e3a\\\\u4e0d\\\\u53ef\\\\u89c1\\\\u7684\\\\u6570\\\\u636e\\\\u683c\\\\u5f0f\\\\uff0c\\\\u4ece\\\\u800c\\\\u4fdd\\\\u62a4\\\\u6570\\\\u636e\\\\u8d21\\\\u732e\\\\u8005\\\\u548c\\\\u63a5\\\\u6536\\\\u8005\\\\u7684\\\\u4e2a\\\\u4eba\\\\u9690\\\\u79c1\\\\u548c\\\\u5546\\\\u4e1a\\\\u673a\\\\u5bc6\\\\u3002\\\\u56e0\\\\u6b64\\\\uff0c\\\\u53ea\\\\u6709\\\\u63a5\\\\u6536\\\\u8005\\\\u4f1a\\\\u6536\\\\u5230\\\\u67e5\\\\u8be2\\\\u7ed3\\\\u679c\\\\uff0c\", \"finished\": false}}\\n{\"outputs\": {\"outputs\": \"\\\\u800c\", \"response\": \"AWS Clean Rooms\\\\u662f\\\\u4e00\\\\u79cd\\\\u6570\\\\u636e\\\\u9690\\\\u79c1\\\\u4fdd\\\\u62a4\\\\u6280\\\\u672f\\\\uff0c\\\\u4f7f\\\\u7528\\\\u8be5\\\\u6280\\\\u672f\\\\uff0c\\\\u53ef\\\\u4ee5\\\\u5c06\\\\u654f\\\\u611f\\\\u6570\\\\u636e\\\\u8f6c\\\\u6362\\\\u4e3a\\\\u4e0d\\\\u53ef\\\\u89c1\\\\u7684\\\\u6570\\\\u636e\\\\u683c\\\\u5f0f\\\\uff0c\\\\u4ece\\\\u800c\\\\u4fdd\\\\u62a4\\\\u6570\\\\u636e\\\\u8d21\\\\u732e\\\\u8005\\\\u548c\\\\u63a5\\\\u6536\\\\u8005\\\\u7684\\\\u4e2a\\\\u4eba\\\\u9690\\\\u79c1\\\\u548c\\\\u5546\\\\u4e1a\\\\u673a\\\\u5bc6\\\\u3002\\\\u56e0\\\\u6b64\\\\uff0c\\\\u53ea\\\\u6709\\\\u63a5\\\\u6536\\\\u8005\\\\u4f1a\\\\u6536\\\\u5230\\\\u67e5\\\\u8be2\\\\u7ed3\\\\u679c\\\\uff0c\\\\u800c\", \"finished\": false}}\\n{\"outputs\": {\"outputs\": \"\\\\u53d1\\\\u8d77\", \"response\": \"AWS Clean Rooms\\\\u662f\\\\u4e00\\\\u79cd\\\\u6570\\\\u636e\\\\u9690\\\\u79c1\\\\u4fdd\\\\u62a4\\\\u6280\\\\u672f\\\\uff0c\\\\u4f7f\\\\u7528\\\\u8be5\\\\u6280\\\\u672f\\\\uff0c\\\\u53ef\\\\u4ee5\\\\u5c06\\\\u654f\\\\u611f\\\\u6570\\\\u636e\\\\u8f6c\\\\u6362\\\\u4e3a\\\\u4e0d\\\\u53ef\\\\u89c1\\\\u7684\\\\u6570\\\\u636e\\\\u683c\\\\u5f0f\\\\uff0c\\\\u4ece\\\\u800c\\\\u4fdd\\\\u62a4\\\\u6570\\\\u636e\\\\u8d21\\\\u732e\\\\u8005\\\\u548c\\\\u63a5\\\\u6536\\\\u8005\\\\u7684\\\\u4e2a\\\\u4eba\\\\u9690\\\\u79c1\\\\u548c\\\\u5546\\\\u4e1a\\\\u673a\\\\u5bc6\\\\u3002\\\\u56e0\\\\u6b64\\\\uff0c\\\\u53ea\\\\u6709\\\\u63a5\\\\u6536\\\\u8005\\\\u4f1a\\\\u6536\\\\u5230\\\\u67e5\\\\u8be2\\\\u7ed3\\\\u679c\\\\uff0c\\\\u800c\\\\u53d1\\\\u8d77\", \"finished\": false}}\\n{\"outputs\": {\"outputs\": \"\\\\u8005\", \"response\": \"AWS Clean Rooms\\\\u662f\\\\u4e00\\\\u79cd\\\\u6570\\\\u636e\\\\u9690\\\\u79c1\\\\u4fdd\\\\u62a4\\\\u6280\\\\u672f\\\\uff0c\\\\u4f7f\\\\u7528\\\\u8be5\\\\u6280\\\\u672f\\\\uff0c\\\\u53ef\\\\u4ee5\\\\u5c06\\\\u654f\\\\u611f\\\\u6570\\\\u636e\\\\u8f6c\\\\u6362\\\\u4e3a\\\\u4e0d\\\\u53ef\\\\u89c1\\\\u7684\\\\u6570\\\\u636e\\\\u683c\\\\u5f0f\\\\uff0c\\\\u4ece\\\\u800c\\\\u4fdd\\\\u62a4\\\\u6570\\\\u636e\\\\u8d21\\\\u732e\\\\u8005\\\\u548c\\\\u63a5\\\\u6536\\\\u8005\\\\u7684\\\\u4e2a\\\\u4eba\\\\u9690\\\\u79c1\\\\u548c\\\\u5546\\\\u4e1a\\\\u673a\\\\u5bc6\\\\u3002\\\\u56e0\\\\u6b64\\\\uff0c\\\\u53ea\\\\u6709\\\\u63a5\\\\u6536\\\\u8005\\\\u4f1a\\\\u6536\\\\u5230\\\\u67e5\\\\u8be2\\\\u7ed3\\\\u679c\\\\uff0c\\\\u800c\\\\u53d1\\\\u8d77\\\\u8005\", \"finished\": false}}\\n{\"outputs\": {\"outputs\": \"\\\\u4e0d\\\\u4f1a\", \"response\": \"AWS Clean Rooms\\\\u662f\\\\u4e00\\\\u79cd\\\\u6570\\\\u636e\\\\u9690\\\\u79c1\\\\u4fdd\\\\u62a4\\\\u6280\\\\u672f\\\\uff0c\\\\u4f7f\\\\u7528\\\\u8be5\\\\u6280\\\\u672f\\\\uff0c\\\\u53ef\\\\u4ee5\\\\u5c06\\\\u654f\\\\u611f\\\\u6570\\\\u636e\\\\u8f6c\\\\u6362\\\\u4e3a\\\\u4e0d\\\\u53ef\\\\u89c1\\\\u7684\\\\u6570\\\\u636e\\\\u683c\\\\u5f0f\\\\uff0c\\\\u4ece\\\\u800c\\\\u4fdd\\\\u62a4\\\\u6570\\\\u636e\\\\u8d21\\\\u732e\\\\u8005\\\\u548c\\\\u63a5\\\\u6536\\\\u8005\\\\u7684\\\\u4e2a\\\\u4eba\\\\u9690\\\\u79c1\\\\u548c\\\\u5546\\\\u4e1a\\\\u673a\\\\u5bc6\\\\u3002\\\\u56e0\\\\u6b64\\\\uff0c\\\\u53ea\\\\u6709\\\\u63a5\\\\u6536\\\\u8005\\\\u4f1a\\\\u6536\\\\u5230\\\\u67e5\\\\u8be2\\\\u7ed3\\\\u679c\\\\uff0c\\\\u800c\\\\u53d1\\\\u8d77\\\\u8005\\\\u4e0d\\\\u4f1a\", \"finished\": false}}\\n{\"outputs\": {\"outputs\": \"\\\\u56e0\\\\u6b64\", \"response\": \"AWS Clean Rooms\\\\u662f\\\\u4e00\\\\u79cd\\\\u6570\\\\u636e\\\\u9690\\\\u79c1\\\\u4fdd\\\\u62a4\\\\u6280\\\\u672f\\\\uff0c\\\\u4f7f\\\\u7528\\\\u8be5\\\\u6280\\\\u672f\\\\uff0c\\\\u53ef\\\\u4ee5\\\\u5c06\\\\u654f\\\\u611f\\\\u6570\\\\u636e\\\\u8f6c\\\\u6362\\\\u4e3a\\\\u4e0d\\\\u53ef\\\\u89c1\\\\u7684\\\\u6570\\\\u636e\\\\u683c\\\\u5f0f\\\\uff0c\\\\u4ece\\\\u800c\\\\u4fdd\\\\u62a4\\\\u6570\\\\u636e\\\\u8d21\\\\u732e\\\\u8005\\\\u548c\\\\u63a5\\\\u6536\\\\u8005\\\\u7684\\\\u4e2a\\\\u4eba\\\\u9690\\\\u79c1\\\\u548c\\\\u5546\\\\u4e1a\\\\u673a\\\\u5bc6\\\\u3002\\\\u56e0\\\\u6b64\\\\uff0c\\\\u53ea\\\\u6709\\\\u63a5\\\\u6536\\\\u8005\\\\u4f1a\\\\u6536\\\\u5230\\\\u67e5\\\\u8be2\\\\u7ed3\\\\u679c\\\\uff0c\\\\u800c\\\\u53d1\\\\u8d77\\\\u8005\\\\u4e0d\\\\u4f1a\\\\u56e0\\\\u6b64\", \"finished\": false}}\\n{\"outputs\": {\"outputs\": \"\\\\u88ab\", \"response\": \"AWS Clean Rooms\\\\u662f\\\\u4e00\\\\u79cd\\\\u6570\\\\u636e\\\\u9690\\\\u79c1\\\\u4fdd\\\\u62a4\\\\u6280\\\\u672f\\\\uff0c\\\\u4f7f\\\\u7528\\\\u8be5\\\\u6280\\\\u672f\\\\uff0c\\\\u53ef\\\\u4ee5\\\\u5c06\\\\u654f\\\\u611f\\\\u6570\\\\u636e\\\\u8f6c\\\\u6362\\\\u4e3a\\\\u4e0d\\\\u53ef\\\\u89c1\\\\u7684\\\\u6570\\\\u636e\\\\u683c\\\\u5f0f\\\\uff0c\\\\u4ece\\\\u800c\\\\u4fdd\\\\u62a4\\\\u6570\\\\u636e\\\\u8d21\\\\u732e\\\\u8005\\\\u548c\\\\u63a5\\\\u6536\\\\u8005\\\\u7684\\\\u4e2a\\\\u4eba\\\\u9690\\\\u79c1\\\\u548c\\\\u5546\\\\u4e1a\\\\u673a\\\\u5bc6\\\\u3002\\\\u56e0\\\\u6b64\\\\uff0c\\\\u53ea\\\\u6709\\\\u63a5\\\\u6536\\\\u8005\\\\u4f1a\\\\u6536\\\\u5230\\\\u67e5\\\\u8be2\\\\u7ed3\\\\u679c\\\\uff0c\\\\u800c\\\\u53d1\\\\u8d77\\\\u8005\\\\u4e0d\\\\u4f1a\\\\u56e0\\\\u6b64\\\\u88ab\", \"finished\": false}}\\n{\"outputs\": {\"outputs\": \"\\\\u6536\\\\u8d39\", \"response\": \"AWS Clean Rooms\\\\u662f\\\\u4e00\\\\u79cd\\\\u6570\\\\u636e\\\\u9690\\\\u79c1\\\\u4fdd\\\\u62a4\\\\u6280\\\\u672f\\\\uff0c\\\\u4f7f\\\\u7528\\\\u8be5\\\\u6280\\\\u672f\\\\uff0c\\\\u53ef\\\\u4ee5\\\\u5c06\\\\u654f\\\\u611f\\\\u6570\\\\u636e\\\\u8f6c\\\\u6362\\\\u4e3a\\\\u4e0d\\\\u53ef\\\\u89c1\\\\u7684\\\\u6570\\\\u636e\\\\u683c\\\\u5f0f\\\\uff0c\\\\u4ece\\\\u800c\\\\u4fdd\\\\u62a4\\\\u6570\\\\u636e\\\\u8d21\\\\u732e\\\\u8005\\\\u548c\\\\u63a5\\\\u6536\\\\u8005\\\\u7684\\\\u4e2a\\\\u4eba\\\\u9690\\\\u79c1\\\\u548c\\\\u5546\\\\u4e1a\\\\u673a\\\\u5bc6\\\\u3002\\\\u56e0\\\\u6b64\\\\uff0c\\\\u53ea\\\\u6709\\\\u63a5\\\\u6536\\\\u8005\\\\u4f1a\\\\u6536\\\\u5230\\\\u67e5\\\\u8be2\\\\u7ed3\\\\u679c\\\\uff0c\\\\u800c\\\\u53d1\\\\u8d77\\\\u8005\\\\u4e0d\\\\u4f1a\\\\u56e0\\\\u6b64\\\\u88ab\\\\u6536\\\\u8d39\", \"finished\": false}}\\n{\"outputs\": {\"outputs\": \"\\\\u3002\", \"response\": \"AWS Clean Rooms\\\\u662f\\\\u4e00\\\\u79cd\\\\u6570\\\\u636e\\\\u9690\\\\u79c1\\\\u4fdd\\\\u62a4\\\\u6280\\\\u672f\\\\uff0c\\\\u4f7f\\\\u7528\\\\u8be5\\\\u6280\\\\u672f\\\\uff0c\\\\u53ef\\\\u4ee5\\\\u5c06\\\\u654f\\\\u611f\\\\u6570\\\\u636e\\\\u8f6c\\\\u6362\\\\u4e3a\\\\u4e0d\\\\u53ef\\\\u89c1\\\\u7684\\\\u6570\\\\u636e\\\\u683c\\\\u5f0f\\\\uff0c\\\\u4ece\\\\u800c\\\\u4fdd\\\\u62a4\\\\u6570\\\\u636e\\\\u8d21\\\\u732e\\\\u8005\\\\u548c\\\\u63a5\\\\u6536\\\\u8005\\\\u7684\\\\u4e2a\\\\u4eba\\\\u9690\\\\u79c1\\\\u548c\\\\u5546\\\\u4e1a\\\\u673a\\\\u5bc6\\\\u3002\\\\u56e0\\\\u6b64\\\\uff0c\\\\u53ea\\\\u6709\\\\u63a5\\\\u6536\\\\u8005\\\\u4f1a\\\\u6536\\\\u5230\\\\u67e5\\\\u8be2\\\\u7ed3\\\\u679c\\\\uff0c\\\\u800c\\\\u53d1\\\\u8d77\\\\u8005\\\\u4e0d\\\\u4f1a\\\\u56e0\\\\u6b64\\\\u88ab\\\\u6536\\\\u8d39\\\\u3002\", \"finished\": false}}\\n{\"outputs\": {\"outputs\": \"\", \"response\": \"AWS Clean Rooms\\\\u662f\\\\u4e00\\\\u79cd\\\\u6570\\\\u636e\\\\u9690\\\\u79c1\\\\u4fdd\\\\u62a4\\\\u6280\\\\u672f\\\\uff0c\\\\u4f7f\\\\u7528\\\\u8be5\\\\u6280\\\\u672f\\\\uff0c\\\\u53ef\\\\u4ee5\\\\u5c06\\\\u654f\\\\u611f\\\\u6570\\\\u636e\\\\u8f6c\\\\u6362\\\\u4e3a\\\\u4e0d\\\\u53ef\\\\u89c1\\\\u7684\\\\u6570\\\\u636e\\\\u683c\\\\u5f0f\\\\uff0c\\\\u4ece\\\\u800c\\\\u4fdd\\\\u62a4\\\\u6570\\\\u636e\\\\u8d21\\\\u732e\\\\u8005\\\\u548c\\\\u63a5\\\\u6536\\\\u8005\\\\u7684\\\\u4e2a\\\\u4eba\\\\u9690\\\\u79c1\\\\u548c\\\\u5546\\\\u4e1a\\\\u673a\\\\u5bc6\\\\u3002\\\\u56e0\\\\u6b64\\\\uff0c\\\\u53ea\\\\u6709\\\\u63a5\\\\u6536\\\\u8005\\\\u4f1a\\\\u6536\\\\u5230\\\\u67e5\\\\u8be2\\\\u7ed3\\\\u679c\\\\uff0c\\\\u800c\\\\u53d1\\\\u8d77\\\\u8005\\\\u4e0d\\\\u4f1a\\\\u56e0\\\\u6b64\\\\u88ab\\\\u6536\\\\u8d39\\\\u3002\", \"finished\": false}}\\n{\"outputs\": {\"outputs\": \"\", \"response\": \"AWS Clean Rooms\\\\u662f\\\\u4e00\\\\u79cd\\\\u6570\\\\u636e\\\\u9690\\\\u79c1\\\\u4fdd\\\\u62a4\\\\u6280\\\\u672f\\\\uff0c\\\\u4f7f\\\\u7528\\\\u8be5\\\\u6280\\\\u672f\\\\uff0c\\\\u53ef\\\\u4ee5\\\\u5c06\\\\u654f\\\\u611f\\\\u6570\\\\u636e\\\\u8f6c\\\\u6362\\\\u4e3a\\\\u4e0d\\\\u53ef\\\\u89c1\\\\u7684\\\\u6570\\\\u636e\\\\u683c\\\\u5f0f\\\\uff0c\\\\u4ece\\\\u800c\\\\u4fdd\\\\u62a4\\\\u6570\\\\u636e\\\\u8d21\\\\u732e\\\\u8005\\\\u548c\\\\u63a5\\\\u6536\\\\u8005\\\\u7684\\\\u4e2a\\\\u4eba\\\\u9690\\\\u79c1\\\\u548c\\\\u5546\\\\u4e1a\\\\u673a\\\\u5bc6\\\\u3002\\\\u56e0\\\\u6b64\\\\uff0c\\\\u53ea\\\\u6709\\\\u63a5\\\\u6536\\\\u8005\\\\u4f1a\\\\u6536\\\\u5230\\\\u67e5\\\\u8be2\\\\u7ed3\\\\u679c\\\\uff0c\\\\u800c\\\\u53d1\\\\u8d77\\\\u8005\\\\u4e0d\\\\u4f1a\\\\u56e0\\\\u6b64\\\\u88ab\\\\u6536\\\\u8d39\\\\u3002\", \"finished\": false}}\\n{\"outputs\": {\"outputs\": \"\\\\n\\\\n\\\\u9700\\\\u8981\\\\u6ce8\\\\u610f\\\\u7684\\\\u662f\", \"response\": \"AWS Clean Rooms\\\\u662f\\\\u4e00\\\\u79cd\\\\u6570\\\\u636e\\\\u9690\\\\u79c1\\\\u4fdd\\\\u62a4\\\\u6280\\\\u672f\\\\uff0c\\\\u4f7f\\\\u7528\\\\u8be5\\\\u6280\\\\u672f\\\\uff0c\\\\u53ef\\\\u4ee5\\\\u5c06\\\\u654f\\\\u611f\\\\u6570\\\\u636e\\\\u8f6c\\\\u6362\\\\u4e3a\\\\u4e0d\\\\u53ef\\\\u89c1\\\\u7684\\\\u6570\\\\u636e\\\\u683c\\\\u5f0f\\\\uff0c\\\\u4ece\\\\u800c\\\\u4fdd\\\\u62a4\\\\u6570\\\\u636e\\\\u8d21\\\\u732e\\\\u8005\\\\u548c\\\\u63a5\\\\u6536\\\\u8005\\\\u7684\\\\u4e2a\\\\u4eba\\\\u9690\\\\u79c1\\\\u548c\\\\u5546\\\\u4e1a\\\\u673a\\\\u5bc6\\\\u3002\\\\u56e0\\\\u6b64\\\\uff0c\\\\u53ea\\\\u6709\\\\u63a5\\\\u6536\\\\u8005\\\\u4f1a\\\\u6536\\\\u5230\\\\u67e5\\\\u8be2\\\\u7ed3\\\\u679c\\\\uff0c\\\\u800c\\\\u53d1\\\\u8d77\\\\u8005\\\\u4e0d\\\\u4f1a\\\\u56e0\\\\u6b64\\\\u88ab\\\\u6536\\\\u8d39\\\\u3002\\\\n\\\\n\\\\u9700\\\\u8981\\\\u6ce8\\\\u610f\\\\u7684\\\\u662f\", \"finished\": false}}\\n{\"outputs\": {\"outputs\": \"\\\\uff0c\", \"response\": \"AWS Clean Rooms\\\\u662f\\\\u4e00\\\\u79cd\\\\u6570\\\\u636e\\\\u9690\\\\u79c1\\\\u4fdd\\\\u62a4\\\\u6280\\\\u672f\\\\uff0c\\\\u4f7f\\\\u7528\\\\u8be5\\\\u6280\\\\u672f\\\\uff0c\\\\u53ef\\\\u4ee5\\\\u5c06\\\\u654f\\\\u611f\\\\u6570\\\\u636e\\\\u8f6c\\\\u6362\\\\u4e3a\\\\u4e0d\\\\u53ef\\\\u89c1\\\\u7684\\\\u6570\\\\u636e\\\\u683c\\\\u5f0f\\\\uff0c\\\\u4ece\\\\u800c\\\\u4fdd\\\\u62a4\\\\u6570\\\\u636e\\\\u8d21\\\\u732e\\\\u8005\\\\u548c\\\\u63a5\\\\u6536\\\\u8005\\\\u7684\\\\u4e2a\\\\u4eba\\\\u9690\\\\u79c1\\\\u548c\\\\u5546\\\\u4e1a\\\\u673a\\\\u5bc6\\\\u3002\\\\u56e0\\\\u6b64\\\\uff0c\\\\u53ea\\\\u6709\\\\u63a5\\\\u6536\\\\u8005\\\\u4f1a\\\\u6536\\\\u5230\\\\u67e5\\\\u8be2\\\\u7ed3\\\\u679c\\\\uff0c\\\\u800c\\\\u53d1\\\\u8d77\\\\u8005\\\\u4e0d\\\\u4f1a\\\\u56e0\\\\u6b64\\\\u88ab\\\\u6536\\\\u8d39\\\\u3002\\\\n\\\\n\\\\u9700\\\\u8981\\\\u6ce8\\\\u610f\\\\u7684\\\\u662f\\\\uff0c\", \"finished\": false}}\\n{\"outputs\": {\"outputs\": \"\\\\u5982\\\\u679c\", \"response\": \"AWS Clean Rooms\\\\u662f\\\\u4e00\\\\u79cd\\\\u6570\\\\u636e\\\\u9690\\\\u79c1\\\\u4fdd\\\\u62a4\\\\u6280\\\\u672f\\\\uff0c\\\\u4f7f\\\\u7528\\\\u8be5\\\\u6280\\\\u672f\\\\uff0c\\\\u53ef\\\\u4ee5\\\\u5c06\\\\u654f\\\\u611f\\\\u6570\\\\u636e\\\\u8f6c\\\\u6362\\\\u4e3a\\\\u4e0d\\\\u53ef\\\\u89c1\\\\u7684\\\\u6570\\\\u636e\\\\u683c\\\\u5f0f\\\\uff0c\\\\u4ece\\\\u800c\\\\u4fdd\\\\u62a4\\\\u6570\\\\u636e\\\\u8d21\\\\u732e\\\\u8005\\\\u548c\\\\u63a5\\\\u6536\\\\u8005\\\\u7684\\\\u4e2a\\\\u4eba\\\\u9690\\\\u79c1\\\\u548c\\\\u5546\\\\u4e1a\\\\u673a\\\\u5bc6\\\\u3002\\\\u56e0\\\\u6b64\\\\uff0c\\\\u53ea\\\\u6709\\\\u63a5\\\\u6536\\\\u8005\\\\u4f1a\\\\u6536\\\\u5230\\\\u67e5\\\\u8be2\\\\u7ed3\\\\u679c\\\\uff0c\\\\u800c\\\\u53d1\\\\u8d77\\\\u8005\\\\u4e0d\\\\u4f1a\\\\u56e0\\\\u6b64\\\\u88ab\\\\u6536\\\\u8d39\\\\u3002\\\\n\\\\n\\\\u9700\\\\u8981\\\\u6ce8\\\\u610f\\\\u7684\\\\u662f\\\\uff0c\\\\u5982\\\\u679c\", \"finished\": false}}\\n{\"outputs\": {\"outputs\": \"\\\\u4f7f\\\\u7528\", \"response\": \"AWS Clean Rooms\\\\u662f\\\\u4e00\\\\u79cd\\\\u6570\\\\u636e\\\\u9690\\\\u79c1\\\\u4fdd\\\\u62a4\\\\u6280\\\\u672f\\\\uff0c\\\\u4f7f\\\\u7528\\\\u8be5\\\\u6280\\\\u672f\\\\uff0c\\\\u53ef\\\\u4ee5\\\\u5c06\\\\u654f\\\\u611f\\\\u6570\\\\u636e\\\\u8f6c\\\\u6362\\\\u4e3a\\\\u4e0d\\\\u53ef\\\\u89c1\\\\u7684\\\\u6570\\\\u636e\\\\u683c\\\\u5f0f\\\\uff0c\\\\u4ece\\\\u800c\\\\u4fdd\\\\u62a4\\\\u6570\\\\u636e\\\\u8d21\\\\u732e\\\\u8005\\\\u548c\\\\u63a5\\\\u6536\\\\u8005\\\\u7684\\\\u4e2a\\\\u4eba\\\\u9690\\\\u79c1\\\\u548c\\\\u5546\\\\u4e1a\\\\u673a\\\\u5bc6\\\\u3002\\\\u56e0\\\\u6b64\\\\uff0c\\\\u53ea\\\\u6709\\\\u63a5\\\\u6536\\\\u8005\\\\u4f1a\\\\u6536\\\\u5230\\\\u67e5\\\\u8be2\\\\u7ed3\\\\u679c\\\\uff0c\\\\u800c\\\\u53d1\\\\u8d77\\\\u8005\\\\u4e0d\\\\u4f1a\\\\u56e0\\\\u6b64\\\\u88ab\\\\u6536\\\\u8d39\\\\u3002\\\\n\\\\n\\\\u9700\\\\u8981\\\\u6ce8\\\\u610f\\\\u7684\\\\u662f\\\\uff0c\\\\u5982\\\\u679c\\\\u4f7f\\\\u7528\", \"finished\": false}}\\n{\"outputs\": {\"outputs\": \"AWS\", \"response\": \"AWS Clean Rooms\\\\u662f\\\\u4e00\\\\u79cd\\\\u6570\\\\u636e\\\\u9690\\\\u79c1\\\\u4fdd\\\\u62a4\\\\u6280\\\\u672f\\\\uff0c\\\\u4f7f\\\\u7528\\\\u8be5\\\\u6280\\\\u672f\\\\uff0c\\\\u53ef\\\\u4ee5\\\\u5c06\\\\u654f\\\\u611f\\\\u6570\\\\u636e\\\\u8f6c\\\\u6362\\\\u4e3a\\\\u4e0d\\\\u53ef\\\\u89c1\\\\u7684\\\\u6570\\\\u636e\\\\u683c\\\\u5f0f\\\\uff0c\\\\u4ece\\\\u800c\\\\u4fdd\\\\u62a4\\\\u6570\\\\u636e\\\\u8d21\\\\u732e\\\\u8005\\\\u548c\\\\u63a5\\\\u6536\\\\u8005\\\\u7684\\\\u4e2a\\\\u4eba\\\\u9690\\\\u79c1\\\\u548c\\\\u5546\\\\u4e1a\\\\u673a\\\\u5bc6\\\\u3002\\\\u56e0\\\\u6b64\\\\uff0c\\\\u53ea\\\\u6709\\\\u63a5\\\\u6536\\\\u8005\\\\u4f1a\\\\u6536\\\\u5230\\\\u67e5\\\\u8be2\\\\u7ed3\\\\u679c\\\\uff0c\\\\u800c\\\\u53d1\\\\u8d77\\\\u8005\\\\u4e0d\\\\u4f1a\\\\u56e0\\\\u6b64\\\\u88ab\\\\u6536\\\\u8d39\\\\u3002\\\\n\\\\n\\\\u9700\\\\u8981\\\\u6ce8\\\\u610f\\\\u7684\\\\u662f\\\\uff0c\\\\u5982\\\\u679c\\\\u4f7f\\\\u7528AWS\", \"finished\": false}}\\n{\"outputs\": {\"outputs\": \" Clean\", \"response\": \"AWS Clean Rooms\\\\u662f\\\\u4e00\\\\u79cd\\\\u6570\\\\u636e\\\\u9690\\\\u79c1\\\\u4fdd\\\\u62a4\\\\u6280\\\\u672f\\\\uff0c\\\\u4f7f\\\\u7528\\\\u8be5\\\\u6280\\\\u672f\\\\uff0c\\\\u53ef\\\\u4ee5\\\\u5c06\\\\u654f\\\\u611f\\\\u6570\\\\u636e\\\\u8f6c\\\\u6362\\\\u4e3a\\\\u4e0d\\\\u53ef\\\\u89c1\\\\u7684\\\\u6570\\\\u636e\\\\u683c\\\\u5f0f\\\\uff0c\\\\u4ece\\\\u800c\\\\u4fdd\\\\u62a4\\\\u6570\\\\u636e\\\\u8d21\\\\u732e\\\\u8005\\\\u548c\\\\u63a5\\\\u6536\\\\u8005\\\\u7684\\\\u4e2a\\\\u4eba\\\\u9690\\\\u79c1\\\\u548c\\\\u5546\\\\u4e1a\\\\u673a\\\\u5bc6\\\\u3002\\\\u56e0\\\\u6b64\\\\uff0c\\\\u53ea\\\\u6709\\\\u63a5\\\\u6536\\\\u8005\\\\u4f1a\\\\u6536\\\\u5230\\\\u67e5\\\\u8be2\\\\u7ed3\\\\u679c\\\\uff0c\\\\u800c\\\\u53d1\\\\u8d77\\\\u8005\\\\u4e0d\\\\u4f1a\\\\u56e0\\\\u6b64\\\\u88ab\\\\u6536\\\\u8d39\\\\u3002\\\\n\\\\n\\\\u9700\\\\u8981\\\\u6ce8\\\\u610f\\\\u7684\\\\u662f\\\\uff0c\\\\u5982\\\\u679c\\\\u4f7f\\\\u7528AWS Clean\", \"finished\": false}}\\n{\"outputs\": {\"outputs\": \" Room\", \"response\": \"AWS Clean Rooms\\\\u662f\\\\u4e00\\\\u79cd\\\\u6570\\\\u636e\\\\u9690\\\\u79c1\\\\u4fdd\\\\u62a4\\\\u6280\\\\u672f\\\\uff0c\\\\u4f7f\\\\u7528\\\\u8be5\\\\u6280\\\\u672f\\\\uff0c\\\\u53ef\\\\u4ee5\\\\u5c06\\\\u654f\\\\u611f\\\\u6570\\\\u636e\\\\u8f6c\\\\u6362\\\\u4e3a\\\\u4e0d\\\\u53ef\\\\u89c1\\\\u7684\\\\u6570\\\\u636e\\\\u683c\\\\u5f0f\\\\uff0c\\\\u4ece\\\\u800c\\\\u4fdd\\\\u62a4\\\\u6570\\\\u636e\\\\u8d21\\\\u732e\\\\u8005\\\\u548c\\\\u63a5\\\\u6536\\\\u8005\\\\u7684\\\\u4e2a\\\\u4eba\\\\u9690\\\\u79c1\\\\u548c\\\\u5546\\\\u4e1a\\\\u673a\\\\u5bc6\\\\u3002\\\\u56e0\\\\u6b64\\\\uff0c\\\\u53ea\\\\u6709\\\\u63a5\\\\u6536\\\\u8005\\\\u4f1a\\\\u6536\\\\u5230\\\\u67e5\\\\u8be2\\\\u7ed3\\\\u679c\\\\uff0c\\\\u800c\\\\u53d1\\\\u8d77\\\\u8005\\\\u4e0d\\\\u4f1a\\\\u56e0\\\\u6b64\\\\u88ab\\\\u6536\\\\u8d39\\\\u3002\\\\n\\\\n\\\\u9700\\\\u8981\\\\u6ce8\\\\u610f\\\\u7684\\\\u662f\\\\uff0c\\\\u5982\\\\u679c\\\\u4f7f\\\\u7528AWS Clean Room\", \"finished\": false}}\\n{\"outputs\": {\"outputs\": \"s\", \"response\": \"AWS Clean Rooms\\\\u662f\\\\u4e00\\\\u79cd\\\\u6570\\\\u636e\\\\u9690\\\\u79c1\\\\u4fdd\\\\u62a4\\\\u6280\\\\u672f\\\\uff0c\\\\u4f7f\\\\u7528\\\\u8be5\\\\u6280\\\\u672f\\\\uff0c\\\\u53ef\\\\u4ee5\\\\u5c06\\\\u654f\\\\u611f\\\\u6570\\\\u636e\\\\u8f6c\\\\u6362\\\\u4e3a\\\\u4e0d\\\\u53ef\\\\u89c1\\\\u7684\\\\u6570\\\\u636e\\\\u683c\\\\u5f0f\\\\uff0c\\\\u4ece\\\\u800c\\\\u4fdd\\\\u62a4\\\\u6570\\\\u636e\\\\u8d21\\\\u732e\\\\u8005\\\\u548c\\\\u63a5\\\\u6536\\\\u8005\\\\u7684\\\\u4e2a\\\\u4eba\\\\u9690\\\\u79c1\\\\u548c\\\\u5546\\\\u4e1a\\\\u673a\\\\u5bc6\\\\u3002\\\\u56e0\\\\u6b64\\\\uff0c\\\\u53ea\\\\u6709\\\\u63a5\\\\u6536\\\\u8005\\\\u4f1a\\\\u6536\\\\u5230\\\\u67e5\\\\u8be2\\\\u7ed3\\\\u679c\\\\uff0c\\\\u800c\\\\u53d1\\\\u8d77\\\\u8005\\\\u4e0d\\\\u4f1a\\\\u56e0\\\\u6b64\\\\u88ab\\\\u6536\\\\u8d39\\\\u3002\\\\n\\\\n\\\\u9700\\\\u8981\\\\u6ce8\\\\u610f\\\\u7684\\\\u662f\\\\uff0c\\\\u5982\\\\u679c\\\\u4f7f\\\\u7528AWS Clean Rooms\", \"finished\": false}}\\n{\"outputs\": {\"outputs\": \"\\\\u8fdb\\\\u884c\", \"response\": \"AWS Clean Rooms\\\\u662f\\\\u4e00\\\\u79cd\\\\u6570\\\\u636e\\\\u9690\\\\u79c1\\\\u4fdd\\\\u62a4\\\\u6280\\\\u672f\\\\uff0c\\\\u4f7f\\\\u7528\\\\u8be5\\\\u6280\\\\u672f\\\\uff0c\\\\u53ef\\\\u4ee5\\\\u5c06\\\\u654f\\\\u611f\\\\u6570\\\\u636e\\\\u8f6c\\\\u6362\\\\u4e3a\\\\u4e0d\\\\u53ef\\\\u89c1\\\\u7684\\\\u6570\\\\u636e\\\\u683c\\\\u5f0f\\\\uff0c\\\\u4ece\\\\u800c\\\\u4fdd\\\\u62a4\\\\u6570\\\\u636e\\\\u8d21\\\\u732e\\\\u8005\\\\u548c\\\\u63a5\\\\u6536\\\\u8005\\\\u7684\\\\u4e2a\\\\u4eba\\\\u9690\\\\u79c1\\\\u548c\\\\u5546\\\\u4e1a\\\\u673a\\\\u5bc6\\\\u3002\\\\u56e0\\\\u6b64\\\\uff0c\\\\u53ea\\\\u6709\\\\u63a5\\\\u6536\\\\u8005\\\\u4f1a\\\\u6536\\\\u5230\\\\u67e5\\\\u8be2\\\\u7ed3\\\\u679c\\\\uff0c\\\\u800c\\\\u53d1\\\\u8d77\\\\u8005\\\\u4e0d\\\\u4f1a\\\\u56e0\\\\u6b64\\\\u88ab\\\\u6536\\\\u8d39\\\\u3002\\\\n\\\\n\\\\u9700\\\\u8981\\\\u6ce8\\\\u610f\\\\u7684\\\\u662f\\\\uff0c\\\\u5982\\\\u679c\\\\u4f7f\\\\u7528AWS Clean Rooms\\\\u8fdb\\\\u884c\", \"finished\": false}}\\n{\"outputs\": {\"outputs\": \"\\\\u6570\\\\u636e\", \"response\": \"AWS Clean Rooms\\\\u662f\\\\u4e00\\\\u79cd\\\\u6570\\\\u636e\\\\u9690\\\\u79c1\\\\u4fdd\\\\u62a4\\\\u6280\\\\u672f\\\\uff0c\\\\u4f7f\\\\u7528\\\\u8be5\\\\u6280\\\\u672f\\\\uff0c\\\\u53ef\\\\u4ee5\\\\u5c06\\\\u654f\\\\u611f\\\\u6570\\\\u636e\\\\u8f6c\\\\u6362\\\\u4e3a\\\\u4e0d\\\\u53ef\\\\u89c1\\\\u7684\\\\u6570\\\\u636e\\\\u683c\\\\u5f0f\\\\uff0c\\\\u4ece\\\\u800c\\\\u4fdd\\\\u62a4\\\\u6570\\\\u636e\\\\u8d21\\\\u732e\\\\u8005\\\\u548c\\\\u63a5\\\\u6536\\\\u8005\\\\u7684\\\\u4e2a\\\\u4eba\\\\u9690\\\\u79c1\\\\u548c\\\\u5546\\\\u4e1a\\\\u673a\\\\u5bc6\\\\u3002\\\\u56e0\\\\u6b64\\\\uff0c\\\\u53ea\\\\u6709\\\\u63a5\\\\u6536\\\\u8005\\\\u4f1a\\\\u6536\\\\u5230\\\\u67e5\\\\u8be2\\\\u7ed3\\\\u679c\\\\uff0c\\\\u800c\\\\u53d1\\\\u8d77\\\\u8005\\\\u4e0d\\\\u4f1a\\\\u56e0\\\\u6b64\\\\u88ab\\\\u6536\\\\u8d39\\\\u3002\\\\n\\\\n\\\\u9700\\\\u8981\\\\u6ce8\\\\u610f\\\\u7684\\\\u662f\\\\uff0c\\\\u5982\\\\u679c\\\\u4f7f\\\\u7528AWS Clean Rooms\\\\u8fdb\\\\u884c\\\\u6570\\\\u636e\", \"finished\": false}}\\n{\"outputs\": {\"outputs\": \"\\\\u9690\\\\u79c1\", \"response\": \"AWS Clean Rooms\\\\u662f\\\\u4e00\\\\u79cd\\\\u6570\\\\u636e\\\\u9690\\\\u79c1\\\\u4fdd\\\\u62a4\\\\u6280\\\\u672f\\\\uff0c\\\\u4f7f\\\\u7528\\\\u8be5\\\\u6280\\\\u672f\\\\uff0c\\\\u53ef\\\\u4ee5\\\\u5c06\\\\u654f\\\\u611f\\\\u6570\\\\u636e\\\\u8f6c\\\\u6362\\\\u4e3a\\\\u4e0d\\\\u53ef\\\\u89c1\\\\u7684\\\\u6570\\\\u636e\\\\u683c\\\\u5f0f\\\\uff0c\\\\u4ece\\\\u800c\\\\u4fdd\\\\u62a4\\\\u6570\\\\u636e\\\\u8d21\\\\u732e\\\\u8005\\\\u548c\\\\u63a5\\\\u6536\\\\u8005\\\\u7684\\\\u4e2a\\\\u4eba\\\\u9690\\\\u79c1\\\\u548c\\\\u5546\\\\u4e1a\\\\u673a\\\\u5bc6\\\\u3002\\\\u56e0\\\\u6b64\\\\uff0c\\\\u53ea\\\\u6709\\\\u63a5\\\\u6536\\\\u8005\\\\u4f1a\\\\u6536\\\\u5230\\\\u67e5\\\\u8be2\\\\u7ed3\\\\u679c\\\\uff0c\\\\u800c\\\\u53d1\\\\u8d77\\\\u8005\\\\u4e0d\\\\u4f1a\\\\u56e0\\\\u6b64\\\\u88ab\\\\u6536\\\\u8d39\\\\u3002\\\\n\\\\n\\\\u9700\\\\u8981\\\\u6ce8\\\\u610f\\\\u7684\\\\u662f\\\\uff0c\\\\u5982\\\\u679c\\\\u4f7f\\\\u7528AWS Clean Rooms\\\\u8fdb\\\\u884c\\\\u6570\\\\u636e\\\\u9690\\\\u79c1\", \"finished\": false}}\\n{\"outputs\": {\"outputs\": \"\\\\u4fdd\\\\u62a4\", \"response\": \"AWS Clean Rooms\\\\u662f\\\\u4e00\\\\u79cd\\\\u6570\\\\u636e\\\\u9690\\\\u79c1\\\\u4fdd\\\\u62a4\\\\u6280\\\\u672f\\\\uff0c\\\\u4f7f\\\\u7528\\\\u8be5\\\\u6280\\\\u672f\\\\uff0c\\\\u53ef\\\\u4ee5\\\\u5c06\\\\u654f\\\\u611f\\\\u6570\\\\u636e\\\\u8f6c\\\\u6362\\\\u4e3a\\\\u4e0d\\\\u53ef\\\\u89c1\\\\u7684\\\\u6570\\\\u636e\\\\u683c\\\\u5f0f\\\\uff0c\\\\u4ece\\\\u800c\\\\u4fdd\\\\u62a4\\\\u6570\\\\u636e\\\\u8d21\\\\u732e\\\\u8005\\\\u548c\\\\u63a5\\\\u6536\\\\u8005\\\\u7684\\\\u4e2a\\\\u4eba\\\\u9690\\\\u79c1\\\\u548c\\\\u5546\\\\u4e1a\\\\u673a\\\\u5bc6\\\\u3002\\\\u56e0\\\\u6b64\\\\uff0c\\\\u53ea\\\\u6709\\\\u63a5\\\\u6536\\\\u8005\\\\u4f1a\\\\u6536\\\\u5230\\\\u67e5\\\\u8be2\\\\u7ed3\\\\u679c\\\\uff0c\\\\u800c\\\\u53d1\\\\u8d77\\\\u8005\\\\u4e0d\\\\u4f1a\\\\u56e0\\\\u6b64\\\\u88ab\\\\u6536\\\\u8d39\\\\u3002\\\\n\\\\n\\\\u9700\\\\u8981\\\\u6ce8\\\\u610f\\\\u7684\\\\u662f\\\\uff0c\\\\u5982\\\\u679c\\\\u4f7f\\\\u7528AWS Clean Rooms\\\\u8fdb\\\\u884c\\\\u6570\\\\u636e\\\\u9690\\\\u79c1\\\\u4fdd\\\\u62a4\", \"finished\": false}}\\n{\"outputs\": {\"outputs\": \"\\\\uff0c\", \"response\": \"AWS Clean Rooms\\\\u662f\\\\u4e00\\\\u79cd\\\\u6570\\\\u636e\\\\u9690\\\\u79c1\\\\u4fdd\\\\u62a4\\\\u6280\\\\u672f\\\\uff0c\\\\u4f7f\\\\u7528\\\\u8be5\\\\u6280\\\\u672f\\\\uff0c\\\\u53ef\\\\u4ee5\\\\u5c06\\\\u654f\\\\u611f\\\\u6570\\\\u636e\\\\u8f6c\\\\u6362\\\\u4e3a\\\\u4e0d\\\\u53ef\\\\u89c1\\\\u7684\\\\u6570\\\\u636e\\\\u683c\\\\u5f0f\\\\uff0c\\\\u4ece\\\\u800c\\\\u4fdd\\\\u62a4\\\\u6570\\\\u636e\\\\u8d21\\\\u732e\\\\u8005\\\\u548c\\\\u63a5\\\\u6536\\\\u8005\\\\u7684\\\\u4e2a\\\\u4eba\\\\u9690\\\\u79c1\\\\u548c\\\\u5546\\\\u4e1a\\\\u673a\\\\u5bc6\\\\u3002\\\\u56e0\\\\u6b64\\\\uff0c\\\\u53ea\\\\u6709\\\\u63a5\\\\u6536\\\\u8005\\\\u4f1a\\\\u6536\\\\u5230\\\\u67e5\\\\u8be2\\\\u7ed3\\\\u679c\\\\uff0c\\\\u800c\\\\u53d1\\\\u8d77\\\\u8005\\\\u4e0d\\\\u4f1a\\\\u56e0\\\\u6b64\\\\u88ab\\\\u6536\\\\u8d39\\\\u3002\\\\n\\\\n\\\\u9700\\\\u8981\\\\u6ce8\\\\u610f\\\\u7684\\\\u662f\\\\uff0c\\\\u5982\\\\u679c\\\\u4f7f\\\\u7528AWS Clean Rooms\\\\u8fdb\\\\u884c\\\\u6570\\\\u636e\\\\u9690\\\\u79c1\\\\u4fdd\\\\u62a4\\\\uff0c\", \"finished\": false}}\\n{\"outputs\": {\"outputs\": \"\\\\u8bf7\", \"response\": \"AWS Clean Rooms\\\\u662f\\\\u4e00\\\\u79cd\\\\u6570\\\\u636e\\\\u9690\\\\u79c1\\\\u4fdd\\\\u62a4\\\\u6280\\\\u672f\\\\uff0c\\\\u4f7f\\\\u7528\\\\u8be5\\\\u6280\\\\u672f\\\\uff0c\\\\u53ef\\\\u4ee5\\\\u5c06\\\\u654f\\\\u611f\\\\u6570\\\\u636e\\\\u8f6c\\\\u6362\\\\u4e3a\\\\u4e0d\\\\u53ef\\\\u89c1\\\\u7684\\\\u6570\\\\u636e\\\\u683c\\\\u5f0f\\\\uff0c\\\\u4ece\\\\u800c\\\\u4fdd\\\\u62a4\\\\u6570\\\\u636e\\\\u8d21\\\\u732e\\\\u8005\\\\u548c\\\\u63a5\\\\u6536\\\\u8005\\\\u7684\\\\u4e2a\\\\u4eba\\\\u9690\\\\u79c1\\\\u548c\\\\u5546\\\\u4e1a\\\\u673a\\\\u5bc6\\\\u3002\\\\u56e0\\\\u6b64\\\\uff0c\\\\u53ea\\\\u6709\\\\u63a5\\\\u6536\\\\u8005\\\\u4f1a\\\\u6536\\\\u5230\\\\u67e5\\\\u8be2\\\\u7ed3\\\\u679c\\\\uff0c\\\\u800c\\\\u53d1\\\\u8d77\\\\u8005\\\\u4e0d\\\\u4f1a\\\\u56e0\\\\u6b64\\\\u88ab\\\\u6536\\\\u8d39\\\\u3002\\\\n\\\\n\\\\u9700\\\\u8981\\\\u6ce8\\\\u610f\\\\u7684\\\\u662f\\\\uff0c\\\\u5982\\\\u679c\\\\u4f7f\\\\u7528AWS Clean Rooms\\\\u8fdb\\\\u884c\\\\u6570\\\\u636e\\\\u9690\\\\u79c1\\\\u4fdd\\\\u62a4\\\\uff0c\\\\u8bf7\", \"finished\": false}}\\n{\"outputs\": {\"outputs\": \"\\\\u786e\\\\u4fdd\", \"response\": \"AWS Clean Rooms\\\\u662f\\\\u4e00\\\\u79cd\\\\u6570\\\\u636e\\\\u9690\\\\u79c1\\\\u4fdd\\\\u62a4\\\\u6280\\\\u672f\\\\uff0c\\\\u4f7f\\\\u7528\\\\u8be5\\\\u6280\\\\u672f\\\\uff0c\\\\u53ef\\\\u4ee5\\\\u5c06\\\\u654f\\\\u611f\\\\u6570\\\\u636e\\\\u8f6c\\\\u6362\\\\u4e3a\\\\u4e0d\\\\u53ef\\\\u89c1\\\\u7684\\\\u6570\\\\u636e\\\\u683c\\\\u5f0f\\\\uff0c\\\\u4ece\\\\u800c\\\\u4fdd\\\\u62a4\\\\u6570\\\\u636e\\\\u8d21\\\\u732e\\\\u8005\\\\u548c\\\\u63a5\\\\u6536\\\\u8005\\\\u7684\\\\u4e2a\\\\u4eba\\\\u9690\\\\u79c1\\\\u548c\\\\u5546\\\\u4e1a\\\\u673a\\\\u5bc6\\\\u3002\\\\u56e0\\\\u6b64\\\\uff0c\\\\u53ea\\\\u6709\\\\u63a5\\\\u6536\\\\u8005\\\\u4f1a\\\\u6536\\\\u5230\\\\u67e5\\\\u8be2\\\\u7ed3\\\\u679c\\\\uff0c\\\\u800c\\\\u53d1\\\\u8d77\\\\u8005\\\\u4e0d\\\\u4f1a\\\\u56e0\\\\u6b64\\\\u88ab\\\\u6536\\\\u8d39\\\\u3002\\\\n\\\\n\\\\u9700\\\\u8981\\\\u6ce8\\\\u610f\\\\u7684\\\\u662f\\\\uff0c\\\\u5982\\\\u679c\\\\u4f7f\\\\u7528AWS Clean Rooms\\\\u8fdb\\\\u884c\\\\u6570\\\\u636e\\\\u9690\\\\u79c1\\\\u4fdd\\\\u62a4\\\\uff0c\\\\u8bf7\\\\u786e\\\\u4fdd\", \"finished\": false}}\\n{\"outputs\": {\"outputs\": \"\\\\u6570\\\\u636e\", \"response\": \"AWS Clean Rooms\\\\u662f\\\\u4e00\\\\u79cd\\\\u6570\\\\u636e\\\\u9690\\\\u79c1\\\\u4fdd\\\\u62a4\\\\u6280\\\\u672f\\\\uff0c\\\\u4f7f\\\\u7528\\\\u8be5\\\\u6280\\\\u672f\\\\uff0c\\\\u53ef\\\\u4ee5\\\\u5c06\\\\u654f\\\\u611f\\\\u6570\\\\u636e\\\\u8f6c\\\\u6362\\\\u4e3a\\\\u4e0d\\\\u53ef\\\\u89c1\\\\u7684\\\\u6570\\\\u636e\\\\u683c\\\\u5f0f\\\\uff0c\\\\u4ece\\\\u800c\\\\u4fdd\\\\u62a4\\\\u6570\\\\u636e\\\\u8d21\\\\u732e\\\\u8005\\\\u548c\\\\u63a5\\\\u6536\\\\u8005\\\\u7684\\\\u4e2a\\\\u4eba\\\\u9690\\\\u79c1\\\\u548c\\\\u5546\\\\u4e1a\\\\u673a\\\\u5bc6\\\\u3002\\\\u56e0\\\\u6b64\\\\uff0c\\\\u53ea\\\\u6709\\\\u63a5\\\\u6536\\\\u8005\\\\u4f1a\\\\u6536\\\\u5230\\\\u67e5\\\\u8be2\\\\u7ed3\\\\u679c\\\\uff0c\\\\u800c\\\\u53d1\\\\u8d77\\\\u8005\\\\u4e0d\\\\u4f1a\\\\u56e0\\\\u6b64\\\\u88ab\\\\u6536\\\\u8d39\\\\u3002\\\\n\\\\n\\\\u9700\\\\u8981\\\\u6ce8\\\\u610f\\\\u7684\\\\u662f\\\\uff0c\\\\u5982\\\\u679c\\\\u4f7f\\\\u7528AWS Clean Rooms\\\\u8fdb\\\\u884c\\\\u6570\\\\u636e\\\\u9690\\\\u79c1\\\\u4fdd\\\\u62a4\\\\uff0c\\\\u8bf7\\\\u786e\\\\u4fdd\\\\u6570\\\\u636e\", \"finished\": false}}\\n{\"outputs\": {\"outputs\": \"\\\\u8d21\\\\u732e\", \"response\": \"AWS Clean Rooms\\\\u662f\\\\u4e00\\\\u79cd\\\\u6570\\\\u636e\\\\u9690\\\\u79c1\\\\u4fdd\\\\u62a4\\\\u6280\\\\u672f\\\\uff0c\\\\u4f7f\\\\u7528\\\\u8be5\\\\u6280\\\\u672f\\\\uff0c\\\\u53ef\\\\u4ee5\\\\u5c06\\\\u654f\\\\u611f\\\\u6570\\\\u636e\\\\u8f6c\\\\u6362\\\\u4e3a\\\\u4e0d\\\\u53ef\\\\u89c1\\\\u7684\\\\u6570\\\\u636e\\\\u683c\\\\u5f0f\\\\uff0c\\\\u4ece\\\\u800c\\\\u4fdd\\\\u62a4\\\\u6570\\\\u636e\\\\u8d21\\\\u732e\\\\u8005\\\\u548c\\\\u63a5\\\\u6536\\\\u8005\\\\u7684\\\\u4e2a\\\\u4eba\\\\u9690\\\\u79c1\\\\u548c\\\\u5546\\\\u4e1a\\\\u673a\\\\u5bc6\\\\u3002\\\\u56e0\\\\u6b64\\\\uff0c\\\\u53ea\\\\u6709\\\\u63a5\\\\u6536\\\\u8005\\\\u4f1a\\\\u6536\\\\u5230\\\\u67e5\\\\u8be2\\\\u7ed3\\\\u679c\\\\uff0c\\\\u800c\\\\u53d1\\\\u8d77\\\\u8005\\\\u4e0d\\\\u4f1a\\\\u56e0\\\\u6b64\\\\u88ab\\\\u6536\\\\u8d39\\\\u3002\\\\n\\\\n\\\\u9700\\\\u8981\\\\u6ce8\\\\u610f\\\\u7684\\\\u662f\\\\uff0c\\\\u5982\\\\u679c\\\\u4f7f\\\\u7528AWS Clean Rooms\\\\u8fdb\\\\u884c\\\\u6570\\\\u636e\\\\u9690\\\\u79c1\\\\u4fdd\\\\u62a4\\\\uff0c\\\\u8bf7\\\\u786e\\\\u4fdd\\\\u6570\\\\u636e\\\\u8d21\\\\u732e\", \"finished\": false}}\\n{\"outputs\": {\"outputs\": \"\\\\u8005\\\\u548c\", \"response\": \"AWS Clean Rooms\\\\u662f\\\\u4e00\\\\u79cd\\\\u6570\\\\u636e\\\\u9690\\\\u79c1\\\\u4fdd\\\\u62a4\\\\u6280\\\\u672f\\\\uff0c\\\\u4f7f\\\\u7528\\\\u8be5\\\\u6280\\\\u672f\\\\uff0c\\\\u53ef\\\\u4ee5\\\\u5c06\\\\u654f\\\\u611f\\\\u6570\\\\u636e\\\\u8f6c\\\\u6362\\\\u4e3a\\\\u4e0d\\\\u53ef\\\\u89c1\\\\u7684\\\\u6570\\\\u636e\\\\u683c\\\\u5f0f\\\\uff0c\\\\u4ece\\\\u800c\\\\u4fdd\\\\u62a4\\\\u6570\\\\u636e\\\\u8d21\\\\u732e\\\\u8005\\\\u548c\\\\u63a5\\\\u6536\\\\u8005\\\\u7684\\\\u4e2a\\\\u4eba\\\\u9690\\\\u79c1\\\\u548c\\\\u5546\\\\u4e1a\\\\u673a\\\\u5bc6\\\\u3002\\\\u56e0\\\\u6b64\\\\uff0c\\\\u53ea\\\\u6709\\\\u63a5\\\\u6536\\\\u8005\\\\u4f1a\\\\u6536\\\\u5230\\\\u67e5\\\\u8be2\\\\u7ed3\\\\u679c\\\\uff0c\\\\u800c\\\\u53d1\\\\u8d77\\\\u8005\\\\u4e0d\\\\u4f1a\\\\u56e0\\\\u6b64\\\\u88ab\\\\u6536\\\\u8d39\\\\u3002\\\\n\\\\n\\\\u9700\\\\u8981\\\\u6ce8\\\\u610f\\\\u7684\\\\u662f\\\\uff0c\\\\u5982\\\\u679c\\\\u4f7f\\\\u7528AWS Clean Rooms\\\\u8fdb\\\\u884c\\\\u6570\\\\u636e\\\\u9690\\\\u79c1\\\\u4fdd\\\\u62a4\\\\uff0c\\\\u8bf7\\\\u786e\\\\u4fdd\\\\u6570\\\\u636e\\\\u8d21\\\\u732e\\\\u8005\\\\u548c\", \"finished\": false}}\\n{\"outputs\": {\"outputs\": \"\\\\u63a5\\\\u6536\", \"response\": \"AWS Clean Rooms\\\\u662f\\\\u4e00\\\\u79cd\\\\u6570\\\\u636e\\\\u9690\\\\u79c1\\\\u4fdd\\\\u62a4\\\\u6280\\\\u672f\\\\uff0c\\\\u4f7f\\\\u7528\\\\u8be5\\\\u6280\\\\u672f\\\\uff0c\\\\u53ef\\\\u4ee5\\\\u5c06\\\\u654f\\\\u611f\\\\u6570\\\\u636e\\\\u8f6c\\\\u6362\\\\u4e3a\\\\u4e0d\\\\u53ef\\\\u89c1\\\\u7684\\\\u6570\\\\u636e\\\\u683c\\\\u5f0f\\\\uff0c\\\\u4ece\\\\u800c\\\\u4fdd\\\\u62a4\\\\u6570\\\\u636e\\\\u8d21\\\\u732e\\\\u8005\\\\u548c\\\\u63a5\\\\u6536\\\\u8005\\\\u7684\\\\u4e2a\\\\u4eba\\\\u9690\\\\u79c1\\\\u548c\\\\u5546\\\\u4e1a\\\\u673a\\\\u5bc6\\\\u3002\\\\u56e0\\\\u6b64\\\\uff0c\\\\u53ea\\\\u6709\\\\u63a5\\\\u6536\\\\u8005\\\\u4f1a\\\\u6536\\\\u5230\\\\u67e5\\\\u8be2\\\\u7ed3\\\\u679c\\\\uff0c\\\\u800c\\\\u53d1\\\\u8d77\\\\u8005\\\\u4e0d\\\\u4f1a\\\\u56e0\\\\u6b64\\\\u88ab\\\\u6536\\\\u8d39\\\\u3002\\\\n\\\\n\\\\u9700\\\\u8981\\\\u6ce8\\\\u610f\\\\u7684\\\\u662f\\\\uff0c\\\\u5982\\\\u679c\\\\u4f7f\\\\u7528AWS Clean Rooms\\\\u8fdb\\\\u884c\\\\u6570\\\\u636e\\\\u9690\\\\u79c1\\\\u4fdd\\\\u62a4\\\\uff0c\\\\u8bf7\\\\u786e\\\\u4fdd\\\\u6570\\\\u636e\\\\u8d21\\\\u732e\\\\u8005\\\\u548c\\\\u63a5\\\\u6536\", \"finished\": false}}\\n{\"outputs\": {\"outputs\": \"\\\\u8005\", \"response\": \"AWS Clean Rooms\\\\u662f\\\\u4e00\\\\u79cd\\\\u6570\\\\u636e\\\\u9690\\\\u79c1\\\\u4fdd\\\\u62a4\\\\u6280\\\\u672f\\\\uff0c\\\\u4f7f\\\\u7528\\\\u8be5\\\\u6280\\\\u672f\\\\uff0c\\\\u53ef\\\\u4ee5\\\\u5c06\\\\u654f\\\\u611f\\\\u6570\\\\u636e\\\\u8f6c\\\\u6362\\\\u4e3a\\\\u4e0d\\\\u53ef\\\\u89c1\\\\u7684\\\\u6570\\\\u636e\\\\u683c\\\\u5f0f\\\\uff0c\\\\u4ece\\\\u800c\\\\u4fdd\\\\u62a4\\\\u6570\\\\u636e\\\\u8d21\\\\u732e\\\\u8005\\\\u548c\\\\u63a5\\\\u6536\\\\u8005\\\\u7684\\\\u4e2a\\\\u4eba\\\\u9690\\\\u79c1\\\\u548c\\\\u5546\\\\u4e1a\\\\u673a\\\\u5bc6\\\\u3002\\\\u56e0\\\\u6b64\\\\uff0c\\\\u53ea\\\\u6709\\\\u63a5\\\\u6536\\\\u8005\\\\u4f1a\\\\u6536\\\\u5230\\\\u67e5\\\\u8be2\\\\u7ed3\\\\u679c\\\\uff0c\\\\u800c\\\\u53d1\\\\u8d77\\\\u8005\\\\u4e0d\\\\u4f1a\\\\u56e0\\\\u6b64\\\\u88ab\\\\u6536\\\\u8d39\\\\u3002\\\\n\\\\n\\\\u9700\\\\u8981\\\\u6ce8\\\\u610f\\\\u7684\\\\u662f\\\\uff0c\\\\u5982\\\\u679c\\\\u4f7f\\\\u7528AWS Clean Rooms\\\\u8fdb\\\\u884c\\\\u6570\\\\u636e\\\\u9690\\\\u79c1\\\\u4fdd\\\\u62a4\\\\uff0c\\\\u8bf7\\\\u786e\\\\u4fdd\\\\u6570\\\\u636e\\\\u8d21\\\\u732e\\\\u8005\\\\u548c\\\\u63a5\\\\u6536\\\\u8005\", \"finished\": false}}\\n{\"outputs\": {\"outputs\": \"\\\\u90fd\\\\u77e5\\\\u9053\", \"response\": \"AWS Clean Rooms\\\\u662f\\\\u4e00\\\\u79cd\\\\u6570\\\\u636e\\\\u9690\\\\u79c1\\\\u4fdd\\\\u62a4\\\\u6280\\\\u672f\\\\uff0c\\\\u4f7f\\\\u7528\\\\u8be5\\\\u6280\\\\u672f\\\\uff0c\\\\u53ef\\\\u4ee5\\\\u5c06\\\\u654f\\\\u611f\\\\u6570\\\\u636e\\\\u8f6c\\\\u6362\\\\u4e3a\\\\u4e0d\\\\u53ef\\\\u89c1\\\\u7684\\\\u6570\\\\u636e\\\\u683c\\\\u5f0f\\\\uff0c\\\\u4ece\\\\u800c\\\\u4fdd\\\\u62a4\\\\u6570\\\\u636e\\\\u8d21\\\\u732e\\\\u8005\\\\u548c\\\\u63a5\\\\u6536\\\\u8005\\\\u7684\\\\u4e2a\\\\u4eba\\\\u9690\\\\u79c1\\\\u548c\\\\u5546\\\\u4e1a\\\\u673a\\\\u5bc6\\\\u3002\\\\u56e0\\\\u6b64\\\\uff0c\\\\u53ea\\\\u6709\\\\u63a5\\\\u6536\\\\u8005\\\\u4f1a\\\\u6536\\\\u5230\\\\u67e5\\\\u8be2\\\\u7ed3\\\\u679c\\\\uff0c\\\\u800c\\\\u53d1\\\\u8d77\\\\u8005\\\\u4e0d\\\\u4f1a\\\\u56e0\\\\u6b64\\\\u88ab\\\\u6536\\\\u8d39\\\\u3002\\\\n\\\\n\\\\u9700\\\\u8981\\\\u6ce8\\\\u610f\\\\u7684\\\\u662f\\\\uff0c\\\\u5982\\\\u679c\\\\u4f7f\\\\u7528AWS Clean Rooms\\\\u8fdb\\\\u884c\\\\u6570\\\\u636e\\\\u9690\\\\u79c1\\\\u4fdd\\\\u62a4\\\\uff0c\\\\u8bf7\\\\u786e\\\\u4fdd\\\\u6570\\\\u636e\\\\u8d21\\\\u732e\\\\u8005\\\\u548c\\\\u63a5\\\\u6536\\\\u8005\\\\u90fd\\\\u77e5\\\\u9053\", \"finished\": false}}\\n{\"outputs\": {\"outputs\": \"\\\\u8be5\\\\u6280\\\\u672f\", \"response\": \"AWS Clean Rooms\\\\u662f\\\\u4e00\\\\u79cd\\\\u6570\\\\u636e\\\\u9690\\\\u79c1\\\\u4fdd\\\\u62a4\\\\u6280\\\\u672f\\\\uff0c\\\\u4f7f\\\\u7528\\\\u8be5\\\\u6280\\\\u672f\\\\uff0c\\\\u53ef\\\\u4ee5\\\\u5c06\\\\u654f\\\\u611f\\\\u6570\\\\u636e\\\\u8f6c\\\\u6362\\\\u4e3a\\\\u4e0d\\\\u53ef\\\\u89c1\\\\u7684\\\\u6570\\\\u636e\\\\u683c\\\\u5f0f\\\\uff0c\\\\u4ece\\\\u800c\\\\u4fdd\\\\u62a4\\\\u6570\\\\u636e\\\\u8d21\\\\u732e\\\\u8005\\\\u548c\\\\u63a5\\\\u6536\\\\u8005\\\\u7684\\\\u4e2a\\\\u4eba\\\\u9690\\\\u79c1\\\\u548c\\\\u5546\\\\u4e1a\\\\u673a\\\\u5bc6\\\\u3002\\\\u56e0\\\\u6b64\\\\uff0c\\\\u53ea\\\\u6709\\\\u63a5\\\\u6536\\\\u8005\\\\u4f1a\\\\u6536\\\\u5230\\\\u67e5\\\\u8be2\\\\u7ed3\\\\u679c\\\\uff0c\\\\u800c\\\\u53d1\\\\u8d77\\\\u8005\\\\u4e0d\\\\u4f1a\\\\u56e0\\\\u6b64\\\\u88ab\\\\u6536\\\\u8d39\\\\u3002\\\\n\\\\n\\\\u9700\\\\u8981\\\\u6ce8\\\\u610f\\\\u7684\\\\u662f\\\\uff0c\\\\u5982\\\\u679c\\\\u4f7f\\\\u7528AWS Clean Rooms\\\\u8fdb\\\\u884c\\\\u6570\\\\u636e\\\\u9690\\\\u79c1\\\\u4fdd\\\\u62a4\\\\uff0c\\\\u8bf7\\\\u786e\\\\u4fdd\\\\u6570\\\\u636e\\\\u8d21\\\\u732e\\\\u8005\\\\u548c\\\\u63a5\\\\u6536\\\\u8005\\\\u90fd\\\\u77e5\\\\u9053\\\\u8be5\\\\u6280\\\\u672f\", \"finished\": false}}\\n{\"outputs\": {\"outputs\": \"\\\\u7684\\\\u4f7f\\\\u7528\", \"response\": \"AWS Clean Rooms\\\\u662f\\\\u4e00\\\\u79cd\\\\u6570\\\\u636e\\\\u9690\\\\u79c1\\\\u4fdd\\\\u62a4\\\\u6280\\\\u672f\\\\uff0c\\\\u4f7f\\\\u7528\\\\u8be5\\\\u6280\\\\u672f\\\\uff0c\\\\u53ef\\\\u4ee5\\\\u5c06\\\\u654f\\\\u611f\\\\u6570\\\\u636e\\\\u8f6c\\\\u6362\\\\u4e3a\\\\u4e0d\\\\u53ef\\\\u89c1\\\\u7684\\\\u6570\\\\u636e\\\\u683c\\\\u5f0f\\\\uff0c\\\\u4ece\\\\u800c\\\\u4fdd\\\\u62a4\\\\u6570\\\\u636e\\\\u8d21\\\\u732e\\\\u8005\\\\u548c\\\\u63a5\\\\u6536\\\\u8005\\\\u7684\\\\u4e2a\\\\u4eba\\\\u9690\\\\u79c1\\\\u548c\\\\u5546\\\\u4e1a\\\\u673a\\\\u5bc6\\\\u3002\\\\u56e0\\\\u6b64\\\\uff0c\\\\u53ea\\\\u6709\\\\u63a5\\\\u6536\\\\u8005\\\\u4f1a\\\\u6536\\\\u5230\\\\u67e5\\\\u8be2\\\\u7ed3\\\\u679c\\\\uff0c\\\\u800c\\\\u53d1\\\\u8d77\\\\u8005\\\\u4e0d\\\\u4f1a\\\\u56e0\\\\u6b64\\\\u88ab\\\\u6536\\\\u8d39\\\\u3002\\\\n\\\\n\\\\u9700\\\\u8981\\\\u6ce8\\\\u610f\\\\u7684\\\\u662f\\\\uff0c\\\\u5982\\\\u679c\\\\u4f7f\\\\u7528AWS Clean Rooms\\\\u8fdb\\\\u884c\\\\u6570\\\\u636e\\\\u9690\\\\u79c1\\\\u4fdd\\\\u62a4\\\\uff0c\\\\u8bf7\\\\u786e\\\\u4fdd\\\\u6570\\\\u636e\\\\u8d21\\\\u732e\\\\u8005\\\\u548c\\\\u63a5\\\\u6536\\\\u8005\\\\u90fd\\\\u77e5\\\\u9053\\\\u8be5\\\\u6280\\\\u672f\\\\u7684\\\\u4f7f\\\\u7528\", \"finished\": false}}\\n{\"outputs\": {\"outputs\": \"\\\\u65b9\\\\u5f0f\", \"response\": \"AWS Clean Rooms\\\\u662f\\\\u4e00\\\\u79cd\\\\u6570\\\\u636e\\\\u9690\\\\u79c1\\\\u4fdd\\\\u62a4\\\\u6280\\\\u672f\\\\uff0c\\\\u4f7f\\\\u7528\\\\u8be5\\\\u6280\\\\u672f\\\\uff0c\\\\u53ef\\\\u4ee5\\\\u5c06\\\\u654f\\\\u611f\\\\u6570\\\\u636e\\\\u8f6c\\\\u6362\\\\u4e3a\\\\u4e0d\\\\u53ef\\\\u89c1\\\\u7684\\\\u6570\\\\u636e\\\\u683c\\\\u5f0f\\\\uff0c\\\\u4ece\\\\u800c\\\\u4fdd\\\\u62a4\\\\u6570\\\\u636e\\\\u8d21\\\\u732e\\\\u8005\\\\u548c\\\\u63a5\\\\u6536\\\\u8005\\\\u7684\\\\u4e2a\\\\u4eba\\\\u9690\\\\u79c1\\\\u548c\\\\u5546\\\\u4e1a\\\\u673a\\\\u5bc6\\\\u3002\\\\u56e0\\\\u6b64\\\\uff0c\\\\u53ea\\\\u6709\\\\u63a5\\\\u6536\\\\u8005\\\\u4f1a\\\\u6536\\\\u5230\\\\u67e5\\\\u8be2\\\\u7ed3\\\\u679c\\\\uff0c\\\\u800c\\\\u53d1\\\\u8d77\\\\u8005\\\\u4e0d\\\\u4f1a\\\\u56e0\\\\u6b64\\\\u88ab\\\\u6536\\\\u8d39\\\\u3002\\\\n\\\\n\\\\u9700\\\\u8981\\\\u6ce8\\\\u610f\\\\u7684\\\\u662f\\\\uff0c\\\\u5982\\\\u679c\\\\u4f7f\\\\u7528AWS Clean Rooms\\\\u8fdb\\\\u884c\\\\u6570\\\\u636e\\\\u9690\\\\u79c1\\\\u4fdd\\\\u62a4\\\\uff0c\\\\u8bf7\\\\u786e\\\\u4fdd\\\\u6570\\\\u636e\\\\u8d21\\\\u732e\\\\u8005\\\\u548c\\\\u63a5\\\\u6536\\\\u8005\\\\u90fd\\\\u77e5\\\\u9053\\\\u8be5\\\\u6280\\\\u672f\\\\u7684\\\\u4f7f\\\\u7528\\\\u65b9\\\\u5f0f\", \"finished\": false}}\\n{\"outputs\": {\"outputs\": \"\\\\uff0c\", \"response\": \"AWS Clean Rooms\\\\u662f\\\\u4e00\\\\u79cd\\\\u6570\\\\u636e\\\\u9690\\\\u79c1\\\\u4fdd\\\\u62a4\\\\u6280\\\\u672f\\\\uff0c\\\\u4f7f\\\\u7528\\\\u8be5\\\\u6280\\\\u672f\\\\uff0c\\\\u53ef\\\\u4ee5\\\\u5c06\\\\u654f\\\\u611f\\\\u6570\\\\u636e\\\\u8f6c\\\\u6362\\\\u4e3a\\\\u4e0d\\\\u53ef\\\\u89c1\\\\u7684\\\\u6570\\\\u636e\\\\u683c\\\\u5f0f\\\\uff0c\\\\u4ece\\\\u800c\\\\u4fdd\\\\u62a4\\\\u6570\\\\u636e\\\\u8d21\\\\u732e\\\\u8005\\\\u548c\\\\u63a5\\\\u6536\\\\u8005\\\\u7684\\\\u4e2a\\\\u4eba\\\\u9690\\\\u79c1\\\\u548c\\\\u5546\\\\u4e1a\\\\u673a\\\\u5bc6\\\\u3002\\\\u56e0\\\\u6b64\\\\uff0c\\\\u53ea\\\\u6709\\\\u63a5\\\\u6536\\\\u8005\\\\u4f1a\\\\u6536\\\\u5230\\\\u67e5\\\\u8be2\\\\u7ed3\\\\u679c\\\\uff0c\\\\u800c\\\\u53d1\\\\u8d77\\\\u8005\\\\u4e0d\\\\u4f1a\\\\u56e0\\\\u6b64\\\\u88ab\\\\u6536\\\\u8d39\\\\u3002\\\\n\\\\n\\\\u9700\\\\u8981\\\\u6ce8\\\\u610f\\\\u7684\\\\u662f\\\\uff0c\\\\u5982\\\\u679c\\\\u4f7f\\\\u7528AWS Clean Rooms\\\\u8fdb\\\\u884c\\\\u6570\\\\u636e\\\\u9690\\\\u79c1\\\\u4fdd\\\\u62a4\\\\uff0c\\\\u8bf7\\\\u786e\\\\u4fdd\\\\u6570\\\\u636e\\\\u8d21\\\\u732e\\\\u8005\\\\u548c\\\\u63a5\\\\u6536\\\\u8005\\\\u90fd\\\\u77e5\\\\u9053\\\\u8be5\\\\u6280\\\\u672f\\\\u7684\\\\u4f7f\\\\u7528\\\\u65b9\\\\u5f0f\\\\uff0c\", \"finished\": false}}\\n{\"outputs\": {\"outputs\": \"\\\\u4ee5\\\\u53ca\", \"response\": \"AWS Clean Rooms\\\\u662f\\\\u4e00\\\\u79cd\\\\u6570\\\\u636e\\\\u9690\\\\u79c1\\\\u4fdd\\\\u62a4\\\\u6280\\\\u672f\\\\uff0c\\\\u4f7f\\\\u7528\\\\u8be5\\\\u6280\\\\u672f\\\\uff0c\\\\u53ef\\\\u4ee5\\\\u5c06\\\\u654f\\\\u611f\\\\u6570\\\\u636e\\\\u8f6c\\\\u6362\\\\u4e3a\\\\u4e0d\\\\u53ef\\\\u89c1\\\\u7684\\\\u6570\\\\u636e\\\\u683c\\\\u5f0f\\\\uff0c\\\\u4ece\\\\u800c\\\\u4fdd\\\\u62a4\\\\u6570\\\\u636e\\\\u8d21\\\\u732e\\\\u8005\\\\u548c\\\\u63a5\\\\u6536\\\\u8005\\\\u7684\\\\u4e2a\\\\u4eba\\\\u9690\\\\u79c1\\\\u548c\\\\u5546\\\\u4e1a\\\\u673a\\\\u5bc6\\\\u3002\\\\u56e0\\\\u6b64\\\\uff0c\\\\u53ea\\\\u6709\\\\u63a5\\\\u6536\\\\u8005\\\\u4f1a\\\\u6536\\\\u5230\\\\u67e5\\\\u8be2\\\\u7ed3\\\\u679c\\\\uff0c\\\\u800c\\\\u53d1\\\\u8d77\\\\u8005\\\\u4e0d\\\\u4f1a\\\\u56e0\\\\u6b64\\\\u88ab\\\\u6536\\\\u8d39\\\\u3002\\\\n\\\\n\\\\u9700\\\\u8981\\\\u6ce8\\\\u610f\\\\u7684\\\\u662f\\\\uff0c\\\\u5982\\\\u679c\\\\u4f7f\\\\u7528AWS Clean Rooms\\\\u8fdb\\\\u884c\\\\u6570\\\\u636e\\\\u9690\\\\u79c1\\\\u4fdd\\\\u62a4\\\\uff0c\\\\u8bf7\\\\u786e\\\\u4fdd\\\\u6570\\\\u636e\\\\u8d21\\\\u732e\\\\u8005\\\\u548c\\\\u63a5\\\\u6536\\\\u8005\\\\u90fd\\\\u77e5\\\\u9053\\\\u8be5\\\\u6280\\\\u672f\\\\u7684\\\\u4f7f\\\\u7528\\\\u65b9\\\\u5f0f\\\\uff0c\\\\u4ee5\\\\u53ca\", \"finished\": false}}\\n{\"outputs\": {\"outputs\": \"\\\\u4efb\\\\u4f55\", \"response\": \"AWS Clean Rooms\\\\u662f\\\\u4e00\\\\u79cd\\\\u6570\\\\u636e\\\\u9690\\\\u79c1\\\\u4fdd\\\\u62a4\\\\u6280\\\\u672f\\\\uff0c\\\\u4f7f\\\\u7528\\\\u8be5\\\\u6280\\\\u672f\\\\uff0c\\\\u53ef\\\\u4ee5\\\\u5c06\\\\u654f\\\\u611f\\\\u6570\\\\u636e\\\\u8f6c\\\\u6362\\\\u4e3a\\\\u4e0d\\\\u53ef\\\\u89c1\\\\u7684\\\\u6570\\\\u636e\\\\u683c\\\\u5f0f\\\\uff0c\\\\u4ece\\\\u800c\\\\u4fdd\\\\u62a4\\\\u6570\\\\u636e\\\\u8d21\\\\u732e\\\\u8005\\\\u548c\\\\u63a5\\\\u6536\\\\u8005\\\\u7684\\\\u4e2a\\\\u4eba\\\\u9690\\\\u79c1\\\\u548c\\\\u5546\\\\u4e1a\\\\u673a\\\\u5bc6\\\\u3002\\\\u56e0\\\\u6b64\\\\uff0c\\\\u53ea\\\\u6709\\\\u63a5\\\\u6536\\\\u8005\\\\u4f1a\\\\u6536\\\\u5230\\\\u67e5\\\\u8be2\\\\u7ed3\\\\u679c\\\\uff0c\\\\u800c\\\\u53d1\\\\u8d77\\\\u8005\\\\u4e0d\\\\u4f1a\\\\u56e0\\\\u6b64\\\\u88ab\\\\u6536\\\\u8d39\\\\u3002\\\\n\\\\n\\\\u9700\\\\u8981\\\\u6ce8\\\\u610f\\\\u7684\\\\u662f\\\\uff0c\\\\u5982\\\\u679c\\\\u4f7f\\\\u7528AWS Clean Rooms\\\\u8fdb\\\\u884c\\\\u6570\\\\u636e\\\\u9690\\\\u79c1\\\\u4fdd\\\\u62a4\\\\uff0c\\\\u8bf7\\\\u786e\\\\u4fdd\\\\u6570\\\\u636e\\\\u8d21\\\\u732e\\\\u8005\\\\u548c\\\\u63a5\\\\u6536\\\\u8005\\\\u90fd\\\\u77e5\\\\u9053\\\\u8be5\\\\u6280\\\\u672f\\\\u7684\\\\u4f7f\\\\u7528\\\\u65b9\\\\u5f0f\\\\uff0c\\\\u4ee5\\\\u53ca\\\\u4efb\\\\u4f55\", \"finished\": false}}\\n{\"outputs\": {\"outputs\": \"\\\\u53ef\\\\u80fd\", \"response\": \"AWS Clean Rooms\\\\u662f\\\\u4e00\\\\u79cd\\\\u6570\\\\u636e\\\\u9690\\\\u79c1\\\\u4fdd\\\\u62a4\\\\u6280\\\\u672f\\\\uff0c\\\\u4f7f\\\\u7528\\\\u8be5\\\\u6280\\\\u672f\\\\uff0c\\\\u53ef\\\\u4ee5\\\\u5c06\\\\u654f\\\\u611f\\\\u6570\\\\u636e\\\\u8f6c\\\\u6362\\\\u4e3a\\\\u4e0d\\\\u53ef\\\\u89c1\\\\u7684\\\\u6570\\\\u636e\\\\u683c\\\\u5f0f\\\\uff0c\\\\u4ece\\\\u800c\\\\u4fdd\\\\u62a4\\\\u6570\\\\u636e\\\\u8d21\\\\u732e\\\\u8005\\\\u548c\\\\u63a5\\\\u6536\\\\u8005\\\\u7684\\\\u4e2a\\\\u4eba\\\\u9690\\\\u79c1\\\\u548c\\\\u5546\\\\u4e1a\\\\u673a\\\\u5bc6\\\\u3002\\\\u56e0\\\\u6b64\\\\uff0c\\\\u53ea\\\\u6709\\\\u63a5\\\\u6536\\\\u8005\\\\u4f1a\\\\u6536\\\\u5230\\\\u67e5\\\\u8be2\\\\u7ed3\\\\u679c\\\\uff0c\\\\u800c\\\\u53d1\\\\u8d77\\\\u8005\\\\u4e0d\\\\u4f1a\\\\u56e0\\\\u6b64\\\\u88ab\\\\u6536\\\\u8d39\\\\u3002\\\\n\\\\n\\\\u9700\\\\u8981\\\\u6ce8\\\\u610f\\\\u7684\\\\u662f\\\\uff0c\\\\u5982\\\\u679c\\\\u4f7f\\\\u7528AWS Clean Rooms\\\\u8fdb\\\\u884c\\\\u6570\\\\u636e\\\\u9690\\\\u79c1\\\\u4fdd\\\\u62a4\\\\uff0c\\\\u8bf7\\\\u786e\\\\u4fdd\\\\u6570\\\\u636e\\\\u8d21\\\\u732e\\\\u8005\\\\u548c\\\\u63a5\\\\u6536\\\\u8005\\\\u90fd\\\\u77e5\\\\u9053\\\\u8be5\\\\u6280\\\\u672f\\\\u7684\\\\u4f7f\\\\u7528\\\\u65b9\\\\u5f0f\\\\uff0c\\\\u4ee5\\\\u53ca\\\\u4efb\\\\u4f55\\\\u53ef\\\\u80fd\", \"finished\": false}}\\n{\"outputs\": {\"outputs\": \"\\\\u7684\\\\u98ce\\\\u9669\", \"response\": \"AWS Clean Rooms\\\\u662f\\\\u4e00\\\\u79cd\\\\u6570\\\\u636e\\\\u9690\\\\u79c1\\\\u4fdd\\\\u62a4\\\\u6280\\\\u672f\\\\uff0c\\\\u4f7f\\\\u7528\\\\u8be5\\\\u6280\\\\u672f\\\\uff0c\\\\u53ef\\\\u4ee5\\\\u5c06\\\\u654f\\\\u611f\\\\u6570\\\\u636e\\\\u8f6c\\\\u6362\\\\u4e3a\\\\u4e0d\\\\u53ef\\\\u89c1\\\\u7684\\\\u6570\\\\u636e\\\\u683c\\\\u5f0f\\\\uff0c\\\\u4ece\\\\u800c\\\\u4fdd\\\\u62a4\\\\u6570\\\\u636e\\\\u8d21\\\\u732e\\\\u8005\\\\u548c\\\\u63a5\\\\u6536\\\\u8005\\\\u7684\\\\u4e2a\\\\u4eba\\\\u9690\\\\u79c1\\\\u548c\\\\u5546\\\\u4e1a\\\\u673a\\\\u5bc6\\\\u3002\\\\u56e0\\\\u6b64\\\\uff0c\\\\u53ea\\\\u6709\\\\u63a5\\\\u6536\\\\u8005\\\\u4f1a\\\\u6536\\\\u5230\\\\u67e5\\\\u8be2\\\\u7ed3\\\\u679c\\\\uff0c\\\\u800c\\\\u53d1\\\\u8d77\\\\u8005\\\\u4e0d\\\\u4f1a\\\\u56e0\\\\u6b64\\\\u88ab\\\\u6536\\\\u8d39\\\\u3002\\\\n\\\\n\\\\u9700\\\\u8981\\\\u6ce8\\\\u610f\\\\u7684\\\\u662f\\\\uff0c\\\\u5982\\\\u679c\\\\u4f7f\\\\u7528AWS Clean Rooms\\\\u8fdb\\\\u884c\\\\u6570\\\\u636e\\\\u9690\\\\u79c1\\\\u4fdd\\\\u62a4\\\\uff0c\\\\u8bf7\\\\u786e\\\\u4fdd\\\\u6570\\\\u636e\\\\u8d21\\\\u732e\\\\u8005\\\\u548c\\\\u63a5\\\\u6536\\\\u8005\\\\u90fd\\\\u77e5\\\\u9053\\\\u8be5\\\\u6280\\\\u672f\\\\u7684\\\\u4f7f\\\\u7528\\\\u65b9\\\\u5f0f\\\\uff0c\\\\u4ee5\\\\u53ca\\\\u4efb\\\\u4f55\\\\u53ef\\\\u80fd\\\\u7684\\\\u98ce\\\\u9669\", \"finished\": false}}\\n{\"outputs\": {\"outputs\": \"\\\\u548c\", \"response\": \"AWS Clean Rooms\\\\u662f\\\\u4e00\\\\u79cd\\\\u6570\\\\u636e\\\\u9690\\\\u79c1\\\\u4fdd\\\\u62a4\\\\u6280\\\\u672f\\\\uff0c\\\\u4f7f\\\\u7528\\\\u8be5\\\\u6280\\\\u672f\\\\uff0c\\\\u53ef\\\\u4ee5\\\\u5c06\\\\u654f\\\\u611f\\\\u6570\\\\u636e\\\\u8f6c\\\\u6362\\\\u4e3a\\\\u4e0d\\\\u53ef\\\\u89c1\\\\u7684\\\\u6570\\\\u636e\\\\u683c\\\\u5f0f\\\\uff0c\\\\u4ece\\\\u800c\\\\u4fdd\\\\u62a4\\\\u6570\\\\u636e\\\\u8d21\\\\u732e\\\\u8005\\\\u548c\\\\u63a5\\\\u6536\\\\u8005\\\\u7684\\\\u4e2a\\\\u4eba\\\\u9690\\\\u79c1\\\\u548c\\\\u5546\\\\u4e1a\\\\u673a\\\\u5bc6\\\\u3002\\\\u56e0\\\\u6b64\\\\uff0c\\\\u53ea\\\\u6709\\\\u63a5\\\\u6536\\\\u8005\\\\u4f1a\\\\u6536\\\\u5230\\\\u67e5\\\\u8be2\\\\u7ed3\\\\u679c\\\\uff0c\\\\u800c\\\\u53d1\\\\u8d77\\\\u8005\\\\u4e0d\\\\u4f1a\\\\u56e0\\\\u6b64\\\\u88ab\\\\u6536\\\\u8d39\\\\u3002\\\\n\\\\n\\\\u9700\\\\u8981\\\\u6ce8\\\\u610f\\\\u7684\\\\u662f\\\\uff0c\\\\u5982\\\\u679c\\\\u4f7f\\\\u7528AWS Clean Rooms\\\\u8fdb\\\\u884c\\\\u6570\\\\u636e\\\\u9690\\\\u79c1\\\\u4fdd\\\\u62a4\\\\uff0c\\\\u8bf7\\\\u786e\\\\u4fdd\\\\u6570\\\\u636e\\\\u8d21\\\\u732e\\\\u8005\\\\u548c\\\\u63a5\\\\u6536\\\\u8005\\\\u90fd\\\\u77e5\\\\u9053\\\\u8be5\\\\u6280\\\\u672f\\\\u7684\\\\u4f7f\\\\u7528\\\\u65b9\\\\u5f0f\\\\uff0c\\\\u4ee5\\\\u53ca\\\\u4efb\\\\u4f55\\\\u53ef\\\\u80fd\\\\u7684\\\\u98ce\\\\u9669\\\\u548c\", \"finished\": false}}\\n{\"outputs\": {\"outputs\": \"\\\\u9650\\\\u5236\", \"response\": \"AWS Clean Rooms\\\\u662f\\\\u4e00\\\\u79cd\\\\u6570\\\\u636e\\\\u9690\\\\u79c1\\\\u4fdd\\\\u62a4\\\\u6280\\\\u672f\\\\uff0c\\\\u4f7f\\\\u7528\\\\u8be5\\\\u6280\\\\u672f\\\\uff0c\\\\u53ef\\\\u4ee5\\\\u5c06\\\\u654f\\\\u611f\\\\u6570\\\\u636e\\\\u8f6c\\\\u6362\\\\u4e3a\\\\u4e0d\\\\u53ef\\\\u89c1\\\\u7684\\\\u6570\\\\u636e\\\\u683c\\\\u5f0f\\\\uff0c\\\\u4ece\\\\u800c\\\\u4fdd\\\\u62a4\\\\u6570\\\\u636e\\\\u8d21\\\\u732e\\\\u8005\\\\u548c\\\\u63a5\\\\u6536\\\\u8005\\\\u7684\\\\u4e2a\\\\u4eba\\\\u9690\\\\u79c1\\\\u548c\\\\u5546\\\\u4e1a\\\\u673a\\\\u5bc6\\\\u3002\\\\u56e0\\\\u6b64\\\\uff0c\\\\u53ea\\\\u6709\\\\u63a5\\\\u6536\\\\u8005\\\\u4f1a\\\\u6536\\\\u5230\\\\u67e5\\\\u8be2\\\\u7ed3\\\\u679c\\\\uff0c\\\\u800c\\\\u53d1\\\\u8d77\\\\u8005\\\\u4e0d\\\\u4f1a\\\\u56e0\\\\u6b64\\\\u88ab\\\\u6536\\\\u8d39\\\\u3002\\\\n\\\\n\\\\u9700\\\\u8981\\\\u6ce8\\\\u610f\\\\u7684\\\\u662f\\\\uff0c\\\\u5982\\\\u679c\\\\u4f7f\\\\u7528AWS Clean Rooms\\\\u8fdb\\\\u884c\\\\u6570\\\\u636e\\\\u9690\\\\u79c1\\\\u4fdd\\\\u62a4\\\\uff0c\\\\u8bf7\\\\u786e\\\\u4fdd\\\\u6570\\\\u636e\\\\u8d21\\\\u732e\\\\u8005\\\\u548c\\\\u63a5\\\\u6536\\\\u8005\\\\u90fd\\\\u77e5\\\\u9053\\\\u8be5\\\\u6280\\\\u672f\\\\u7684\\\\u4f7f\\\\u7528\\\\u65b9\\\\u5f0f\\\\uff0c\\\\u4ee5\\\\u53ca\\\\u4efb\\\\u4f55\\\\u53ef\\\\u80fd\\\\u7684\\\\u98ce\\\\u9669\\\\u548c\\\\u9650\\\\u5236\", \"finished\": false}}\\n{\"outputs\": {\"outputs\": \"\\\\u3002\", \"response\": \"AWS Clean Rooms\\\\u662f\\\\u4e00\\\\u79cd\\\\u6570\\\\u636e\\\\u9690\\\\u79c1\\\\u4fdd\\\\u62a4\\\\u6280\\\\u672f\\\\uff0c\\\\u4f7f\\\\u7528\\\\u8be5\\\\u6280\\\\u672f\\\\uff0c\\\\u53ef\\\\u4ee5\\\\u5c06\\\\u654f\\\\u611f\\\\u6570\\\\u636e\\\\u8f6c\\\\u6362\\\\u4e3a\\\\u4e0d\\\\u53ef\\\\u89c1\\\\u7684\\\\u6570\\\\u636e\\\\u683c\\\\u5f0f\\\\uff0c\\\\u4ece\\\\u800c\\\\u4fdd\\\\u62a4\\\\u6570\\\\u636e\\\\u8d21\\\\u732e\\\\u8005\\\\u548c\\\\u63a5\\\\u6536\\\\u8005\\\\u7684\\\\u4e2a\\\\u4eba\\\\u9690\\\\u79c1\\\\u548c\\\\u5546\\\\u4e1a\\\\u673a\\\\u5bc6\\\\u3002\\\\u56e0\\\\u6b64\\\\uff0c\\\\u53ea\\\\u6709\\\\u63a5\\\\u6536\\\\u8005\\\\u4f1a\\\\u6536\\\\u5230\\\\u67e5\\\\u8be2\\\\u7ed3\\\\u679c\\\\uff0c\\\\u800c\\\\u53d1\\\\u8d77\\\\u8005\\\\u4e0d\\\\u4f1a\\\\u56e0\\\\u6b64\\\\u88ab\\\\u6536\\\\u8d39\\\\u3002\\\\n\\\\n\\\\u9700\\\\u8981\\\\u6ce8\\\\u610f\\\\u7684\\\\u662f\\\\uff0c\\\\u5982\\\\u679c\\\\u4f7f\\\\u7528AWS Clean Rooms\\\\u8fdb\\\\u884c\\\\u6570\\\\u636e\\\\u9690\\\\u79c1\\\\u4fdd\\\\u62a4\\\\uff0c\\\\u8bf7\\\\u786e\\\\u4fdd\\\\u6570\\\\u636e\\\\u8d21\\\\u732e\\\\u8005\\\\u548c\\\\u63a5\\\\u6536\\\\u8005\\\\u90fd\\\\u77e5\\\\u9053\\\\u8be5\\\\u6280\\\\u672f\\\\u7684\\\\u4f7f\\\\u7528\\\\u65b9\\\\u5f0f\\\\uff0c\\\\u4ee5\\\\u53ca\\\\u4efb\\\\u4f55\\\\u53ef\\\\u80fd\\\\u7684\\\\u98ce\\\\u9669\\\\u548c\\\\u9650\\\\u5236\\\\u3002\", \"finished\": false}}\\n{\"outputs\": {\"outputs\": \"\\\\u6b64\\\\u5916\", \"response\": \"AWS Clean Rooms\\\\u662f\\\\u4e00\\\\u79cd\\\\u6570\\\\u636e\\\\u9690\\\\u79c1\\\\u4fdd\\\\u62a4\\\\u6280\\\\u672f\\\\uff0c\\\\u4f7f\\\\u7528\\\\u8be5\\\\u6280\\\\u672f\\\\uff0c\\\\u53ef\\\\u4ee5\\\\u5c06\\\\u654f\\\\u611f\\\\u6570\\\\u636e\\\\u8f6c\\\\u6362\\\\u4e3a\\\\u4e0d\\\\u53ef\\\\u89c1\\\\u7684\\\\u6570\\\\u636e\\\\u683c\\\\u5f0f\\\\uff0c\\\\u4ece\\\\u800c\\\\u4fdd\\\\u62a4\\\\u6570\\\\u636e\\\\u8d21\\\\u732e\\\\u8005\\\\u548c\\\\u63a5\\\\u6536\\\\u8005\\\\u7684\\\\u4e2a\\\\u4eba\\\\u9690\\\\u79c1\\\\u548c\\\\u5546\\\\u4e1a\\\\u673a\\\\u5bc6\\\\u3002\\\\u56e0\\\\u6b64\\\\uff0c\\\\u53ea\\\\u6709\\\\u63a5\\\\u6536\\\\u8005\\\\u4f1a\\\\u6536\\\\u5230\\\\u67e5\\\\u8be2\\\\u7ed3\\\\u679c\\\\uff0c\\\\u800c\\\\u53d1\\\\u8d77\\\\u8005\\\\u4e0d\\\\u4f1a\\\\u56e0\\\\u6b64\\\\u88ab\\\\u6536\\\\u8d39\\\\u3002\\\\n\\\\n\\\\u9700\\\\u8981\\\\u6ce8\\\\u610f\\\\u7684\\\\u662f\\\\uff0c\\\\u5982\\\\u679c\\\\u4f7f\\\\u7528AWS Clean Rooms\\\\u8fdb\\\\u884c\\\\u6570\\\\u636e\\\\u9690\\\\u79c1\\\\u4fdd\\\\u62a4\\\\uff0c\\\\u8bf7\\\\u786e\\\\u4fdd\\\\u6570\\\\u636e\\\\u8d21\\\\u732e\\\\u8005\\\\u548c\\\\u63a5\\\\u6536\\\\u8005\\\\u90fd\\\\u77e5\\\\u9053\\\\u8be5\\\\u6280\\\\u672f\\\\u7684\\\\u4f7f\\\\u7528\\\\u65b9\\\\u5f0f\\\\uff0c\\\\u4ee5\\\\u53ca\\\\u4efb\\\\u4f55\\\\u53ef\\\\u80fd\\\\u7684\\\\u98ce\\\\u9669\\\\u548c\\\\u9650\\\\u5236\\\\u3002\\\\u6b64\\\\u5916\", \"finished\": false}}\\n{\"outputs\": {\"outputs\": \"\\\\uff0c\", \"response\": \"AWS Clean Rooms\\\\u662f\\\\u4e00\\\\u79cd\\\\u6570\\\\u636e\\\\u9690\\\\u79c1\\\\u4fdd\\\\u62a4\\\\u6280\\\\u672f\\\\uff0c\\\\u4f7f\\\\u7528\\\\u8be5\\\\u6280\\\\u672f\\\\uff0c\\\\u53ef\\\\u4ee5\\\\u5c06\\\\u654f\\\\u611f\\\\u6570\\\\u636e\\\\u8f6c\\\\u6362\\\\u4e3a\\\\u4e0d\\\\u53ef\\\\u89c1\\\\u7684\\\\u6570\\\\u636e\\\\u683c\\\\u5f0f\\\\uff0c\\\\u4ece\\\\u800c\\\\u4fdd\\\\u62a4\\\\u6570\\\\u636e\\\\u8d21\\\\u732e\\\\u8005\\\\u548c\\\\u63a5\\\\u6536\\\\u8005\\\\u7684\\\\u4e2a\\\\u4eba\\\\u9690\\\\u79c1\\\\u548c\\\\u5546\\\\u4e1a\\\\u673a\\\\u5bc6\\\\u3002\\\\u56e0\\\\u6b64\\\\uff0c\\\\u53ea\\\\u6709\\\\u63a5\\\\u6536\\\\u8005\\\\u4f1a\\\\u6536\\\\u5230\\\\u67e5\\\\u8be2\\\\u7ed3\\\\u679c\\\\uff0c\\\\u800c\\\\u53d1\\\\u8d77\\\\u8005\\\\u4e0d\\\\u4f1a\\\\u56e0\\\\u6b64\\\\u88ab\\\\u6536\\\\u8d39\\\\u3002\\\\n\\\\n\\\\u9700\\\\u8981\\\\u6ce8\\\\u610f\\\\u7684\\\\u662f\\\\uff0c\\\\u5982\\\\u679c\\\\u4f7f\\\\u7528AWS Clean Rooms\\\\u8fdb\\\\u884c\\\\u6570\\\\u636e\\\\u9690\\\\u79c1\\\\u4fdd\\\\u62a4\\\\uff0c\\\\u8bf7\\\\u786e\\\\u4fdd\\\\u6570\\\\u636e\\\\u8d21\\\\u732e\\\\u8005\\\\u548c\\\\u63a5\\\\u6536\\\\u8005\\\\u90fd\\\\u77e5\\\\u9053\\\\u8be5\\\\u6280\\\\u672f\\\\u7684\\\\u4f7f\\\\u7528\\\\u65b9\\\\u5f0f\\\\uff0c\\\\u4ee5\\\\u53ca\\\\u4efb\\\\u4f55\\\\u53ef\\\\u80fd\\\\u7684\\\\u98ce\\\\u9669\\\\u548c\\\\u9650\\\\u5236\\\\u3002\\\\u6b64\\\\u5916\\\\uff0c\", \"finished\": false}}\\n{\"outputs\": {\"outputs\": \"AWS\", \"response\": \"AWS Clean Rooms\\\\u662f\\\\u4e00\\\\u79cd\\\\u6570\\\\u636e\\\\u9690\\\\u79c1\\\\u4fdd\\\\u62a4\\\\u6280\\\\u672f\\\\uff0c\\\\u4f7f\\\\u7528\\\\u8be5\\\\u6280\\\\u672f\\\\uff0c\\\\u53ef\\\\u4ee5\\\\u5c06\\\\u654f\\\\u611f\\\\u6570\\\\u636e\\\\u8f6c\\\\u6362\\\\u4e3a\\\\u4e0d\\\\u53ef\\\\u89c1\\\\u7684\\\\u6570\\\\u636e\\\\u683c\\\\u5f0f\\\\uff0c\\\\u4ece\\\\u800c\\\\u4fdd\\\\u62a4\\\\u6570\\\\u636e\\\\u8d21\\\\u732e\\\\u8005\\\\u548c\\\\u63a5\\\\u6536\\\\u8005\\\\u7684\\\\u4e2a\\\\u4eba\\\\u9690\\\\u79c1\\\\u548c\\\\u5546\\\\u4e1a\\\\u673a\\\\u5bc6\\\\u3002\\\\u56e0\\\\u6b64\\\\uff0c\\\\u53ea\\\\u6709\\\\u63a5\\\\u6536\\\\u8005\\\\u4f1a\\\\u6536\\\\u5230\\\\u67e5\\\\u8be2\\\\u7ed3\\\\u679c\\\\uff0c\\\\u800c\\\\u53d1\\\\u8d77\\\\u8005\\\\u4e0d\\\\u4f1a\\\\u56e0\\\\u6b64\\\\u88ab\\\\u6536\\\\u8d39\\\\u3002\\\\n\\\\n\\\\u9700\\\\u8981\\\\u6ce8\\\\u610f\\\\u7684\\\\u662f\\\\uff0c\\\\u5982\\\\u679c\\\\u4f7f\\\\u7528AWS Clean Rooms\\\\u8fdb\\\\u884c\\\\u6570\\\\u636e\\\\u9690\\\\u79c1\\\\u4fdd\\\\u62a4\\\\uff0c\\\\u8bf7\\\\u786e\\\\u4fdd\\\\u6570\\\\u636e\\\\u8d21\\\\u732e\\\\u8005\\\\u548c\\\\u63a5\\\\u6536\\\\u8005\\\\u90fd\\\\u77e5\\\\u9053\\\\u8be5\\\\u6280\\\\u672f\\\\u7684\\\\u4f7f\\\\u7528\\\\u65b9\\\\u5f0f\\\\uff0c\\\\u4ee5\\\\u53ca\\\\u4efb\\\\u4f55\\\\u53ef\\\\u80fd\\\\u7684\\\\u98ce\\\\u9669\\\\u548c\\\\u9650\\\\u5236\\\\u3002\\\\u6b64\\\\u5916\\\\uff0cAWS\", \"finished\": false}}\\n{\"outputs\": {\"outputs\": \" Clean\", \"response\": \"AWS Clean Rooms\\\\u662f\\\\u4e00\\\\u79cd\\\\u6570\\\\u636e\\\\u9690\\\\u79c1\\\\u4fdd\\\\u62a4\\\\u6280\\\\u672f\\\\uff0c\\\\u4f7f\\\\u7528\\\\u8be5\\\\u6280\\\\u672f\\\\uff0c\\\\u53ef\\\\u4ee5\\\\u5c06\\\\u654f\\\\u611f\\\\u6570\\\\u636e\\\\u8f6c\\\\u6362\\\\u4e3a\\\\u4e0d\\\\u53ef\\\\u89c1\\\\u7684\\\\u6570\\\\u636e\\\\u683c\\\\u5f0f\\\\uff0c\\\\u4ece\\\\u800c\\\\u4fdd\\\\u62a4\\\\u6570\\\\u636e\\\\u8d21\\\\u732e\\\\u8005\\\\u548c\\\\u63a5\\\\u6536\\\\u8005\\\\u7684\\\\u4e2a\\\\u4eba\\\\u9690\\\\u79c1\\\\u548c\\\\u5546\\\\u4e1a\\\\u673a\\\\u5bc6\\\\u3002\\\\u56e0\\\\u6b64\\\\uff0c\\\\u53ea\\\\u6709\\\\u63a5\\\\u6536\\\\u8005\\\\u4f1a\\\\u6536\\\\u5230\\\\u67e5\\\\u8be2\\\\u7ed3\\\\u679c\\\\uff0c\\\\u800c\\\\u53d1\\\\u8d77\\\\u8005\\\\u4e0d\\\\u4f1a\\\\u56e0\\\\u6b64\\\\u88ab\\\\u6536\\\\u8d39\\\\u3002\\\\n\\\\n\\\\u9700\\\\u8981\\\\u6ce8\\\\u610f\\\\u7684\\\\u662f\\\\uff0c\\\\u5982\\\\u679c\\\\u4f7f\\\\u7528AWS Clean Rooms\\\\u8fdb\\\\u884c\\\\u6570\\\\u636e\\\\u9690\\\\u79c1\\\\u4fdd\\\\u62a4\\\\uff0c\\\\u8bf7\\\\u786e\\\\u4fdd\\\\u6570\\\\u636e\\\\u8d21\\\\u732e\\\\u8005\\\\u548c\\\\u63a5\\\\u6536\\\\u8005\\\\u90fd\\\\u77e5\\\\u9053\\\\u8be5\\\\u6280\\\\u672f\\\\u7684\\\\u4f7f\\\\u7528\\\\u65b9\\\\u5f0f\\\\uff0c\\\\u4ee5\\\\u53ca\\\\u4efb\\\\u4f55\\\\u53ef\\\\u80fd\\\\u7684\\\\u98ce\\\\u9669\\\\u548c\\\\u9650\\\\u5236\\\\u3002\\\\u6b64\\\\u5916\\\\uff0cAWS Clean\", \"finished\": false}}\\n{\"outputs\": {\"outputs\": \" Room\", \"response\": \"AWS Clean Rooms\\\\u662f\\\\u4e00\\\\u79cd\\\\u6570\\\\u636e\\\\u9690\\\\u79c1\\\\u4fdd\\\\u62a4\\\\u6280\\\\u672f\\\\uff0c\\\\u4f7f\\\\u7528\\\\u8be5\\\\u6280\\\\u672f\\\\uff0c\\\\u53ef\\\\u4ee5\\\\u5c06\\\\u654f\\\\u611f\\\\u6570\\\\u636e\\\\u8f6c\\\\u6362\\\\u4e3a\\\\u4e0d\\\\u53ef\\\\u89c1\\\\u7684\\\\u6570\\\\u636e\\\\u683c\\\\u5f0f\\\\uff0c\\\\u4ece\\\\u800c\\\\u4fdd\\\\u62a4\\\\u6570\\\\u636e\\\\u8d21\\\\u732e\\\\u8005\\\\u548c\\\\u63a5\\\\u6536\\\\u8005\\\\u7684\\\\u4e2a\\\\u4eba\\\\u9690\\\\u79c1\\\\u548c\\\\u5546\\\\u4e1a\\\\u673a\\\\u5bc6\\\\u3002\\\\u56e0\\\\u6b64\\\\uff0c\\\\u53ea\\\\u6709\\\\u63a5\\\\u6536\\\\u8005\\\\u4f1a\\\\u6536\\\\u5230\\\\u67e5\\\\u8be2\\\\u7ed3\\\\u679c\\\\uff0c\\\\u800c\\\\u53d1\\\\u8d77\\\\u8005\\\\u4e0d\\\\u4f1a\\\\u56e0\\\\u6b64\\\\u88ab\\\\u6536\\\\u8d39\\\\u3002\\\\n\\\\n\\\\u9700\\\\u8981\\\\u6ce8\\\\u610f\\\\u7684\\\\u662f\\\\uff0c\\\\u5982\\\\u679c\\\\u4f7f\\\\u7528AWS Clean Rooms\\\\u8fdb\\\\u884c\\\\u6570\\\\u636e\\\\u9690\\\\u79c1\\\\u4fdd\\\\u62a4\\\\uff0c\\\\u8bf7\\\\u786e\\\\u4fdd\\\\u6570\\\\u636e\\\\u8d21\\\\u732e\\\\u8005\\\\u548c\\\\u63a5\\\\u6536\\\\u8005\\\\u90fd\\\\u77e5\\\\u9053\\\\u8be5\\\\u6280\\\\u672f\\\\u7684\\\\u4f7f\\\\u7528\\\\u65b9\\\\u5f0f\\\\uff0c\\\\u4ee5\\\\u53ca\\\\u4efb\\\\u4f55\\\\u53ef\\\\u80fd\\\\u7684\\\\u98ce\\\\u9669\\\\u548c\\\\u9650\\\\u5236\\\\u3002\\\\u6b64\\\\u5916\\\\uff0cAWS Clean Room\", \"finished\": false}}\\n{\"outputs\": {\"outputs\": \"s\", \"response\": \"AWS Clean Rooms\\\\u662f\\\\u4e00\\\\u79cd\\\\u6570\\\\u636e\\\\u9690\\\\u79c1\\\\u4fdd\\\\u62a4\\\\u6280\\\\u672f\\\\uff0c\\\\u4f7f\\\\u7528\\\\u8be5\\\\u6280\\\\u672f\\\\uff0c\\\\u53ef\\\\u4ee5\\\\u5c06\\\\u654f\\\\u611f\\\\u6570\\\\u636e\\\\u8f6c\\\\u6362\\\\u4e3a\\\\u4e0d\\\\u53ef\\\\u89c1\\\\u7684\\\\u6570\\\\u636e\\\\u683c\\\\u5f0f\\\\uff0c\\\\u4ece\\\\u800c\\\\u4fdd\\\\u62a4\\\\u6570\\\\u636e\\\\u8d21\\\\u732e\\\\u8005\\\\u548c\\\\u63a5\\\\u6536\\\\u8005\\\\u7684\\\\u4e2a\\\\u4eba\\\\u9690\\\\u79c1\\\\u548c\\\\u5546\\\\u4e1a\\\\u673a\\\\u5bc6\\\\u3002\\\\u56e0\\\\u6b64\\\\uff0c\\\\u53ea\\\\u6709\\\\u63a5\\\\u6536\\\\u8005\\\\u4f1a\\\\u6536\\\\u5230\\\\u67e5\\\\u8be2\\\\u7ed3\\\\u679c\\\\uff0c\\\\u800c\\\\u53d1\\\\u8d77\\\\u8005\\\\u4e0d\\\\u4f1a\\\\u56e0\\\\u6b64\\\\u88ab\\\\u6536\\\\u8d39\\\\u3002\\\\n\\\\n\\\\u9700\\\\u8981\\\\u6ce8\\\\u610f\\\\u7684\\\\u662f\\\\uff0c\\\\u5982\\\\u679c\\\\u4f7f\\\\u7528AWS Clean Rooms\\\\u8fdb\\\\u884c\\\\u6570\\\\u636e\\\\u9690\\\\u79c1\\\\u4fdd\\\\u62a4\\\\uff0c\\\\u8bf7\\\\u786e\\\\u4fdd\\\\u6570\\\\u636e\\\\u8d21\\\\u732e\\\\u8005\\\\u548c\\\\u63a5\\\\u6536\\\\u8005\\\\u90fd\\\\u77e5\\\\u9053\\\\u8be5\\\\u6280\\\\u672f\\\\u7684\\\\u4f7f\\\\u7528\\\\u65b9\\\\u5f0f\\\\uff0c\\\\u4ee5\\\\u53ca\\\\u4efb\\\\u4f55\\\\u53ef\\\\u80fd\\\\u7684\\\\u98ce\\\\u9669\\\\u548c\\\\u9650\\\\u5236\\\\u3002\\\\u6b64\\\\u5916\\\\uff0cAWS Clean Rooms\", \"finished\": false}}\\n{\"outputs\": {\"outputs\": \"\\\\u4ec5\", \"response\": \"AWS Clean Rooms\\\\u662f\\\\u4e00\\\\u79cd\\\\u6570\\\\u636e\\\\u9690\\\\u79c1\\\\u4fdd\\\\u62a4\\\\u6280\\\\u672f\\\\uff0c\\\\u4f7f\\\\u7528\\\\u8be5\\\\u6280\\\\u672f\\\\uff0c\\\\u53ef\\\\u4ee5\\\\u5c06\\\\u654f\\\\u611f\\\\u6570\\\\u636e\\\\u8f6c\\\\u6362\\\\u4e3a\\\\u4e0d\\\\u53ef\\\\u89c1\\\\u7684\\\\u6570\\\\u636e\\\\u683c\\\\u5f0f\\\\uff0c\\\\u4ece\\\\u800c\\\\u4fdd\\\\u62a4\\\\u6570\\\\u636e\\\\u8d21\\\\u732e\\\\u8005\\\\u548c\\\\u63a5\\\\u6536\\\\u8005\\\\u7684\\\\u4e2a\\\\u4eba\\\\u9690\\\\u79c1\\\\u548c\\\\u5546\\\\u4e1a\\\\u673a\\\\u5bc6\\\\u3002\\\\u56e0\\\\u6b64\\\\uff0c\\\\u53ea\\\\u6709\\\\u63a5\\\\u6536\\\\u8005\\\\u4f1a\\\\u6536\\\\u5230\\\\u67e5\\\\u8be2\\\\u7ed3\\\\u679c\\\\uff0c\\\\u800c\\\\u53d1\\\\u8d77\\\\u8005\\\\u4e0d\\\\u4f1a\\\\u56e0\\\\u6b64\\\\u88ab\\\\u6536\\\\u8d39\\\\u3002\\\\n\\\\n\\\\u9700\\\\u8981\\\\u6ce8\\\\u610f\\\\u7684\\\\u662f\\\\uff0c\\\\u5982\\\\u679c\\\\u4f7f\\\\u7528AWS Clean Rooms\\\\u8fdb\\\\u884c\\\\u6570\\\\u636e\\\\u9690\\\\u79c1\\\\u4fdd\\\\u62a4\\\\uff0c\\\\u8bf7\\\\u786e\\\\u4fdd\\\\u6570\\\\u636e\\\\u8d21\\\\u732e\\\\u8005\\\\u548c\\\\u63a5\\\\u6536\\\\u8005\\\\u90fd\\\\u77e5\\\\u9053\\\\u8be5\\\\u6280\\\\u672f\\\\u7684\\\\u4f7f\\\\u7528\\\\u65b9\\\\u5f0f\\\\uff0c\\\\u4ee5\\\\u53ca\\\\u4efb\\\\u4f55\\\\u53ef\\\\u80fd\\\\u7684\\\\u98ce\\\\u9669\\\\u548c\\\\u9650\\\\u5236\\\\u3002\\\\u6b64\\\\u5916\\\\uff0cAWS Clean Rooms\\\\u4ec5\", \"finished\": false}}\\n{\"outputs\": {\"outputs\": \"\\\\u9002\\\\u7528\\\\u4e8e\", \"response\": \"AWS Clean Rooms\\\\u662f\\\\u4e00\\\\u79cd\\\\u6570\\\\u636e\\\\u9690\\\\u79c1\\\\u4fdd\\\\u62a4\\\\u6280\\\\u672f\\\\uff0c\\\\u4f7f\\\\u7528\\\\u8be5\\\\u6280\\\\u672f\\\\uff0c\\\\u53ef\\\\u4ee5\\\\u5c06\\\\u654f\\\\u611f\\\\u6570\\\\u636e\\\\u8f6c\\\\u6362\\\\u4e3a\\\\u4e0d\\\\u53ef\\\\u89c1\\\\u7684\\\\u6570\\\\u636e\\\\u683c\\\\u5f0f\\\\uff0c\\\\u4ece\\\\u800c\\\\u4fdd\\\\u62a4\\\\u6570\\\\u636e\\\\u8d21\\\\u732e\\\\u8005\\\\u548c\\\\u63a5\\\\u6536\\\\u8005\\\\u7684\\\\u4e2a\\\\u4eba\\\\u9690\\\\u79c1\\\\u548c\\\\u5546\\\\u4e1a\\\\u673a\\\\u5bc6\\\\u3002\\\\u56e0\\\\u6b64\\\\uff0c\\\\u53ea\\\\u6709\\\\u63a5\\\\u6536\\\\u8005\\\\u4f1a\\\\u6536\\\\u5230\\\\u67e5\\\\u8be2\\\\u7ed3\\\\u679c\\\\uff0c\\\\u800c\\\\u53d1\\\\u8d77\\\\u8005\\\\u4e0d\\\\u4f1a\\\\u56e0\\\\u6b64\\\\u88ab\\\\u6536\\\\u8d39\\\\u3002\\\\n\\\\n\\\\u9700\\\\u8981\\\\u6ce8\\\\u610f\\\\u7684\\\\u662f\\\\uff0c\\\\u5982\\\\u679c\\\\u4f7f\\\\u7528AWS Clean Rooms\\\\u8fdb\\\\u884c\\\\u6570\\\\u636e\\\\u9690\\\\u79c1\\\\u4fdd\\\\u62a4\\\\uff0c\\\\u8bf7\\\\u786e\\\\u4fdd\\\\u6570\\\\u636e\\\\u8d21\\\\u732e\\\\u8005\\\\u548c\\\\u63a5\\\\u6536\\\\u8005\\\\u90fd\\\\u77e5\\\\u9053\\\\u8be5\\\\u6280\\\\u672f\\\\u7684\\\\u4f7f\\\\u7528\\\\u65b9\\\\u5f0f\\\\uff0c\\\\u4ee5\\\\u53ca\\\\u4efb\\\\u4f55\\\\u53ef\\\\u80fd\\\\u7684\\\\u98ce\\\\u9669\\\\u548c\\\\u9650\\\\u5236\\\\u3002\\\\u6b64\\\\u5916\\\\uff0cAWS Clean Rooms\\\\u4ec5\\\\u9002\\\\u7528\\\\u4e8e\", \"finished\": false}}\\n{\"outputs\": {\"outputs\": \"\\\\u533f\\\\u540d\", \"response\": \"AWS Clean Rooms\\\\u662f\\\\u4e00\\\\u79cd\\\\u6570\\\\u636e\\\\u9690\\\\u79c1\\\\u4fdd\\\\u62a4\\\\u6280\\\\u672f\\\\uff0c\\\\u4f7f\\\\u7528\\\\u8be5\\\\u6280\\\\u672f\\\\uff0c\\\\u53ef\\\\u4ee5\\\\u5c06\\\\u654f\\\\u611f\\\\u6570\\\\u636e\\\\u8f6c\\\\u6362\\\\u4e3a\\\\u4e0d\\\\u53ef\\\\u89c1\\\\u7684\\\\u6570\\\\u636e\\\\u683c\\\\u5f0f\\\\uff0c\\\\u4ece\\\\u800c\\\\u4fdd\\\\u62a4\\\\u6570\\\\u636e\\\\u8d21\\\\u732e\\\\u8005\\\\u548c\\\\u63a5\\\\u6536\\\\u8005\\\\u7684\\\\u4e2a\\\\u4eba\\\\u9690\\\\u79c1\\\\u548c\\\\u5546\\\\u4e1a\\\\u673a\\\\u5bc6\\\\u3002\\\\u56e0\\\\u6b64\\\\uff0c\\\\u53ea\\\\u6709\\\\u63a5\\\\u6536\\\\u8005\\\\u4f1a\\\\u6536\\\\u5230\\\\u67e5\\\\u8be2\\\\u7ed3\\\\u679c\\\\uff0c\\\\u800c\\\\u53d1\\\\u8d77\\\\u8005\\\\u4e0d\\\\u4f1a\\\\u56e0\\\\u6b64\\\\u88ab\\\\u6536\\\\u8d39\\\\u3002\\\\n\\\\n\\\\u9700\\\\u8981\\\\u6ce8\\\\u610f\\\\u7684\\\\u662f\\\\uff0c\\\\u5982\\\\u679c\\\\u4f7f\\\\u7528AWS Clean Rooms\\\\u8fdb\\\\u884c\\\\u6570\\\\u636e\\\\u9690\\\\u79c1\\\\u4fdd\\\\u62a4\\\\uff0c\\\\u8bf7\\\\u786e\\\\u4fdd\\\\u6570\\\\u636e\\\\u8d21\\\\u732e\\\\u8005\\\\u548c\\\\u63a5\\\\u6536\\\\u8005\\\\u90fd\\\\u77e5\\\\u9053\\\\u8be5\\\\u6280\\\\u672f\\\\u7684\\\\u4f7f\\\\u7528\\\\u65b9\\\\u5f0f\\\\uff0c\\\\u4ee5\\\\u53ca\\\\u4efb\\\\u4f55\\\\u53ef\\\\u80fd\\\\u7684\\\\u98ce\\\\u9669\\\\u548c\\\\u9650\\\\u5236\\\\u3002\\\\u6b64\\\\u5916\\\\uff0cAWS Clean Rooms\\\\u4ec5\\\\u9002\\\\u7528\\\\u4e8e\\\\u533f\\\\u540d\", \"finished\": false}}\\n{\"outputs\": {\"outputs\": \"\\\\u67e5\\\\u8be2\", \"response\": \"AWS Clean Rooms\\\\u662f\\\\u4e00\\\\u79cd\\\\u6570\\\\u636e\\\\u9690\\\\u79c1\\\\u4fdd\\\\u62a4\\\\u6280\\\\u672f\\\\uff0c\\\\u4f7f\\\\u7528\\\\u8be5\\\\u6280\\\\u672f\\\\uff0c\\\\u53ef\\\\u4ee5\\\\u5c06\\\\u654f\\\\u611f\\\\u6570\\\\u636e\\\\u8f6c\\\\u6362\\\\u4e3a\\\\u4e0d\\\\u53ef\\\\u89c1\\\\u7684\\\\u6570\\\\u636e\\\\u683c\\\\u5f0f\\\\uff0c\\\\u4ece\\\\u800c\\\\u4fdd\\\\u62a4\\\\u6570\\\\u636e\\\\u8d21\\\\u732e\\\\u8005\\\\u548c\\\\u63a5\\\\u6536\\\\u8005\\\\u7684\\\\u4e2a\\\\u4eba\\\\u9690\\\\u79c1\\\\u548c\\\\u5546\\\\u4e1a\\\\u673a\\\\u5bc6\\\\u3002\\\\u56e0\\\\u6b64\\\\uff0c\\\\u53ea\\\\u6709\\\\u63a5\\\\u6536\\\\u8005\\\\u4f1a\\\\u6536\\\\u5230\\\\u67e5\\\\u8be2\\\\u7ed3\\\\u679c\\\\uff0c\\\\u800c\\\\u53d1\\\\u8d77\\\\u8005\\\\u4e0d\\\\u4f1a\\\\u56e0\\\\u6b64\\\\u88ab\\\\u6536\\\\u8d39\\\\u3002\\\\n\\\\n\\\\u9700\\\\u8981\\\\u6ce8\\\\u610f\\\\u7684\\\\u662f\\\\uff0c\\\\u5982\\\\u679c\\\\u4f7f\\\\u7528AWS Clean Rooms\\\\u8fdb\\\\u884c\\\\u6570\\\\u636e\\\\u9690\\\\u79c1\\\\u4fdd\\\\u62a4\\\\uff0c\\\\u8bf7\\\\u786e\\\\u4fdd\\\\u6570\\\\u636e\\\\u8d21\\\\u732e\\\\u8005\\\\u548c\\\\u63a5\\\\u6536\\\\u8005\\\\u90fd\\\\u77e5\\\\u9053\\\\u8be5\\\\u6280\\\\u672f\\\\u7684\\\\u4f7f\\\\u7528\\\\u65b9\\\\u5f0f\\\\uff0c\\\\u4ee5\\\\u53ca\\\\u4efb\\\\u4f55\\\\u53ef\\\\u80fd\\\\u7684\\\\u98ce\\\\u9669\\\\u548c\\\\u9650\\\\u5236\\\\u3002\\\\u6b64\\\\u5916\\\\uff0cAWS Clean Rooms\\\\u4ec5\\\\u9002\\\\u7528\\\\u4e8e\\\\u533f\\\\u540d\\\\u67e5\\\\u8be2\", \"finished\": false}}\\n{\"outputs\": {\"outputs\": \"\\\\uff0c\", \"response\": \"AWS Clean Rooms\\\\u662f\\\\u4e00\\\\u79cd\\\\u6570\\\\u636e\\\\u9690\\\\u79c1\\\\u4fdd\\\\u62a4\\\\u6280\\\\u672f\\\\uff0c\\\\u4f7f\\\\u7528\\\\u8be5\\\\u6280\\\\u672f\\\\uff0c\\\\u53ef\\\\u4ee5\\\\u5c06\\\\u654f\\\\u611f\\\\u6570\\\\u636e\\\\u8f6c\\\\u6362\\\\u4e3a\\\\u4e0d\\\\u53ef\\\\u89c1\\\\u7684\\\\u6570\\\\u636e\\\\u683c\\\\u5f0f\\\\uff0c\\\\u4ece\\\\u800c\\\\u4fdd\\\\u62a4\\\\u6570\\\\u636e\\\\u8d21\\\\u732e\\\\u8005\\\\u548c\\\\u63a5\\\\u6536\\\\u8005\\\\u7684\\\\u4e2a\\\\u4eba\\\\u9690\\\\u79c1\\\\u548c\\\\u5546\\\\u4e1a\\\\u673a\\\\u5bc6\\\\u3002\\\\u56e0\\\\u6b64\\\\uff0c\\\\u53ea\\\\u6709\\\\u63a5\\\\u6536\\\\u8005\\\\u4f1a\\\\u6536\\\\u5230\\\\u67e5\\\\u8be2\\\\u7ed3\\\\u679c\\\\uff0c\\\\u800c\\\\u53d1\\\\u8d77\\\\u8005\\\\u4e0d\\\\u4f1a\\\\u56e0\\\\u6b64\\\\u88ab\\\\u6536\\\\u8d39\\\\u3002\\\\n\\\\n\\\\u9700\\\\u8981\\\\u6ce8\\\\u610f\\\\u7684\\\\u662f\\\\uff0c\\\\u5982\\\\u679c\\\\u4f7f\\\\u7528AWS Clean Rooms\\\\u8fdb\\\\u884c\\\\u6570\\\\u636e\\\\u9690\\\\u79c1\\\\u4fdd\\\\u62a4\\\\uff0c\\\\u8bf7\\\\u786e\\\\u4fdd\\\\u6570\\\\u636e\\\\u8d21\\\\u732e\\\\u8005\\\\u548c\\\\u63a5\\\\u6536\\\\u8005\\\\u90fd\\\\u77e5\\\\u9053\\\\u8be5\\\\u6280\\\\u672f\\\\u7684\\\\u4f7f\\\\u7528\\\\u65b9\\\\u5f0f\\\\uff0c\\\\u4ee5\\\\u53ca\\\\u4efb\\\\u4f55\\\\u53ef\\\\u80fd\\\\u7684\\\\u98ce\\\\u9669\\\\u548c\\\\u9650\\\\u5236\\\\u3002\\\\u6b64\\\\u5916\\\\uff0cAWS Clean Rooms\\\\u4ec5\\\\u9002\\\\u7528\\\\u4e8e\\\\u533f\\\\u540d\\\\u67e5\\\\u8be2\\\\uff0c\", \"finished\": false}}\\n{\"outputs\": {\"outputs\": \"\\\\u4e0d\", \"response\": \"AWS Clean Rooms\\\\u662f\\\\u4e00\\\\u79cd\\\\u6570\\\\u636e\\\\u9690\\\\u79c1\\\\u4fdd\\\\u62a4\\\\u6280\\\\u672f\\\\uff0c\\\\u4f7f\\\\u7528\\\\u8be5\\\\u6280\\\\u672f\\\\uff0c\\\\u53ef\\\\u4ee5\\\\u5c06\\\\u654f\\\\u611f\\\\u6570\\\\u636e\\\\u8f6c\\\\u6362\\\\u4e3a\\\\u4e0d\\\\u53ef\\\\u89c1\\\\u7684\\\\u6570\\\\u636e\\\\u683c\\\\u5f0f\\\\uff0c\\\\u4ece\\\\u800c\\\\u4fdd\\\\u62a4\\\\u6570\\\\u636e\\\\u8d21\\\\u732e\\\\u8005\\\\u548c\\\\u63a5\\\\u6536\\\\u8005\\\\u7684\\\\u4e2a\\\\u4eba\\\\u9690\\\\u79c1\\\\u548c\\\\u5546\\\\u4e1a\\\\u673a\\\\u5bc6\\\\u3002\\\\u56e0\\\\u6b64\\\\uff0c\\\\u53ea\\\\u6709\\\\u63a5\\\\u6536\\\\u8005\\\\u4f1a\\\\u6536\\\\u5230\\\\u67e5\\\\u8be2\\\\u7ed3\\\\u679c\\\\uff0c\\\\u800c\\\\u53d1\\\\u8d77\\\\u8005\\\\u4e0d\\\\u4f1a\\\\u56e0\\\\u6b64\\\\u88ab\\\\u6536\\\\u8d39\\\\u3002\\\\n\\\\n\\\\u9700\\\\u8981\\\\u6ce8\\\\u610f\\\\u7684\\\\u662f\\\\uff0c\\\\u5982\\\\u679c\\\\u4f7f\\\\u7528AWS Clean Rooms\\\\u8fdb\\\\u884c\\\\u6570\\\\u636e\\\\u9690\\\\u79c1\\\\u4fdd\\\\u62a4\\\\uff0c\\\\u8bf7\\\\u786e\\\\u4fdd\\\\u6570\\\\u636e\\\\u8d21\\\\u732e\\\\u8005\\\\u548c\\\\u63a5\\\\u6536\\\\u8005\\\\u90fd\\\\u77e5\\\\u9053\\\\u8be5\\\\u6280\\\\u672f\\\\u7684\\\\u4f7f\\\\u7528\\\\u65b9\\\\u5f0f\\\\uff0c\\\\u4ee5\\\\u53ca\\\\u4efb\\\\u4f55\\\\u53ef\\\\u80fd\\\\u7684\\\\u98ce\\\\u9669\\\\u548c\\\\u9650\\\\u5236\\\\u3002\\\\u6b64\\\\u5916\\\\uff0cAWS Clean Rooms\\\\u4ec5\\\\u9002\\\\u7528\\\\u4e8e\\\\u533f\\\\u540d\\\\u67e5\\\\u8be2\\\\uff0c\\\\u4e0d\", \"finished\": false}}\\n{\"outputs\": {\"outputs\": \"\\\\u9002\\\\u7528\\\\u4e8e\", \"response\": \"AWS Clean Rooms\\\\u662f\\\\u4e00\\\\u79cd\\\\u6570\\\\u636e\\\\u9690\\\\u79c1\\\\u4fdd\\\\u62a4\\\\u6280\\\\u672f\\\\uff0c\\\\u4f7f\\\\u7528\\\\u8be5\\\\u6280\\\\u672f\\\\uff0c\\\\u53ef\\\\u4ee5\\\\u5c06\\\\u654f\\\\u611f\\\\u6570\\\\u636e\\\\u8f6c\\\\u6362\\\\u4e3a\\\\u4e0d\\\\u53ef\\\\u89c1\\\\u7684\\\\u6570\\\\u636e\\\\u683c\\\\u5f0f\\\\uff0c\\\\u4ece\\\\u800c\\\\u4fdd\\\\u62a4\\\\u6570\\\\u636e\\\\u8d21\\\\u732e\\\\u8005\\\\u548c\\\\u63a5\\\\u6536\\\\u8005\\\\u7684\\\\u4e2a\\\\u4eba\\\\u9690\\\\u79c1\\\\u548c\\\\u5546\\\\u4e1a\\\\u673a\\\\u5bc6\\\\u3002\\\\u56e0\\\\u6b64\\\\uff0c\\\\u53ea\\\\u6709\\\\u63a5\\\\u6536\\\\u8005\\\\u4f1a\\\\u6536\\\\u5230\\\\u67e5\\\\u8be2\\\\u7ed3\\\\u679c\\\\uff0c\\\\u800c\\\\u53d1\\\\u8d77\\\\u8005\\\\u4e0d\\\\u4f1a\\\\u56e0\\\\u6b64\\\\u88ab\\\\u6536\\\\u8d39\\\\u3002\\\\n\\\\n\\\\u9700\\\\u8981\\\\u6ce8\\\\u610f\\\\u7684\\\\u662f\\\\uff0c\\\\u5982\\\\u679c\\\\u4f7f\\\\u7528AWS Clean Rooms\\\\u8fdb\\\\u884c\\\\u6570\\\\u636e\\\\u9690\\\\u79c1\\\\u4fdd\\\\u62a4\\\\uff0c\\\\u8bf7\\\\u786e\\\\u4fdd\\\\u6570\\\\u636e\\\\u8d21\\\\u732e\\\\u8005\\\\u548c\\\\u63a5\\\\u6536\\\\u8005\\\\u90fd\\\\u77e5\\\\u9053\\\\u8be5\\\\u6280\\\\u672f\\\\u7684\\\\u4f7f\\\\u7528\\\\u65b9\\\\u5f0f\\\\uff0c\\\\u4ee5\\\\u53ca\\\\u4efb\\\\u4f55\\\\u53ef\\\\u80fd\\\\u7684\\\\u98ce\\\\u9669\\\\u548c\\\\u9650\\\\u5236\\\\u3002\\\\u6b64\\\\u5916\\\\uff0cAWS Clean Rooms\\\\u4ec5\\\\u9002\\\\u7528\\\\u4e8e\\\\u533f\\\\u540d\\\\u67e5\\\\u8be2\\\\uff0c\\\\u4e0d\\\\u9002\\\\u7528\\\\u4e8e\", \"finished\": false}}\\n{\"outputs\": {\"outputs\": \"\\\\u5b9e\\\\u65f6\", \"response\": \"AWS Clean Rooms\\\\u662f\\\\u4e00\\\\u79cd\\\\u6570\\\\u636e\\\\u9690\\\\u79c1\\\\u4fdd\\\\u62a4\\\\u6280\\\\u672f\\\\uff0c\\\\u4f7f\\\\u7528\\\\u8be5\\\\u6280\\\\u672f\\\\uff0c\\\\u53ef\\\\u4ee5\\\\u5c06\\\\u654f\\\\u611f\\\\u6570\\\\u636e\\\\u8f6c\\\\u6362\\\\u4e3a\\\\u4e0d\\\\u53ef\\\\u89c1\\\\u7684\\\\u6570\\\\u636e\\\\u683c\\\\u5f0f\\\\uff0c\\\\u4ece\\\\u800c\\\\u4fdd\\\\u62a4\\\\u6570\\\\u636e\\\\u8d21\\\\u732e\\\\u8005\\\\u548c\\\\u63a5\\\\u6536\\\\u8005\\\\u7684\\\\u4e2a\\\\u4eba\\\\u9690\\\\u79c1\\\\u548c\\\\u5546\\\\u4e1a\\\\u673a\\\\u5bc6\\\\u3002\\\\u56e0\\\\u6b64\\\\uff0c\\\\u53ea\\\\u6709\\\\u63a5\\\\u6536\\\\u8005\\\\u4f1a\\\\u6536\\\\u5230\\\\u67e5\\\\u8be2\\\\u7ed3\\\\u679c\\\\uff0c\\\\u800c\\\\u53d1\\\\u8d77\\\\u8005\\\\u4e0d\\\\u4f1a\\\\u56e0\\\\u6b64\\\\u88ab\\\\u6536\\\\u8d39\\\\u3002\\\\n\\\\n\\\\u9700\\\\u8981\\\\u6ce8\\\\u610f\\\\u7684\\\\u662f\\\\uff0c\\\\u5982\\\\u679c\\\\u4f7f\\\\u7528AWS Clean Rooms\\\\u8fdb\\\\u884c\\\\u6570\\\\u636e\\\\u9690\\\\u79c1\\\\u4fdd\\\\u62a4\\\\uff0c\\\\u8bf7\\\\u786e\\\\u4fdd\\\\u6570\\\\u636e\\\\u8d21\\\\u732e\\\\u8005\\\\u548c\\\\u63a5\\\\u6536\\\\u8005\\\\u90fd\\\\u77e5\\\\u9053\\\\u8be5\\\\u6280\\\\u672f\\\\u7684\\\\u4f7f\\\\u7528\\\\u65b9\\\\u5f0f\\\\uff0c\\\\u4ee5\\\\u53ca\\\\u4efb\\\\u4f55\\\\u53ef\\\\u80fd\\\\u7684\\\\u98ce\\\\u9669\\\\u548c\\\\u9650\\\\u5236\\\\u3002\\\\u6b64\\\\u5916\\\\uff0cAWS Clean Rooms\\\\u4ec5\\\\u9002\\\\u7528\\\\u4e8e\\\\u533f\\\\u540d\\\\u67e5\\\\u8be2\\\\uff0c\\\\u4e0d\\\\u9002\\\\u7528\\\\u4e8e\\\\u5b9e\\\\u65f6\", \"finished\": false}}\\n{\"outputs\": {\"outputs\": \"\\\\u67e5\\\\u8be2\", \"response\": \"AWS Clean Rooms\\\\u662f\\\\u4e00\\\\u79cd\\\\u6570\\\\u636e\\\\u9690\\\\u79c1\\\\u4fdd\\\\u62a4\\\\u6280\\\\u672f\\\\uff0c\\\\u4f7f\\\\u7528\\\\u8be5\\\\u6280\\\\u672f\\\\uff0c\\\\u53ef\\\\u4ee5\\\\u5c06\\\\u654f\\\\u611f\\\\u6570\\\\u636e\\\\u8f6c\\\\u6362\\\\u4e3a\\\\u4e0d\\\\u53ef\\\\u89c1\\\\u7684\\\\u6570\\\\u636e\\\\u683c\\\\u5f0f\\\\uff0c\\\\u4ece\\\\u800c\\\\u4fdd\\\\u62a4\\\\u6570\\\\u636e\\\\u8d21\\\\u732e\\\\u8005\\\\u548c\\\\u63a5\\\\u6536\\\\u8005\\\\u7684\\\\u4e2a\\\\u4eba\\\\u9690\\\\u79c1\\\\u548c\\\\u5546\\\\u4e1a\\\\u673a\\\\u5bc6\\\\u3002\\\\u56e0\\\\u6b64\\\\uff0c\\\\u53ea\\\\u6709\\\\u63a5\\\\u6536\\\\u8005\\\\u4f1a\\\\u6536\\\\u5230\\\\u67e5\\\\u8be2\\\\u7ed3\\\\u679c\\\\uff0c\\\\u800c\\\\u53d1\\\\u8d77\\\\u8005\\\\u4e0d\\\\u4f1a\\\\u56e0\\\\u6b64\\\\u88ab\\\\u6536\\\\u8d39\\\\u3002\\\\n\\\\n\\\\u9700\\\\u8981\\\\u6ce8\\\\u610f\\\\u7684\\\\u662f\\\\uff0c\\\\u5982\\\\u679c\\\\u4f7f\\\\u7528AWS Clean Rooms\\\\u8fdb\\\\u884c\\\\u6570\\\\u636e\\\\u9690\\\\u79c1\\\\u4fdd\\\\u62a4\\\\uff0c\\\\u8bf7\\\\u786e\\\\u4fdd\\\\u6570\\\\u636e\\\\u8d21\\\\u732e\\\\u8005\\\\u548c\\\\u63a5\\\\u6536\\\\u8005\\\\u90fd\\\\u77e5\\\\u9053\\\\u8be5\\\\u6280\\\\u672f\\\\u7684\\\\u4f7f\\\\u7528\\\\u65b9\\\\u5f0f\\\\uff0c\\\\u4ee5\\\\u53ca\\\\u4efb\\\\u4f55\\\\u53ef\\\\u80fd\\\\u7684\\\\u98ce\\\\u9669\\\\u548c\\\\u9650\\\\u5236\\\\u3002\\\\u6b64\\\\u5916\\\\uff0cAWS Clean Rooms\\\\u4ec5\\\\u9002\\\\u7528\\\\u4e8e\\\\u533f\\\\u540d\\\\u67e5\\\\u8be2\\\\uff0c\\\\u4e0d\\\\u9002\\\\u7528\\\\u4e8e\\\\u5b9e\\\\u65f6\\\\u67e5\\\\u8be2\", \"finished\": false}}\\n{\"outputs\": {\"outputs\": \"\\\\u6216\", \"response\": \"AWS Clean Rooms\\\\u662f\\\\u4e00\\\\u79cd\\\\u6570\\\\u636e\\\\u9690\\\\u79c1\\\\u4fdd\\\\u62a4\\\\u6280\\\\u672f\\\\uff0c\\\\u4f7f\\\\u7528\\\\u8be5\\\\u6280\\\\u672f\\\\uff0c\\\\u53ef\\\\u4ee5\\\\u5c06\\\\u654f\\\\u611f\\\\u6570\\\\u636e\\\\u8f6c\\\\u6362\\\\u4e3a\\\\u4e0d\\\\u53ef\\\\u89c1\\\\u7684\\\\u6570\\\\u636e\\\\u683c\\\\u5f0f\\\\uff0c\\\\u4ece\\\\u800c\\\\u4fdd\\\\u62a4\\\\u6570\\\\u636e\\\\u8d21\\\\u732e\\\\u8005\\\\u548c\\\\u63a5\\\\u6536\\\\u8005\\\\u7684\\\\u4e2a\\\\u4eba\\\\u9690\\\\u79c1\\\\u548c\\\\u5546\\\\u4e1a\\\\u673a\\\\u5bc6\\\\u3002\\\\u56e0\\\\u6b64\\\\uff0c\\\\u53ea\\\\u6709\\\\u63a5\\\\u6536\\\\u8005\\\\u4f1a\\\\u6536\\\\u5230\\\\u67e5\\\\u8be2\\\\u7ed3\\\\u679c\\\\uff0c\\\\u800c\\\\u53d1\\\\u8d77\\\\u8005\\\\u4e0d\\\\u4f1a\\\\u56e0\\\\u6b64\\\\u88ab\\\\u6536\\\\u8d39\\\\u3002\\\\n\\\\n\\\\u9700\\\\u8981\\\\u6ce8\\\\u610f\\\\u7684\\\\u662f\\\\uff0c\\\\u5982\\\\u679c\\\\u4f7f\\\\u7528AWS Clean Rooms\\\\u8fdb\\\\u884c\\\\u6570\\\\u636e\\\\u9690\\\\u79c1\\\\u4fdd\\\\u62a4\\\\uff0c\\\\u8bf7\\\\u786e\\\\u4fdd\\\\u6570\\\\u636e\\\\u8d21\\\\u732e\\\\u8005\\\\u548c\\\\u63a5\\\\u6536\\\\u8005\\\\u90fd\\\\u77e5\\\\u9053\\\\u8be5\\\\u6280\\\\u672f\\\\u7684\\\\u4f7f\\\\u7528\\\\u65b9\\\\u5f0f\\\\uff0c\\\\u4ee5\\\\u53ca\\\\u4efb\\\\u4f55\\\\u53ef\\\\u80fd\\\\u7684\\\\u98ce\\\\u9669\\\\u548c\\\\u9650\\\\u5236\\\\u3002\\\\u6b64\\\\u5916\\\\uff0cAWS Clean Rooms\\\\u4ec5\\\\u9002\\\\u7528\\\\u4e8e\\\\u533f\\\\u540d\\\\u67e5\\\\u8be2\\\\uff0c\\\\u4e0d\\\\u9002\\\\u7528\\\\u4e8e\\\\u5b9e\\\\u65f6\\\\u67e5\\\\u8be2\\\\u6216\", \"finished\": false}}\\n{\"outputs\": {\"outputs\": \"\\\\u5e26\\\\u6709\", \"response\": \"AWS Clean Rooms\\\\u662f\\\\u4e00\\\\u79cd\\\\u6570\\\\u636e\\\\u9690\\\\u79c1\\\\u4fdd\\\\u62a4\\\\u6280\\\\u672f\\\\uff0c\\\\u4f7f\\\\u7528\\\\u8be5\\\\u6280\\\\u672f\\\\uff0c\\\\u53ef\\\\u4ee5\\\\u5c06\\\\u654f\\\\u611f\\\\u6570\\\\u636e\\\\u8f6c\\\\u6362\\\\u4e3a\\\\u4e0d\\\\u53ef\\\\u89c1\\\\u7684\\\\u6570\\\\u636e\\\\u683c\\\\u5f0f\\\\uff0c\\\\u4ece\\\\u800c\\\\u4fdd\\\\u62a4\\\\u6570\\\\u636e\\\\u8d21\\\\u732e\\\\u8005\\\\u548c\\\\u63a5\\\\u6536\\\\u8005\\\\u7684\\\\u4e2a\\\\u4eba\\\\u9690\\\\u79c1\\\\u548c\\\\u5546\\\\u4e1a\\\\u673a\\\\u5bc6\\\\u3002\\\\u56e0\\\\u6b64\\\\uff0c\\\\u53ea\\\\u6709\\\\u63a5\\\\u6536\\\\u8005\\\\u4f1a\\\\u6536\\\\u5230\\\\u67e5\\\\u8be2\\\\u7ed3\\\\u679c\\\\uff0c\\\\u800c\\\\u53d1\\\\u8d77\\\\u8005\\\\u4e0d\\\\u4f1a\\\\u56e0\\\\u6b64\\\\u88ab\\\\u6536\\\\u8d39\\\\u3002\\\\n\\\\n\\\\u9700\\\\u8981\\\\u6ce8\\\\u610f\\\\u7684\\\\u662f\\\\uff0c\\\\u5982\\\\u679c\\\\u4f7f\\\\u7528AWS Clean Rooms\\\\u8fdb\\\\u884c\\\\u6570\\\\u636e\\\\u9690\\\\u79c1\\\\u4fdd\\\\u62a4\\\\uff0c\\\\u8bf7\\\\u786e\\\\u4fdd\\\\u6570\\\\u636e\\\\u8d21\\\\u732e\\\\u8005\\\\u548c\\\\u63a5\\\\u6536\\\\u8005\\\\u90fd\\\\u77e5\\\\u9053\\\\u8be5\\\\u6280\\\\u672f\\\\u7684\\\\u4f7f\\\\u7528\\\\u65b9\\\\u5f0f\\\\uff0c\\\\u4ee5\\\\u53ca\\\\u4efb\\\\u4f55\\\\u53ef\\\\u80fd\\\\u7684\\\\u98ce\\\\u9669\\\\u548c\\\\u9650\\\\u5236\\\\u3002\\\\u6b64\\\\u5916\\\\uff0cAWS Clean Rooms\\\\u4ec5\\\\u9002\\\\u7528\\\\u4e8e\\\\u533f\\\\u540d\\\\u67e5\\\\u8be2\\\\uff0c\\\\u4e0d\\\\u9002\\\\u7528\\\\u4e8e\\\\u5b9e\\\\u65f6\\\\u67e5\\\\u8be2\\\\u6216\\\\u5e26\\\\u6709\", \"finished\": false}}\\n{\"outputs\": {\"outputs\": \"\\\\u4e2a\\\\u4eba\", \"response\": \"AWS Clean Rooms\\\\u662f\\\\u4e00\\\\u79cd\\\\u6570\\\\u636e\\\\u9690\\\\u79c1\\\\u4fdd\\\\u62a4\\\\u6280\\\\u672f\\\\uff0c\\\\u4f7f\\\\u7528\\\\u8be5\\\\u6280\\\\u672f\\\\uff0c\\\\u53ef\\\\u4ee5\\\\u5c06\\\\u654f\\\\u611f\\\\u6570\\\\u636e\\\\u8f6c\\\\u6362\\\\u4e3a\\\\u4e0d\\\\u53ef\\\\u89c1\\\\u7684\\\\u6570\\\\u636e\\\\u683c\\\\u5f0f\\\\uff0c\\\\u4ece\\\\u800c\\\\u4fdd\\\\u62a4\\\\u6570\\\\u636e\\\\u8d21\\\\u732e\\\\u8005\\\\u548c\\\\u63a5\\\\u6536\\\\u8005\\\\u7684\\\\u4e2a\\\\u4eba\\\\u9690\\\\u79c1\\\\u548c\\\\u5546\\\\u4e1a\\\\u673a\\\\u5bc6\\\\u3002\\\\u56e0\\\\u6b64\\\\uff0c\\\\u53ea\\\\u6709\\\\u63a5\\\\u6536\\\\u8005\\\\u4f1a\\\\u6536\\\\u5230\\\\u67e5\\\\u8be2\\\\u7ed3\\\\u679c\\\\uff0c\\\\u800c\\\\u53d1\\\\u8d77\\\\u8005\\\\u4e0d\\\\u4f1a\\\\u56e0\\\\u6b64\\\\u88ab\\\\u6536\\\\u8d39\\\\u3002\\\\n\\\\n\\\\u9700\\\\u8981\\\\u6ce8\\\\u610f\\\\u7684\\\\u662f\\\\uff0c\\\\u5982\\\\u679c\\\\u4f7f\\\\u7528AWS Clean Rooms\\\\u8fdb\\\\u884c\\\\u6570\\\\u636e\\\\u9690\\\\u79c1\\\\u4fdd\\\\u62a4\\\\uff0c\\\\u8bf7\\\\u786e\\\\u4fdd\\\\u6570\\\\u636e\\\\u8d21\\\\u732e\\\\u8005\\\\u548c\\\\u63a5\\\\u6536\\\\u8005\\\\u90fd\\\\u77e5\\\\u9053\\\\u8be5\\\\u6280\\\\u672f\\\\u7684\\\\u4f7f\\\\u7528\\\\u65b9\\\\u5f0f\\\\uff0c\\\\u4ee5\\\\u53ca\\\\u4efb\\\\u4f55\\\\u53ef\\\\u80fd\\\\u7684\\\\u98ce\\\\u9669\\\\u548c\\\\u9650\\\\u5236\\\\u3002\\\\u6b64\\\\u5916\\\\uff0cAWS Clean Rooms\\\\u4ec5\\\\u9002\\\\u7528\\\\u4e8e\\\\u533f\\\\u540d\\\\u67e5\\\\u8be2\\\\uff0c\\\\u4e0d\\\\u9002\\\\u7528\\\\u4e8e\\\\u5b9e\\\\u65f6\\\\u67e5\\\\u8be2\\\\u6216\\\\u5e26\\\\u6709\\\\u4e2a\\\\u4eba\", \"finished\": false}}\\n{\"outputs\": {\"outputs\": \"\\\\u8eab\\\\u4efd\\\\u4fe1\\\\u606f\", \"response\": \"AWS Clean Rooms\\\\u662f\\\\u4e00\\\\u79cd\\\\u6570\\\\u636e\\\\u9690\\\\u79c1\\\\u4fdd\\\\u62a4\\\\u6280\\\\u672f\\\\uff0c\\\\u4f7f\\\\u7528\\\\u8be5\\\\u6280\\\\u672f\\\\uff0c\\\\u53ef\\\\u4ee5\\\\u5c06\\\\u654f\\\\u611f\\\\u6570\\\\u636e\\\\u8f6c\\\\u6362\\\\u4e3a\\\\u4e0d\\\\u53ef\\\\u89c1\\\\u7684\\\\u6570\\\\u636e\\\\u683c\\\\u5f0f\\\\uff0c\\\\u4ece\\\\u800c\\\\u4fdd\\\\u62a4\\\\u6570\\\\u636e\\\\u8d21\\\\u732e\\\\u8005\\\\u548c\\\\u63a5\\\\u6536\\\\u8005\\\\u7684\\\\u4e2a\\\\u4eba\\\\u9690\\\\u79c1\\\\u548c\\\\u5546\\\\u4e1a\\\\u673a\\\\u5bc6\\\\u3002\\\\u56e0\\\\u6b64\\\\uff0c\\\\u53ea\\\\u6709\\\\u63a5\\\\u6536\\\\u8005\\\\u4f1a\\\\u6536\\\\u5230\\\\u67e5\\\\u8be2\\\\u7ed3\\\\u679c\\\\uff0c\\\\u800c\\\\u53d1\\\\u8d77\\\\u8005\\\\u4e0d\\\\u4f1a\\\\u56e0\\\\u6b64\\\\u88ab\\\\u6536\\\\u8d39\\\\u3002\\\\n\\\\n\\\\u9700\\\\u8981\\\\u6ce8\\\\u610f\\\\u7684\\\\u662f\\\\uff0c\\\\u5982\\\\u679c\\\\u4f7f\\\\u7528AWS Clean Rooms\\\\u8fdb\\\\u884c\\\\u6570\\\\u636e\\\\u9690\\\\u79c1\\\\u4fdd\\\\u62a4\\\\uff0c\\\\u8bf7\\\\u786e\\\\u4fdd\\\\u6570\\\\u636e\\\\u8d21\\\\u732e\\\\u8005\\\\u548c\\\\u63a5\\\\u6536\\\\u8005\\\\u90fd\\\\u77e5\\\\u9053\\\\u8be5\\\\u6280\\\\u672f\\\\u7684\\\\u4f7f\\\\u7528\\\\u65b9\\\\u5f0f\\\\uff0c\\\\u4ee5\\\\u53ca\\\\u4efb\\\\u4f55\\\\u53ef\\\\u80fd\\\\u7684\\\\u98ce\\\\u9669\\\\u548c\\\\u9650\\\\u5236\\\\u3002\\\\u6b64\\\\u5916\\\\uff0cAWS Clean Rooms\\\\u4ec5\\\\u9002\\\\u7528\\\\u4e8e\\\\u533f\\\\u540d\\\\u67e5\\\\u8be2\\\\uff0c\\\\u4e0d\\\\u9002\\\\u7528\\\\u4e8e\\\\u5b9e\\\\u65f6\\\\u67e5\\\\u8be2\\\\u6216\\\\u5e26\\\\u6709\\\\u4e2a\\\\u4eba\\\\u8eab\\\\u4efd\\\\u4fe1\\\\u606f\", \"finished\": false}}\\n{\"outputs\": {\"outputs\": \"\\\\u7684\", \"response\": \"AWS Clean Rooms\\\\u662f\\\\u4e00\\\\u79cd\\\\u6570\\\\u636e\\\\u9690\\\\u79c1\\\\u4fdd\\\\u62a4\\\\u6280\\\\u672f\\\\uff0c\\\\u4f7f\\\\u7528\\\\u8be5\\\\u6280\\\\u672f\\\\uff0c\\\\u53ef\\\\u4ee5\\\\u5c06\\\\u654f\\\\u611f\\\\u6570\\\\u636e\\\\u8f6c\\\\u6362\\\\u4e3a\\\\u4e0d\\\\u53ef\\\\u89c1\\\\u7684\\\\u6570\\\\u636e\\\\u683c\\\\u5f0f\\\\uff0c\\\\u4ece\\\\u800c\\\\u4fdd\\\\u62a4\\\\u6570\\\\u636e\\\\u8d21\\\\u732e\\\\u8005\\\\u548c\\\\u63a5\\\\u6536\\\\u8005\\\\u7684\\\\u4e2a\\\\u4eba\\\\u9690\\\\u79c1\\\\u548c\\\\u5546\\\\u4e1a\\\\u673a\\\\u5bc6\\\\u3002\\\\u56e0\\\\u6b64\\\\uff0c\\\\u53ea\\\\u6709\\\\u63a5\\\\u6536\\\\u8005\\\\u4f1a\\\\u6536\\\\u5230\\\\u67e5\\\\u8be2\\\\u7ed3\\\\u679c\\\\uff0c\\\\u800c\\\\u53d1\\\\u8d77\\\\u8005\\\\u4e0d\\\\u4f1a\\\\u56e0\\\\u6b64\\\\u88ab\\\\u6536\\\\u8d39\\\\u3002\\\\n\\\\n\\\\u9700\\\\u8981\\\\u6ce8\\\\u610f\\\\u7684\\\\u662f\\\\uff0c\\\\u5982\\\\u679c\\\\u4f7f\\\\u7528AWS Clean Rooms\\\\u8fdb\\\\u884c\\\\u6570\\\\u636e\\\\u9690\\\\u79c1\\\\u4fdd\\\\u62a4\\\\uff0c\\\\u8bf7\\\\u786e\\\\u4fdd\\\\u6570\\\\u636e\\\\u8d21\\\\u732e\\\\u8005\\\\u548c\\\\u63a5\\\\u6536\\\\u8005\\\\u90fd\\\\u77e5\\\\u9053\\\\u8be5\\\\u6280\\\\u672f\\\\u7684\\\\u4f7f\\\\u7528\\\\u65b9\\\\u5f0f\\\\uff0c\\\\u4ee5\\\\u53ca\\\\u4efb\\\\u4f55\\\\u53ef\\\\u80fd\\\\u7684\\\\u98ce\\\\u9669\\\\u548c\\\\u9650\\\\u5236\\\\u3002\\\\u6b64\\\\u5916\\\\uff0cAWS Clean Rooms\\\\u4ec5\\\\u9002\\\\u7528\\\\u4e8e\\\\u533f\\\\u540d\\\\u67e5\\\\u8be2\\\\uff0c\\\\u4e0d\\\\u9002\\\\u7528\\\\u4e8e\\\\u5b9e\\\\u65f6\\\\u67e5\\\\u8be2\\\\u6216\\\\u5e26\\\\u6709\\\\u4e2a\\\\u4eba\\\\u8eab\\\\u4efd\\\\u4fe1\\\\u606f\\\\u7684\", \"finished\": false}}\\n{\"outputs\": {\"outputs\": \"\\\\u67e5\\\\u8be2\", \"response\": \"AWS Clean Rooms\\\\u662f\\\\u4e00\\\\u79cd\\\\u6570\\\\u636e\\\\u9690\\\\u79c1\\\\u4fdd\\\\u62a4\\\\u6280\\\\u672f\\\\uff0c\\\\u4f7f\\\\u7528\\\\u8be5\\\\u6280\\\\u672f\\\\uff0c\\\\u53ef\\\\u4ee5\\\\u5c06\\\\u654f\\\\u611f\\\\u6570\\\\u636e\\\\u8f6c\\\\u6362\\\\u4e3a\\\\u4e0d\\\\u53ef\\\\u89c1\\\\u7684\\\\u6570\\\\u636e\\\\u683c\\\\u5f0f\\\\uff0c\\\\u4ece\\\\u800c\\\\u4fdd\\\\u62a4\\\\u6570\\\\u636e\\\\u8d21\\\\u732e\\\\u8005\\\\u548c\\\\u63a5\\\\u6536\\\\u8005\\\\u7684\\\\u4e2a\\\\u4eba\\\\u9690\\\\u79c1\\\\u548c\\\\u5546\\\\u4e1a\\\\u673a\\\\u5bc6\\\\u3002\\\\u56e0\\\\u6b64\\\\uff0c\\\\u53ea\\\\u6709\\\\u63a5\\\\u6536\\\\u8005\\\\u4f1a\\\\u6536\\\\u5230\\\\u67e5\\\\u8be2\\\\u7ed3\\\\u679c\\\\uff0c\\\\u800c\\\\u53d1\\\\u8d77\\\\u8005\\\\u4e0d\\\\u4f1a\\\\u56e0\\\\u6b64\\\\u88ab\\\\u6536\\\\u8d39\\\\u3002\\\\n\\\\n\\\\u9700\\\\u8981\\\\u6ce8\\\\u610f\\\\u7684\\\\u662f\\\\uff0c\\\\u5982\\\\u679c\\\\u4f7f\\\\u7528AWS Clean Rooms\\\\u8fdb\\\\u884c\\\\u6570\\\\u636e\\\\u9690\\\\u79c1\\\\u4fdd\\\\u62a4\\\\uff0c\\\\u8bf7\\\\u786e\\\\u4fdd\\\\u6570\\\\u636e\\\\u8d21\\\\u732e\\\\u8005\\\\u548c\\\\u63a5\\\\u6536\\\\u8005\\\\u90fd\\\\u77e5\\\\u9053\\\\u8be5\\\\u6280\\\\u672f\\\\u7684\\\\u4f7f\\\\u7528\\\\u65b9\\\\u5f0f\\\\uff0c\\\\u4ee5\\\\u53ca\\\\u4efb\\\\u4f55\\\\u53ef\\\\u80fd\\\\u7684\\\\u98ce\\\\u9669\\\\u548c\\\\u9650\\\\u5236\\\\u3002\\\\u6b64\\\\u5916\\\\uff0cAWS Clean Rooms\\\\u4ec5\\\\u9002\\\\u7528\\\\u4e8e\\\\u533f\\\\u540d\\\\u67e5\\\\u8be2\\\\uff0c\\\\u4e0d\\\\u9002\\\\u7528\\\\u4e8e\\\\u5b9e\\\\u65f6\\\\u67e5\\\\u8be2\\\\u6216\\\\u5e26\\\\u6709\\\\u4e2a\\\\u4eba\\\\u8eab\\\\u4efd\\\\u4fe1\\\\u606f\\\\u7684\\\\u67e5\\\\u8be2\", \"finished\": false}}\\n{\"outputs\": {\"outputs\": \"\\\\u3002\", \"response\": \"AWS Clean Rooms\\\\u662f\\\\u4e00\\\\u79cd\\\\u6570\\\\u636e\\\\u9690\\\\u79c1\\\\u4fdd\\\\u62a4\\\\u6280\\\\u672f\\\\uff0c\\\\u4f7f\\\\u7528\\\\u8be5\\\\u6280\\\\u672f\\\\uff0c\\\\u53ef\\\\u4ee5\\\\u5c06\\\\u654f\\\\u611f\\\\u6570\\\\u636e\\\\u8f6c\\\\u6362\\\\u4e3a\\\\u4e0d\\\\u53ef\\\\u89c1\\\\u7684\\\\u6570\\\\u636e\\\\u683c\\\\u5f0f\\\\uff0c\\\\u4ece\\\\u800c\\\\u4fdd\\\\u62a4\\\\u6570\\\\u636e\\\\u8d21\\\\u732e\\\\u8005\\\\u548c\\\\u63a5\\\\u6536\\\\u8005\\\\u7684\\\\u4e2a\\\\u4eba\\\\u9690\\\\u79c1\\\\u548c\\\\u5546\\\\u4e1a\\\\u673a\\\\u5bc6\\\\u3002\\\\u56e0\\\\u6b64\\\\uff0c\\\\u53ea\\\\u6709\\\\u63a5\\\\u6536\\\\u8005\\\\u4f1a\\\\u6536\\\\u5230\\\\u67e5\\\\u8be2\\\\u7ed3\\\\u679c\\\\uff0c\\\\u800c\\\\u53d1\\\\u8d77\\\\u8005\\\\u4e0d\\\\u4f1a\\\\u56e0\\\\u6b64\\\\u88ab\\\\u6536\\\\u8d39\\\\u3002\\\\n\\\\n\\\\u9700\\\\u8981\\\\u6ce8\\\\u610f\\\\u7684\\\\u662f\\\\uff0c\\\\u5982\\\\u679c\\\\u4f7f\\\\u7528AWS Clean Rooms\\\\u8fdb\\\\u884c\\\\u6570\\\\u636e\\\\u9690\\\\u79c1\\\\u4fdd\\\\u62a4\\\\uff0c\\\\u8bf7\\\\u786e\\\\u4fdd\\\\u6570\\\\u636e\\\\u8d21\\\\u732e\\\\u8005\\\\u548c\\\\u63a5\\\\u6536\\\\u8005\\\\u90fd\\\\u77e5\\\\u9053\\\\u8be5\\\\u6280\\\\u672f\\\\u7684\\\\u4f7f\\\\u7528\\\\u65b9\\\\u5f0f\\\\uff0c\\\\u4ee5\\\\u53ca\\\\u4efb\\\\u4f55\\\\u53ef\\\\u80fd\\\\u7684\\\\u98ce\\\\u9669\\\\u548c\\\\u9650\\\\u5236\\\\u3002\\\\u6b64\\\\u5916\\\\uff0cAWS Clean Rooms\\\\u4ec5\\\\u9002\\\\u7528\\\\u4e8e\\\\u533f\\\\u540d\\\\u67e5\\\\u8be2\\\\uff0c\\\\u4e0d\\\\u9002\\\\u7528\\\\u4e8e\\\\u5b9e\\\\u65f6\\\\u67e5\\\\u8be2\\\\u6216\\\\u5e26\\\\u6709\\\\u4e2a\\\\u4eba\\\\u8eab\\\\u4efd\\\\u4fe1\\\\u606f\\\\u7684\\\\u67e5\\\\u8be2\\\\u3002\", \"finished\": false}}\\n{\"outputs\": {\"query\": \"AWS Clean Rooms \\\\u7684FAQ\\\\u6587\\\\u6863\\\\u6709\\\\u63d0\\\\u5230 Q: \\\\u662f\\\\u5426\\\\u53d1\\\\u8d77\\\\u8005\\\\u548c\\\\u6570\\\\u636e\\\\u8d21\\\\u732e\\\\u8005\\\\u90fd\\\\u4f1a\\\\u88ab\\\\u6536\\\\u8d39\\\\uff1fA: \\\\u662f\\\\u5355\\\\u65b9\\\\u6536\\\\u8d39\\\\uff0c\\\\u53ea\\\\u6709\\\\u67e5\\\\u8be2\\\\u7684\\\\u63a5\\\\u6536\\\\u65b9\\\\u4f1a\\\\u6536\\\\u8d39\\\\u3002\\\\n\\\\u8bf7\\\\u95eeAWS Clean Rooms\\\\u662f\\\\u591a\\\\u65b9\\\\u90fd\\\\u4f1a\\\\u6536\\\\u8d39\\\\u5417\\\\uff1f\\\\n\", \"outputs\": \"[DONE]\", \"response\": \"AWS Clean Rooms\\\\u662f\\\\u4e00\\\\u79cd\\\\u6570\\\\u636e\\\\u9690\\\\u79c1\\\\u4fdd\\\\u62a4\\\\u6280\\\\u672f\\\\uff0c\\\\u4f7f\\\\u7528\\\\u8be5\\\\u6280\\\\u672f\\\\uff0c\\\\u53ef\\\\u4ee5\\\\u5c06\\\\u654f\\\\u611f\\\\u6570\\\\u636e\\\\u8f6c\\\\u6362\\\\u4e3a\\\\u4e0d\\\\u53ef\\\\u89c1\\\\u7684\\\\u6570\\\\u636e\\\\u683c\\\\u5f0f\\\\uff0c\\\\u4ece\\\\u800c\\\\u4fdd\\\\u62a4\\\\u6570\\\\u636e\\\\u8d21\\\\u732e\\\\u8005\\\\u548c\\\\u63a5\\\\u6536\\\\u8005\\\\u7684\\\\u4e2a\\\\u4eba\\\\u9690\\\\u79c1\\\\u548c\\\\u5546\\\\u4e1a\\\\u673a\\\\u5bc6\\\\u3002\\\\u56e0\\\\u6b64\\\\uff0c\\\\u53ea\\\\u6709\\\\u63a5\\\\u6536\\\\u8005\\\\u4f1a\\\\u6536\\\\u5230\\\\u67e5\\\\u8be2\\\\u7ed3\\\\u679c\\\\uff0c\\\\u800c\\\\u53d1\\\\u8d77\\\\u8005\\\\u4e0d\\\\u4f1a\\\\u56e0\\\\u6b64\\\\u88ab\\\\u6536\\\\u8d39\\\\u3002\\\\n\\\\n\\\\u9700\\\\u8981\\\\u6ce8\\\\u610f\\\\u7684\\\\u662f\\\\uff0c\\\\u5982\\\\u679c\\\\u4f7f\\\\u7528AWS Clean Rooms\\\\u8fdb\\\\u884c\\\\u6570\\\\u636e\\\\u9690\\\\u79c1\\\\u4fdd\\\\u62a4\\\\uff0c\\\\u8bf7\\\\u786e\\\\u4fdd\\\\u6570\\\\u636e\\\\u8d21\\\\u732e\\\\u8005\\\\u548c\\\\u63a5\\\\u6536\\\\u8005\\\\u90fd\\\\u77e5\\\\u9053\\\\u8be5\\\\u6280\\\\u672f\\\\u7684\\\\u4f7f\\\\u7528\\\\u65b9\\\\u5f0f\\\\uff0c\\\\u4ee5\\\\u53ca\\\\u4efb\\\\u4f55\\\\u53ef\\\\u80fd\\\\u7684\\\\u98ce\\\\u9669\\\\u548c\\\\u9650\\\\u5236\\\\u3002\\\\u6b64\\\\u5916\\\\uff0cAWS Clean Rooms\\\\u4ec5\\\\u9002\\\\u7528\\\\u4e8e\\\\u533f\\\\u540d\\\\u67e5\\\\u8be2\\\\uff0c\\\\u4e0d\\\\u9002\\\\u7528\\\\u4e8e\\\\u5b9e\\\\u65f6\\\\u67e5\\\\u8be2\\\\u6216\\\\u5e26\\\\u6709\\\\u4e2a\\\\u4eba\\\\u8eab\\\\u4efd\\\\u4fe1\\\\u606f\\\\u7684\\\\u67e5\\\\u8be2\\\\u3002\", \"history\": [[\"AWS Clean Rooms \\\\u7684FAQ\\\\u6587\\\\u6863\\\\u6709\\\\u63d0\\\\u5230 Q: \\\\u662f\\\\u5426\\\\u53d1\\\\u8d77\\\\u8005\\\\u548c\\\\u6570\\\\u636e\\\\u8d21\\\\u732e\\\\u8005\\\\u90fd\\\\u4f1a\\\\u88ab\\\\u6536\\\\u8d39\\\\uff1fA: \\\\u662f\\\\u5355\\\\u65b9\\\\u6536\\\\u8d39\\\\uff0c\\\\u53ea\\\\u6709\\\\u67e5\\\\u8be2\\\\u7684\\\\u63a5\\\\u6536\\\\u65b9\\\\u4f1a\\\\u6536\\\\u8d39\\\\u3002\\\\n\\\\u8bf7\\\\u95eeAWS Clean Rooms\\\\u662f\\\\u591a\\\\u65b9\\\\u90fd\\\\u4f1a\\\\u6536\\\\u8d39\\\\u5417\\\\uff1f\\\\n\", \"AWS Clean Rooms\\\\u662f\\\\u4e00\\\\u79cd\\\\u6570\\\\u636e\\\\u9690\\\\u79c1\\\\u4fdd\\\\u62a4\\\\u6280\\\\u672f\\\\uff0c\\\\u4f7f\\\\u7528\\\\u8be5\\\\u6280\\\\u672f\\\\uff0c\\\\u53ef\\\\u4ee5\\\\u5c06\\\\u654f\\\\u611f\\\\u6570\\\\u636e\\\\u8f6c\\\\u6362\\\\u4e3a\\\\u4e0d\\\\u53ef\\\\u89c1\\\\u7684\\\\u6570\\\\u636e\\\\u683c\\\\u5f0f\\\\uff0c\\\\u4ece\\\\u800c\\\\u4fdd\\\\u62a4\\\\u6570\\\\u636e\\\\u8d21\\\\u732e\\\\u8005\\\\u548c\\\\u63a5\\\\u6536\\\\u8005\\\\u7684\\\\u4e2a\\\\u4eba\\\\u9690\\\\u79c1\\\\u548c\\\\u5546\\\\u4e1a\\\\u673a\\\\u5bc6\\\\u3002\\\\u56e0\\\\u6b64\\\\uff0c\\\\u53ea\\\\u6709\\\\u63a5\\\\u6536\\\\u8005\\\\u4f1a\\\\u6536\\\\u5230\\\\u67e5\\\\u8be2\\\\u7ed3\\\\u679c\\\\uff0c\\\\u800c\\\\u53d1\\\\u8d77\\\\u8005\\\\u4e0d\\\\u4f1a\\\\u56e0\\\\u6b64\\\\u88ab\\\\u6536\\\\u8d39\\\\u3002\\\\n\\\\n\\\\u9700\\\\u8981\\\\u6ce8\\\\u610f\\\\u7684\\\\u662f\\\\uff0c\\\\u5982\\\\u679c\\\\u4f7f\\\\u7528AWS Clean Rooms\\\\u8fdb\\\\u884c\\\\u6570\\\\u636e\\\\u9690\\\\u79c1\\\\u4fdd\\\\u62a4\\\\uff0c\\\\u8bf7\\\\u786e\\\\u4fdd\\\\u6570\\\\u636e\\\\u8d21\\\\u732e\\\\u8005\\\\u548c\\\\u63a5\\\\u6536\\\\u8005\\\\u90fd\\\\u77e5\\\\u9053\\\\u8be5\\\\u6280\\\\u672f\\\\u7684\\\\u4f7f\\\\u7528\\\\u65b9\\\\u5f0f\\\\uff0c\\\\u4ee5\\\\u53ca\\\\u4efb\\\\u4f55\\\\u53ef\\\\u80fd\\\\u7684\\\\u98ce\\\\u9669\\\\u548c\\\\u9650\\\\u5236\\\\u3002\\\\u6b64\\\\u5916\\\\uff0cAWS Clean Rooms\\\\u4ec5\\\\u9002\\\\u7528\\\\u4e8e\\\\u533f\\\\u540d\\\\u67e5\\\\u8be2\\\\uff0c\\\\u4e0d\\\\u9002\\\\u7528\\\\u4e8e\\\\u5b9e\\\\u65f6\\\\u67e5\\\\u8be2\\\\u6216\\\\u5e26\\\\u6709\\\\u4e2a\\\\u4eba\\\\u8eab\\\\u4efd\\\\u4fe1\\\\u606f\\\\u7684\\\\u67e5\\\\u8be2\\\\u3002\"]], \"finished\": true}}\\n'"
      ]
     },
     "execution_count": 87,
     "metadata": {},
     "output_type": "execute_result"
    }
   ],
   "source": [
    "prompts1 = \"\"\"AWS Clean Rooms 的FAQ文档有提到 Q: 是否发起者和数据贡献者都会被收费？A: 是单方收费，只有查询的接收方会收费。\n",
    "请问AWS Clean Rooms是多方都会收费吗？\n",
    "\"\"\"\n",
    "response_model = smr_client.invoke_endpoint(\n",
    "            EndpointName=endpoint_name,\n",
    "            Body=json.dumps(\n",
    "            {\n",
    "                \"inputs\": prompts1,\n",
    "                \"parameters\": parameters,\n",
    "                \"history\" : []\n",
    "            }\n",
    "            ),\n",
    "            ContentType=\"application/json\",\n",
    "        )\n",
    "\n",
    "response_model['Body'].read().decode('utf8')"
   ]
  },
  {
   "cell_type": "code",
   "execution_count": 48,
   "id": "2833f1c1-0c26-4c52-9e33-276ae48a9bce",
   "metadata": {
    "tags": []
   },
   "outputs": [
    {
     "data": {
      "text/plain": [
       "'{\\n  \"outputs\":\"根据AWS Clean Rooms的FAQ文档，每个协作AWS Clean Rooms最多支持五名参与方。因此，一个AWS Clean Rooms协作中可以有最多五名参与方。\",\\n  \"history\":[\\n    [\\n      \"AWS Clean Rooms 的FAQ文档有提到:\\\\nQuestion: AWS Clean Rooms的一个协作中可以有多少个参与方? \\\\nAnswer: 每个协作AWS Clean Rooms最多支持五名参与方。\\\\n\\\\n\\\\n请问AWS Clean Rooms的一个协作中可以有多少个参与方?\",\\n      \"根据AWS Clean Rooms的FAQ文档，每个协作AWS Clean Rooms最多支持五名参与方。因此，一个AWS Clean Rooms协作中可以有最多五名参与方。\"\\n    ]\\n  ]\\n}'"
      ]
     },
     "execution_count": 48,
     "metadata": {},
     "output_type": "execute_result"
    }
   ],
   "source": [
    "prompts1 = \"\"\"AWS Clean Rooms 的FAQ文档有提到:\\nQuestion: AWS Clean Rooms的一个协作中可以有多少个参与方? \\nAnswer: 每个协作AWS Clean Rooms最多支持五名参与方。\\n\\n\n",
    "请问AWS Clean Rooms的一个协作中可以有多少个参与方?\"\"\"\n",
    "\n",
    "response_model = smr_client.invoke_endpoint(\n",
    "            EndpointName=endpoint_name,\n",
    "            Body=json.dumps(\n",
    "            {\n",
    "                \"inputs\": prompts1,\n",
    "                \"parameters\": parameters,\n",
    "                \"history\" : []\n",
    "            }\n",
    "            ),\n",
    "            ContentType=\"application/json\",\n",
    "        )\n",
    "\n",
    "response_model['Body'].read().decode('utf8')"
   ]
  },
  {
   "cell_type": "markdown",
   "id": "21c8b703-e312-4964-8be9-a754468e07cd",
   "metadata": {},
   "source": [
    "#### 清除模型Endpoint和config"
   ]
  },
  {
   "cell_type": "code",
   "execution_count": null,
   "id": "f70d116f-4fb1-4f04-8732-3d6e4fb520de",
   "metadata": {
    "tags": []
   },
   "outputs": [],
   "source": [
    "# !aws sagemaker delete-endpoint --endpoint-name bloomz-7b1-mt-2023-04-13-11-02-25-553-endpoint"
   ]
  },
  {
   "cell_type": "code",
   "execution_count": null,
   "id": "184e4d1d-3d62-43df-9b17-5d64ece928bd",
   "metadata": {
    "tags": []
   },
   "outputs": [],
   "source": [
    "# !aws sagemaker delete-endpoint-config --endpoint-config-name bloomz-7b1-mt-2023-04-13-11-02-25-553-config"
   ]
  }
 ],
 "metadata": {
  "availableInstances": [
   {
    "_defaultOrder": 0,
    "_isFastLaunch": true,
    "category": "General purpose",
    "gpuNum": 0,
    "hideHardwareSpecs": false,
    "memoryGiB": 4,
    "name": "ml.t3.medium",
    "vcpuNum": 2
   },
   {
    "_defaultOrder": 1,
    "_isFastLaunch": false,
    "category": "General purpose",
    "gpuNum": 0,
    "hideHardwareSpecs": false,
    "memoryGiB": 8,
    "name": "ml.t3.large",
    "vcpuNum": 2
   },
   {
    "_defaultOrder": 2,
    "_isFastLaunch": false,
    "category": "General purpose",
    "gpuNum": 0,
    "hideHardwareSpecs": false,
    "memoryGiB": 16,
    "name": "ml.t3.xlarge",
    "vcpuNum": 4
   },
   {
    "_defaultOrder": 3,
    "_isFastLaunch": false,
    "category": "General purpose",
    "gpuNum": 0,
    "hideHardwareSpecs": false,
    "memoryGiB": 32,
    "name": "ml.t3.2xlarge",
    "vcpuNum": 8
   },
   {
    "_defaultOrder": 4,
    "_isFastLaunch": true,
    "category": "General purpose",
    "gpuNum": 0,
    "hideHardwareSpecs": false,
    "memoryGiB": 8,
    "name": "ml.m5.large",
    "vcpuNum": 2
   },
   {
    "_defaultOrder": 5,
    "_isFastLaunch": false,
    "category": "General purpose",
    "gpuNum": 0,
    "hideHardwareSpecs": false,
    "memoryGiB": 16,
    "name": "ml.m5.xlarge",
    "vcpuNum": 4
   },
   {
    "_defaultOrder": 6,
    "_isFastLaunch": false,
    "category": "General purpose",
    "gpuNum": 0,
    "hideHardwareSpecs": false,
    "memoryGiB": 32,
    "name": "ml.m5.2xlarge",
    "vcpuNum": 8
   },
   {
    "_defaultOrder": 7,
    "_isFastLaunch": false,
    "category": "General purpose",
    "gpuNum": 0,
    "hideHardwareSpecs": false,
    "memoryGiB": 64,
    "name": "ml.m5.4xlarge",
    "vcpuNum": 16
   },
   {
    "_defaultOrder": 8,
    "_isFastLaunch": false,
    "category": "General purpose",
    "gpuNum": 0,
    "hideHardwareSpecs": false,
    "memoryGiB": 128,
    "name": "ml.m5.8xlarge",
    "vcpuNum": 32
   },
   {
    "_defaultOrder": 9,
    "_isFastLaunch": false,
    "category": "General purpose",
    "gpuNum": 0,
    "hideHardwareSpecs": false,
    "memoryGiB": 192,
    "name": "ml.m5.12xlarge",
    "vcpuNum": 48
   },
   {
    "_defaultOrder": 10,
    "_isFastLaunch": false,
    "category": "General purpose",
    "gpuNum": 0,
    "hideHardwareSpecs": false,
    "memoryGiB": 256,
    "name": "ml.m5.16xlarge",
    "vcpuNum": 64
   },
   {
    "_defaultOrder": 11,
    "_isFastLaunch": false,
    "category": "General purpose",
    "gpuNum": 0,
    "hideHardwareSpecs": false,
    "memoryGiB": 384,
    "name": "ml.m5.24xlarge",
    "vcpuNum": 96
   },
   {
    "_defaultOrder": 12,
    "_isFastLaunch": false,
    "category": "General purpose",
    "gpuNum": 0,
    "hideHardwareSpecs": false,
    "memoryGiB": 8,
    "name": "ml.m5d.large",
    "vcpuNum": 2
   },
   {
    "_defaultOrder": 13,
    "_isFastLaunch": false,
    "category": "General purpose",
    "gpuNum": 0,
    "hideHardwareSpecs": false,
    "memoryGiB": 16,
    "name": "ml.m5d.xlarge",
    "vcpuNum": 4
   },
   {
    "_defaultOrder": 14,
    "_isFastLaunch": false,
    "category": "General purpose",
    "gpuNum": 0,
    "hideHardwareSpecs": false,
    "memoryGiB": 32,
    "name": "ml.m5d.2xlarge",
    "vcpuNum": 8
   },
   {
    "_defaultOrder": 15,
    "_isFastLaunch": false,
    "category": "General purpose",
    "gpuNum": 0,
    "hideHardwareSpecs": false,
    "memoryGiB": 64,
    "name": "ml.m5d.4xlarge",
    "vcpuNum": 16
   },
   {
    "_defaultOrder": 16,
    "_isFastLaunch": false,
    "category": "General purpose",
    "gpuNum": 0,
    "hideHardwareSpecs": false,
    "memoryGiB": 128,
    "name": "ml.m5d.8xlarge",
    "vcpuNum": 32
   },
   {
    "_defaultOrder": 17,
    "_isFastLaunch": false,
    "category": "General purpose",
    "gpuNum": 0,
    "hideHardwareSpecs": false,
    "memoryGiB": 192,
    "name": "ml.m5d.12xlarge",
    "vcpuNum": 48
   },
   {
    "_defaultOrder": 18,
    "_isFastLaunch": false,
    "category": "General purpose",
    "gpuNum": 0,
    "hideHardwareSpecs": false,
    "memoryGiB": 256,
    "name": "ml.m5d.16xlarge",
    "vcpuNum": 64
   },
   {
    "_defaultOrder": 19,
    "_isFastLaunch": false,
    "category": "General purpose",
    "gpuNum": 0,
    "hideHardwareSpecs": false,
    "memoryGiB": 384,
    "name": "ml.m5d.24xlarge",
    "vcpuNum": 96
   },
   {
    "_defaultOrder": 20,
    "_isFastLaunch": false,
    "category": "General purpose",
    "gpuNum": 0,
    "hideHardwareSpecs": true,
    "memoryGiB": 0,
    "name": "ml.geospatial.interactive",
    "supportedImageNames": [
     "sagemaker-geospatial-v1-0"
    ],
    "vcpuNum": 0
   },
   {
    "_defaultOrder": 21,
    "_isFastLaunch": true,
    "category": "Compute optimized",
    "gpuNum": 0,
    "hideHardwareSpecs": false,
    "memoryGiB": 4,
    "name": "ml.c5.large",
    "vcpuNum": 2
   },
   {
    "_defaultOrder": 22,
    "_isFastLaunch": false,
    "category": "Compute optimized",
    "gpuNum": 0,
    "hideHardwareSpecs": false,
    "memoryGiB": 8,
    "name": "ml.c5.xlarge",
    "vcpuNum": 4
   },
   {
    "_defaultOrder": 23,
    "_isFastLaunch": false,
    "category": "Compute optimized",
    "gpuNum": 0,
    "hideHardwareSpecs": false,
    "memoryGiB": 16,
    "name": "ml.c5.2xlarge",
    "vcpuNum": 8
   },
   {
    "_defaultOrder": 24,
    "_isFastLaunch": false,
    "category": "Compute optimized",
    "gpuNum": 0,
    "hideHardwareSpecs": false,
    "memoryGiB": 32,
    "name": "ml.c5.4xlarge",
    "vcpuNum": 16
   },
   {
    "_defaultOrder": 25,
    "_isFastLaunch": false,
    "category": "Compute optimized",
    "gpuNum": 0,
    "hideHardwareSpecs": false,
    "memoryGiB": 72,
    "name": "ml.c5.9xlarge",
    "vcpuNum": 36
   },
   {
    "_defaultOrder": 26,
    "_isFastLaunch": false,
    "category": "Compute optimized",
    "gpuNum": 0,
    "hideHardwareSpecs": false,
    "memoryGiB": 96,
    "name": "ml.c5.12xlarge",
    "vcpuNum": 48
   },
   {
    "_defaultOrder": 27,
    "_isFastLaunch": false,
    "category": "Compute optimized",
    "gpuNum": 0,
    "hideHardwareSpecs": false,
    "memoryGiB": 144,
    "name": "ml.c5.18xlarge",
    "vcpuNum": 72
   },
   {
    "_defaultOrder": 28,
    "_isFastLaunch": false,
    "category": "Compute optimized",
    "gpuNum": 0,
    "hideHardwareSpecs": false,
    "memoryGiB": 192,
    "name": "ml.c5.24xlarge",
    "vcpuNum": 96
   },
   {
    "_defaultOrder": 29,
    "_isFastLaunch": true,
    "category": "Accelerated computing",
    "gpuNum": 1,
    "hideHardwareSpecs": false,
    "memoryGiB": 16,
    "name": "ml.g4dn.xlarge",
    "vcpuNum": 4
   },
   {
    "_defaultOrder": 30,
    "_isFastLaunch": false,
    "category": "Accelerated computing",
    "gpuNum": 1,
    "hideHardwareSpecs": false,
    "memoryGiB": 32,
    "name": "ml.g4dn.2xlarge",
    "vcpuNum": 8
   },
   {
    "_defaultOrder": 31,
    "_isFastLaunch": false,
    "category": "Accelerated computing",
    "gpuNum": 1,
    "hideHardwareSpecs": false,
    "memoryGiB": 64,
    "name": "ml.g4dn.4xlarge",
    "vcpuNum": 16
   },
   {
    "_defaultOrder": 32,
    "_isFastLaunch": false,
    "category": "Accelerated computing",
    "gpuNum": 1,
    "hideHardwareSpecs": false,
    "memoryGiB": 128,
    "name": "ml.g4dn.8xlarge",
    "vcpuNum": 32
   },
   {
    "_defaultOrder": 33,
    "_isFastLaunch": false,
    "category": "Accelerated computing",
    "gpuNum": 4,
    "hideHardwareSpecs": false,
    "memoryGiB": 192,
    "name": "ml.g4dn.12xlarge",
    "vcpuNum": 48
   },
   {
    "_defaultOrder": 34,
    "_isFastLaunch": false,
    "category": "Accelerated computing",
    "gpuNum": 1,
    "hideHardwareSpecs": false,
    "memoryGiB": 256,
    "name": "ml.g4dn.16xlarge",
    "vcpuNum": 64
   },
   {
    "_defaultOrder": 35,
    "_isFastLaunch": false,
    "category": "Accelerated computing",
    "gpuNum": 1,
    "hideHardwareSpecs": false,
    "memoryGiB": 61,
    "name": "ml.p3.2xlarge",
    "vcpuNum": 8
   },
   {
    "_defaultOrder": 36,
    "_isFastLaunch": false,
    "category": "Accelerated computing",
    "gpuNum": 4,
    "hideHardwareSpecs": false,
    "memoryGiB": 244,
    "name": "ml.p3.8xlarge",
    "vcpuNum": 32
   },
   {
    "_defaultOrder": 37,
    "_isFastLaunch": false,
    "category": "Accelerated computing",
    "gpuNum": 8,
    "hideHardwareSpecs": false,
    "memoryGiB": 488,
    "name": "ml.p3.16xlarge",
    "vcpuNum": 64
   },
   {
    "_defaultOrder": 38,
    "_isFastLaunch": false,
    "category": "Accelerated computing",
    "gpuNum": 8,
    "hideHardwareSpecs": false,
    "memoryGiB": 768,
    "name": "ml.p3dn.24xlarge",
    "vcpuNum": 96
   },
   {
    "_defaultOrder": 39,
    "_isFastLaunch": false,
    "category": "Memory Optimized",
    "gpuNum": 0,
    "hideHardwareSpecs": false,
    "memoryGiB": 16,
    "name": "ml.r5.large",
    "vcpuNum": 2
   },
   {
    "_defaultOrder": 40,
    "_isFastLaunch": false,
    "category": "Memory Optimized",
    "gpuNum": 0,
    "hideHardwareSpecs": false,
    "memoryGiB": 32,
    "name": "ml.r5.xlarge",
    "vcpuNum": 4
   },
   {
    "_defaultOrder": 41,
    "_isFastLaunch": false,
    "category": "Memory Optimized",
    "gpuNum": 0,
    "hideHardwareSpecs": false,
    "memoryGiB": 64,
    "name": "ml.r5.2xlarge",
    "vcpuNum": 8
   },
   {
    "_defaultOrder": 42,
    "_isFastLaunch": false,
    "category": "Memory Optimized",
    "gpuNum": 0,
    "hideHardwareSpecs": false,
    "memoryGiB": 128,
    "name": "ml.r5.4xlarge",
    "vcpuNum": 16
   },
   {
    "_defaultOrder": 43,
    "_isFastLaunch": false,
    "category": "Memory Optimized",
    "gpuNum": 0,
    "hideHardwareSpecs": false,
    "memoryGiB": 256,
    "name": "ml.r5.8xlarge",
    "vcpuNum": 32
   },
   {
    "_defaultOrder": 44,
    "_isFastLaunch": false,
    "category": "Memory Optimized",
    "gpuNum": 0,
    "hideHardwareSpecs": false,
    "memoryGiB": 384,
    "name": "ml.r5.12xlarge",
    "vcpuNum": 48
   },
   {
    "_defaultOrder": 45,
    "_isFastLaunch": false,
    "category": "Memory Optimized",
    "gpuNum": 0,
    "hideHardwareSpecs": false,
    "memoryGiB": 512,
    "name": "ml.r5.16xlarge",
    "vcpuNum": 64
   },
   {
    "_defaultOrder": 46,
    "_isFastLaunch": false,
    "category": "Memory Optimized",
    "gpuNum": 0,
    "hideHardwareSpecs": false,
    "memoryGiB": 768,
    "name": "ml.r5.24xlarge",
    "vcpuNum": 96
   },
   {
    "_defaultOrder": 47,
    "_isFastLaunch": false,
    "category": "Accelerated computing",
    "gpuNum": 1,
    "hideHardwareSpecs": false,
    "memoryGiB": 16,
    "name": "ml.g5.xlarge",
    "vcpuNum": 4
   },
   {
    "_defaultOrder": 48,
    "_isFastLaunch": false,
    "category": "Accelerated computing",
    "gpuNum": 1,
    "hideHardwareSpecs": false,
    "memoryGiB": 32,
    "name": "ml.g5.2xlarge",
    "vcpuNum": 8
   },
   {
    "_defaultOrder": 49,
    "_isFastLaunch": false,
    "category": "Accelerated computing",
    "gpuNum": 1,
    "hideHardwareSpecs": false,
    "memoryGiB": 64,
    "name": "ml.g5.4xlarge",
    "vcpuNum": 16
   },
   {
    "_defaultOrder": 50,
    "_isFastLaunch": false,
    "category": "Accelerated computing",
    "gpuNum": 1,
    "hideHardwareSpecs": false,
    "memoryGiB": 128,
    "name": "ml.g5.8xlarge",
    "vcpuNum": 32
   },
   {
    "_defaultOrder": 51,
    "_isFastLaunch": false,
    "category": "Accelerated computing",
    "gpuNum": 1,
    "hideHardwareSpecs": false,
    "memoryGiB": 256,
    "name": "ml.g5.16xlarge",
    "vcpuNum": 64
   },
   {
    "_defaultOrder": 52,
    "_isFastLaunch": false,
    "category": "Accelerated computing",
    "gpuNum": 4,
    "hideHardwareSpecs": false,
    "memoryGiB": 192,
    "name": "ml.g5.12xlarge",
    "vcpuNum": 48
   },
   {
    "_defaultOrder": 53,
    "_isFastLaunch": false,
    "category": "Accelerated computing",
    "gpuNum": 4,
    "hideHardwareSpecs": false,
    "memoryGiB": 384,
    "name": "ml.g5.24xlarge",
    "vcpuNum": 96
   },
   {
    "_defaultOrder": 54,
    "_isFastLaunch": false,
    "category": "Accelerated computing",
    "gpuNum": 8,
    "hideHardwareSpecs": false,
    "memoryGiB": 768,
    "name": "ml.g5.48xlarge",
    "vcpuNum": 192
   }
  ],
  "instance_type": "ml.t3.medium",
  "kernelspec": {
   "display_name": "conda_pytorch_p39",
   "language": "python",
   "name": "conda_pytorch_p39"
  },
  "language_info": {
   "codemirror_mode": {
    "name": "ipython",
    "version": 3
   },
   "file_extension": ".py",
   "mimetype": "text/x-python",
   "name": "python",
   "nbconvert_exporter": "python",
   "pygments_lexer": "ipython3",
   "version": "3.9.15"
  }
 },
 "nbformat": 4,
 "nbformat_minor": 5
}
